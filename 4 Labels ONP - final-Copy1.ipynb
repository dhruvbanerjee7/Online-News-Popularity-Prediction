{
 "cells": [
  {
   "cell_type": "code",
   "execution_count": 3,
   "metadata": {},
   "outputs": [],
   "source": [
    "#import Library"
   ]
  },
  {
   "cell_type": "code",
   "execution_count": 4,
   "metadata": {},
   "outputs": [],
   "source": [
    "import pandas as pd\n",
    "import numpy as np\n",
    "import seaborn as sns\n",
    "import matplotlib.pyplot as plt\n",
    "pd.options.mode.chained_assignment = None  # default='warn'\n",
    "from sklearn.metrics import accuracy_score, confusion_matrix, roc_auc_score, f1_score,classification_report, recall_score, precision_score"
   ]
  },
  {
   "cell_type": "markdown",
   "metadata": {},
   "source": [
    "Read the Dataset"
   ]
  },
  {
   "cell_type": "code",
   "execution_count": 5,
   "metadata": {},
   "outputs": [
    {
     "data": {
      "text/html": [
       "<div>\n",
       "<style scoped>\n",
       "    .dataframe tbody tr th:only-of-type {\n",
       "        vertical-align: middle;\n",
       "    }\n",
       "\n",
       "    .dataframe tbody tr th {\n",
       "        vertical-align: top;\n",
       "    }\n",
       "\n",
       "    .dataframe thead th {\n",
       "        text-align: right;\n",
       "    }\n",
       "</style>\n",
       "<table border=\"1\" class=\"dataframe\">\n",
       "  <thead>\n",
       "    <tr style=\"text-align: right;\">\n",
       "      <th></th>\n",
       "      <th>timedelta</th>\n",
       "      <th>n_tokens_title</th>\n",
       "      <th>n_tokens_content</th>\n",
       "      <th>n_unique_tokens</th>\n",
       "      <th>n_non_stop_words</th>\n",
       "      <th>n_non_stop_unique_tokens</th>\n",
       "      <th>num_hrefs</th>\n",
       "      <th>num_self_hrefs</th>\n",
       "      <th>num_imgs</th>\n",
       "      <th>num_videos</th>\n",
       "      <th>...</th>\n",
       "      <th>min_positive_polarity</th>\n",
       "      <th>max_positive_polarity</th>\n",
       "      <th>avg_negative_polarity</th>\n",
       "      <th>min_negative_polarity</th>\n",
       "      <th>max_negative_polarity</th>\n",
       "      <th>title_subjectivity</th>\n",
       "      <th>title_sentiment_polarity</th>\n",
       "      <th>abs_title_subjectivity</th>\n",
       "      <th>abs_title_sentiment_polarity</th>\n",
       "      <th>shares</th>\n",
       "    </tr>\n",
       "  </thead>\n",
       "  <tbody>\n",
       "    <tr>\n",
       "      <th>0</th>\n",
       "      <td>731</td>\n",
       "      <td>12</td>\n",
       "      <td>219</td>\n",
       "      <td>0.663594</td>\n",
       "      <td>1.0</td>\n",
       "      <td>0.815385</td>\n",
       "      <td>4</td>\n",
       "      <td>2</td>\n",
       "      <td>1</td>\n",
       "      <td>0</td>\n",
       "      <td>...</td>\n",
       "      <td>0.1</td>\n",
       "      <td>0.7</td>\n",
       "      <td>-0.35</td>\n",
       "      <td>-0.6</td>\n",
       "      <td>-0.2</td>\n",
       "      <td>0.5</td>\n",
       "      <td>-0.1875</td>\n",
       "      <td>0.0</td>\n",
       "      <td>0.1875</td>\n",
       "      <td>593</td>\n",
       "    </tr>\n",
       "  </tbody>\n",
       "</table>\n",
       "<p>1 rows × 60 columns</p>\n",
       "</div>"
      ],
      "text/plain": [
       "   timedelta  n_tokens_title  n_tokens_content  n_unique_tokens  \\\n",
       "0        731              12               219         0.663594   \n",
       "\n",
       "   n_non_stop_words  n_non_stop_unique_tokens  num_hrefs  num_self_hrefs  \\\n",
       "0               1.0                  0.815385          4               2   \n",
       "\n",
       "   num_imgs  num_videos  ...  min_positive_polarity  max_positive_polarity  \\\n",
       "0         1           0  ...                    0.1                    0.7   \n",
       "\n",
       "   avg_negative_polarity  min_negative_polarity  max_negative_polarity  \\\n",
       "0                  -0.35                   -0.6                   -0.2   \n",
       "\n",
       "   title_subjectivity  title_sentiment_polarity  abs_title_subjectivity  \\\n",
       "0                 0.5                   -0.1875                     0.0   \n",
       "\n",
       "   abs_title_sentiment_polarity  shares  \n",
       "0                        0.1875     593  \n",
       "\n",
       "[1 rows x 60 columns]"
      ]
     },
     "execution_count": 5,
     "metadata": {},
     "output_type": "execute_result"
    }
   ],
   "source": [
    "df = pd.read_csv(\"/Users/anupbanerjee/Downloads/Project 3/OnlineNewsPopularity/OnlineNewsPopularity.csv\")\n",
    "df.drop([\"url\"], axis = 1,inplace =True)\n",
    "df.head(1)"
   ]
  },
  {
   "cell_type": "code",
   "execution_count": 6,
   "metadata": {},
   "outputs": [],
   "source": [
    "df3 = df.copy(deep=True)\n",
    "from sklearn.preprocessing import KBinsDiscretizer\n",
    "# perform a k-merandom_search.best_params_ans discretization transform of the dataset\n",
    "data = df3.values[:,-1:]\n",
    "trans = KBinsDiscretizer(n_bins=4, encode='ordinal', strategy='quantile')\n",
    "data = trans.fit_transform(data)\n",
    "# convert the array back to a dataframe\n",
    "df3[\"share_class\"] = data"
   ]
  },
  {
   "cell_type": "markdown",
   "metadata": {},
   "source": [
    "### Outlier Treatment"
   ]
  },
  {
   "cell_type": "code",
   "execution_count": 7,
   "metadata": {},
   "outputs": [],
   "source": [
    "c1 = df3[df3['share_class'] == 0]\n",
    "c2 = df3[df3['share_class'] == 1]\n",
    "c3 = df3[df3['share_class'] == 2]\n",
    "c4 = df3[df3['share_class'] == 3]"
   ]
  },
  {
   "cell_type": "code",
   "execution_count": 8,
   "metadata": {},
   "outputs": [],
   "source": [
    "for i in (c1.drop([\"share_class\",\"shares\"], axis = 1).columns):\n",
    "    Q1 = c1[i].quantile(0.25)\n",
    "    Q3 = c1[i].quantile(0.75)\n",
    "    IQR = Q3 - Q1\n",
    "    \n",
    "    c1[i][c1[i]>(Q3+1.5*IQR)] = Q3\n",
    "    c1[i][c1[i]<(Q1-1.5*IQR)] = Q1\n",
    "    \n",
    "    \n",
    "for i in (c2.drop([\"share_class\",\"shares\"], axis = 1).columns):\n",
    "    Q1 = c2[i].quantile(0.25)\n",
    "    Q3 = c2[i].quantile(0.75)\n",
    "    IQR = Q3 - Q1\n",
    "    \n",
    "    c2[i][c2[i]>(Q3+1.5*IQR)] = Q3\n",
    "    c2[i][c2[i]<(Q1-1.5*IQR)] = Q1\n",
    "\n",
    "for i in (c3.drop([\"share_class\",\"shares\"], axis = 1).columns):\n",
    "    Q1 = c3[i].quantile(0.25)\n",
    "    Q3 = c3[i].quantile(0.75)\n",
    "    IQR = Q3 - Q1\n",
    "    \n",
    "    c3[i][c3[i]>(Q3+1.5*IQR)] = Q3\n",
    "    c3[i][c3[i]<(Q1-1.5*IQR)] = Q1\n",
    "\n",
    "for i in (c4.drop([\"share_class\",\"shares\"], axis = 1).columns):\n",
    "    Q1 = c4[i].quantile(0.25)\n",
    "    Q3 = c4[i].quantile(0.75)\n",
    "    IQR = Q3 - Q1\n",
    "    \n",
    "    c4[i][c4[i]>(Q3+1.5*IQR)] = Q3\n",
    "    c4[i][c4[i]<(Q1-1.5*IQR)] = Q1"
   ]
  },
  {
   "cell_type": "code",
   "execution_count": 9,
   "metadata": {},
   "outputs": [],
   "source": [
    "datasets = [c1,c2,c3,c4]\n",
    "dfd = pd.concat(datasets)"
   ]
  },
  {
   "cell_type": "markdown",
   "metadata": {},
   "source": [
    "## Feature Engineering"
   ]
  },
  {
   "cell_type": "code",
   "execution_count": 10,
   "metadata": {},
   "outputs": [
    {
     "data": {
      "text/html": [
       "<div>\n",
       "<style scoped>\n",
       "    .dataframe tbody tr th:only-of-type {\n",
       "        vertical-align: middle;\n",
       "    }\n",
       "\n",
       "    .dataframe tbody tr th {\n",
       "        vertical-align: top;\n",
       "    }\n",
       "\n",
       "    .dataframe thead th {\n",
       "        text-align: right;\n",
       "    }\n",
       "</style>\n",
       "<table border=\"1\" class=\"dataframe\">\n",
       "  <thead>\n",
       "    <tr style=\"text-align: right;\">\n",
       "      <th></th>\n",
       "      <th>n_tokens_content_class</th>\n",
       "      <th>n_tokens_title_class</th>\n",
       "      <th>num_imgs_class</th>\n",
       "      <th>num_hrefs_class</th>\n",
       "      <th>num_self_hrefs_class</th>\n",
       "    </tr>\n",
       "  </thead>\n",
       "  <tbody>\n",
       "    <tr>\n",
       "      <th>0</th>\n",
       "      <td>low</td>\n",
       "      <td>high</td>\n",
       "      <td>low</td>\n",
       "      <td>low</td>\n",
       "      <td>low</td>\n",
       "    </tr>\n",
       "  </tbody>\n",
       "</table>\n",
       "</div>"
      ],
      "text/plain": [
       "  n_tokens_content_class n_tokens_title_class num_imgs_class num_hrefs_class  \\\n",
       "0                    low                 high            low             low   \n",
       "\n",
       "  num_self_hrefs_class  \n",
       "0                  low  "
      ]
     },
     "execution_count": 10,
     "metadata": {},
     "output_type": "execute_result"
    }
   ],
   "source": [
    "c = ['n_tokens_content','n_tokens_title','num_imgs',\"num_hrefs\",\"num_self_hrefs\"]\n",
    "c1 = []\n",
    "c2= []\n",
    "for i in c: \n",
    "    dfd.loc[(dfd[i] <= np.percentile(dfd[i],33)), str(i)+\"_class\"] = \"low\"\n",
    "    dfd.loc[(dfd[i] >np.percentile(dfd[i],33)) & (dfd[i]<= np.percentile(dfd[i],67)), str(i)+\"_class\"] = \"Medium\"\n",
    "    dfd.loc[(dfd[i] >np.percentile(dfd[i],67)), str(i)+\"_class\"] = \"high\"\n",
    "    c1.append(str(i)+\"_class\")\n",
    "    c2.append(i)\n",
    "dfd[c1].head(1)"
   ]
  },
  {
   "cell_type": "code",
   "execution_count": 11,
   "metadata": {},
   "outputs": [
    {
     "data": {
      "text/plain": [
       "2.0    11165\n",
       "3.0     9989\n",
       "0.0     9903\n",
       "1.0     8587\n",
       "Name: share_class, dtype: int64"
      ]
     },
     "execution_count": 11,
     "metadata": {},
     "output_type": "execute_result"
    }
   ],
   "source": [
    "dfd[\"share_class\"].value_counts()"
   ]
  },
  {
   "cell_type": "markdown",
   "metadata": {},
   "source": [
    "### Classification of Share class"
   ]
  },
  {
   "cell_type": "code",
   "execution_count": 12,
   "metadata": {},
   "outputs": [],
   "source": [
    "from sklearn.preprocessing import LabelEncoder\n",
    "le = LabelEncoder()\n",
    "l = [\"share_class\"]\n",
    "for i in l:\n",
    "    dfd[i] = le.fit_transform(dfd[i])"
   ]
  },
  {
   "cell_type": "markdown",
   "metadata": {},
   "source": [
    "### Modelling"
   ]
  },
  {
   "cell_type": "code",
   "execution_count": 13,
   "metadata": {},
   "outputs": [],
   "source": [
    "X = dfd.drop([\"n_tokens_title\",\"n_tokens_content\",\"shares\",\"share_class\",'num_hrefs',\n",
    "              'num_self_hrefs', 'num_imgs',\"shares\",'share_class'], axis = 1)\n",
    "y = dfd[\"share_class\"]"
   ]
  },
  {
   "cell_type": "code",
   "execution_count": 14,
   "metadata": {},
   "outputs": [],
   "source": [
    "X = pd.get_dummies(X,columns = [\"n_tokens_content_class\",\"n_tokens_title_class\",'num_hrefs_class',\n",
    "                                'num_self_hrefs_class','num_imgs_class'])"
   ]
  },
  {
   "cell_type": "code",
   "execution_count": null,
   "metadata": {},
   "outputs": [],
   "source": []
  },
  {
   "cell_type": "markdown",
   "metadata": {},
   "source": [
    "### Standard Scaler"
   ]
  },
  {
   "cell_type": "code",
   "execution_count": 15,
   "metadata": {},
   "outputs": [],
   "source": [
    "from sklearn.preprocessing import StandardScaler\n",
    "sc = StandardScaler()\n",
    "#for i not in \n",
    "X_std = sc.fit_transform(X)\n",
    "X1 = pd.DataFrame(X_std,columns = X.columns)"
   ]
  },
  {
   "cell_type": "code",
   "execution_count": 16,
   "metadata": {},
   "outputs": [],
   "source": [
    "lb_class = LabelEncoder()\n",
    "le = ['weekday_is_monday', 'weekday_is_tuesday', 'weekday_is_wednesday',\n",
    "       'weekday_is_thursday', 'weekday_is_friday', 'weekday_is_saturday',\n",
    "       'weekday_is_sunday','data_channel_is_lifestyle', 'data_channel_is_entertainment',\n",
    "       'data_channel_is_bus', 'data_channel_is_socmed', 'data_channel_is_tech',\n",
    "       'data_channel_is_world']\n",
    "for i in le:\n",
    "    X1[i] = lb_class.fit_transform(X1[i])"
   ]
  },
  {
   "cell_type": "code",
   "execution_count": 18,
   "metadata": {},
   "outputs": [],
   "source": [
    "from sklearn.model_selection import train_test_split\n",
    "X_train, X_test, y_train, y_test = train_test_split(X1,y,test_size = 0.3, random_state = 42, stratify = y)"
   ]
  },
  {
   "cell_type": "markdown",
   "metadata": {},
   "source": [
    "### Logistic Regression"
   ]
  },
  {
   "cell_type": "code",
   "execution_count": 19,
   "metadata": {},
   "outputs": [],
   "source": [
    "from sklearn.linear_model import LogisticRegression\n",
    "from sklearn.metrics import accuracy_score, confusion_matrix, roc_auc_score, f1_score,classification_report, recall_score, precision_score\n",
    "\n",
    "lr = LogisticRegression(max_iter= 4000)\n",
    "lr.fit(X_train,y_train)\n",
    "y_train_predl = lr.predict(X_train)\n",
    "y_train_probl = lr.predict_proba(X_train)\n",
    "y_test_predl = lr.predict(X_test)\n",
    "y_test_probl = lr.predict_proba(X_test)"
   ]
  },
  {
   "cell_type": "code",
   "execution_count": 20,
   "metadata": {},
   "outputs": [
    {
     "name": "stdout",
     "output_type": "stream",
     "text": [
      "Accuracy 0.6026666666666667\n",
      "AUC train 0.8481035987522784\n",
      "F1 train 0.597231682720183\n",
      "recall 0.6026666666666667\n",
      "Precision 0.5960529773988643\n",
      "\n",
      "\n",
      "Accuracy 0.6030771817723222\n",
      "AUC test 0.8500240376443701\n",
      "F1 test 0.5977910261396412\n",
      "recall 0.6030771817723222\n",
      "Precision 0.5967243084236568\n"
     ]
    }
   ],
   "source": [
    "from sklearn.metrics import classification_report, recall_score, precision_score, f1_score\n",
    "print(\"Accuracy\",accuracy_score(y_train,y_train_predl))\n",
    "print(\"AUC train\", roc_auc_score(y_train,y_train_probl, multi_class = \"ovo\"))\n",
    "print(\"F1 train\", f1_score(y_train,y_train_predl,average = 'weighted'))\n",
    "print(\"recall\",recall_score(y_train,y_train_predl,average = 'weighted'))\n",
    "print(\"Precision\",precision_score(y_train,y_train_predl,average = 'weighted'))\n",
    "\n",
    "print(\"\\n\")\n",
    "print(\"Accuracy\",accuracy_score(y_test,y_test_predl))\n",
    "print(\"AUC test\",roc_auc_score(y_test,y_test_probl,multi_class = \"ovo\"))\n",
    "print(\"F1 test\",f1_score(y_test,y_test_predl,average = 'weighted'))\n",
    "print(\"recall\",recall_score(y_test,y_test_predl,average = 'weighted'))\n",
    "print(\"Precision\",precision_score(y_test,y_test_predl,average = 'weighted'))"
   ]
  },
  {
   "cell_type": "code",
   "execution_count": 104,
   "metadata": {},
   "outputs": [
    {
     "data": {
      "image/png": "[encoded data removed]",
      "text/plain": [
       "<Figure size 864x360 with 4 Axes>"
      ]
     },
     "metadata": {
      "needs_background": "light"
     },
     "output_type": "display_data"
    }
   ],
   "source": [
    "fig,axes = plt.subplots(1,2,figsize = (12,5))\n",
    "sns.heatmap(confusion_matrix(y_test,y_test_pred),fmt = 'd',annot = True, ax = axes[0])\n",
    "sns.heatmap(confusion_matrix(y_train,y_train_pred),fmt = 'd',annot = True,ax = axes[1])\n",
    "#plt.savefig(\"Logistic median.png\")\n",
    "plt.show()"
   ]
  },
  {
   "cell_type": "markdown",
   "metadata": {},
   "source": [
    "### Logistic Regression with Gridsearch"
   ]
  },
  {
   "cell_type": "code",
   "execution_count": 21,
   "metadata": {},
   "outputs": [
    {
     "name": "stdout",
     "output_type": "stream",
     "text": [
      "tuned hpyerparameters :(best parameters)  {'C': 1000.0, 'penalty': 'l2'}\n",
      "accuracy : 0.5993513513513513\n"
     ]
    }
   ],
   "source": [
    "from sklearn.model_selection import GridSearchCV\n",
    "from sklearn.linear_model import LogisticRegression\n",
    "grid={\"C\":np.logspace(-3,3,7), \"penalty\":[\"l2\"]}# l1 lasso l2 ridge\n",
    "logreg=LogisticRegression(max_iter = 4000)\n",
    "logreg_cv=GridSearchCV(logreg,grid,cv=10)\n",
    "logreg_cv.fit(X_train,y_train)\n",
    "\n",
    "print(\"tuned hpyerparameters :(best parameters) \",logreg_cv.best_params_)\n",
    "print(\"accuracy :\",logreg_cv.best_score_)"
   ]
  },
  {
   "cell_type": "code",
   "execution_count": 25,
   "metadata": {},
   "outputs": [
    {
     "name": "stdout",
     "output_type": "stream",
     "text": [
      "Accuracy 0.6025585585585586\n",
      "F1 train 0.5971417944211302\n",
      "recall 0.6025585585585586\n",
      "Precision 0.5959557313999051\n",
      "\n",
      "\n",
      "Accuracy 0.6029090297629056\n",
      "F1 test 0.5976329332343117\n",
      "recall 0.6029090297629056\n",
      "Precision 0.5965411469796899\n"
     ]
    }
   ],
   "source": [
    "logreg_C = LogisticRegression(**logreg_cv.best_params_,max_iter = 3000)\n",
    "logreg_C.fit(X_train,y_train)\n",
    "y_train_predl = logreg_C.predict(X_train)\n",
    "y_train_probl = logreg_C.predict_proba(X_train)[:,1]\n",
    "y_test_predl = logreg_C.predict(X_test)\n",
    "y_test_probl = logreg_C.predict_proba(X_test)[:,1]\n",
    "#Scores\n",
    "print(\"Accuracy\",accuracy_score(y_train,y_train_predl))\n",
    "#print(\"AUC train\", roc_auc_score(y_train,y_train_probl, multi_class = \"ovr\"))\n",
    "print(\"F1 train\", f1_score(y_train,y_train_predl,average = 'weighted'))\n",
    "print(\"recall\",recall_score(y_train,y_train_predl,average = 'weighted'))\n",
    "print(\"Precision\",precision_score(y_train,y_train_predl,average = 'weighted'))\n",
    "\n",
    "print(\"\\n\")\n",
    "print(\"Accuracy\",accuracy_score(y_test,y_test_predl))\n",
    "#print(\"AUC test\",roc_auc_score(y_test,y_test_probl,multi_class = \"ovr\"))\n",
    "print(\"F1 test\",f1_score(y_test,y_test_predl,average = 'weighted'))\n",
    "print(\"recall\",recall_score(y_test,y_test_predl,average = 'weighted'))\n",
    "print(\"Precision\",precision_score(y_test,y_test_predl,average = 'weighted'))"
   ]
  },
  {
   "cell_type": "code",
   "execution_count": 27,
   "metadata": {},
   "outputs": [
    {
     "data": {
      "image/png": "[encoded data removed]",
      "text/plain": [
       "<Figure size 864x360 with 4 Axes>"
      ]
     },
     "metadata": {
      "needs_background": "light"
     },
     "output_type": "display_data"
    }
   ],
   "source": [
    "fig,axes = plt.subplots(1,2,figsize = (12,5))\n",
    "sns.heatmap(confusion_matrix(y_test,y_test_predl),fmt = 'd',annot = True, ax = axes[0])\n",
    "sns.heatmap(confusion_matrix(y_train,y_train_predl),fmt = 'd',annot = True,ax = axes[1])\n",
    "#plt.savefig(\"Logistic median.png\")\n",
    "plt.show()"
   ]
  },
  {
   "cell_type": "markdown",
   "metadata": {},
   "source": [
    "### Decision Tree"
   ]
  },
  {
   "cell_type": "code",
   "execution_count": 28,
   "metadata": {},
   "outputs": [
    {
     "name": "stdout",
     "output_type": "stream",
     "text": [
      "Accuracy 1.0\n",
      "AUC train 1.0\n",
      "F1 train 1.0\n",
      "recall 1.0\n",
      "Precision 1.0\n",
      "\n",
      "\n",
      "Accuracy 0.8230200100891205\n",
      "AUC test 0.8814913169644966\n",
      "F1 test 0.8230246047278688\n",
      "recall 0.8230200100891205\n",
      "Precision 0.823060021266095\n"
     ]
    }
   ],
   "source": [
    "from sklearn.tree import DecisionTreeClassifier as dct\n",
    "from sklearn.metrics import classification_report, recall_score, precision_score, f1_score\n",
    "dt = dct()\n",
    "dt.fit(X_train,y_train)\n",
    "y_train_pred = dt.predict(X_train)\n",
    "y_train_prob = dt.predict_proba(X_train)\n",
    "y_test_pred = dt.predict(X_test)\n",
    "y_test_prob = dt.predict_proba(X_test)\n",
    "print(\"Accuracy\",accuracy_score(y_train,y_train_pred))\n",
    "print(\"AUC train\", roc_auc_score(y_train,y_train_prob, multi_class = \"ovo\"))\n",
    "print(\"F1 train\", f1_score(y_train,y_train_pred,average = 'weighted'))\n",
    "print(\"recall\",recall_score(y_train,y_train_pred,average = 'weighted'))\n",
    "print(\"Precision\",precision_score(y_train,y_train_pred,average = 'weighted'))\n",
    "\n",
    "print(\"\\n\")\n",
    "print(\"Accuracy\",accuracy_score(y_test,y_test_pred))\n",
    "print(\"AUC test\",roc_auc_score(y_test,y_test_prob,multi_class = \"ovo\"))\n",
    "print(\"F1 test\",f1_score(y_test,y_test_pred,average = 'weighted'))\n",
    "print(\"recall\",recall_score(y_test,y_test_pred,average = 'weighted'))\n",
    "print(\"Precision\",precision_score(y_test,y_test_pred,average = 'weighted'))"
   ]
  },
  {
   "cell_type": "code",
   "execution_count": 29,
   "metadata": {},
   "outputs": [
    {
     "data": {
      "image/png": "[encoded data removed]",
      "text/plain": [
       "<Figure size 864x360 with 4 Axes>"
      ]
     },
     "metadata": {
      "needs_background": "light"
     },
     "output_type": "display_data"
    }
   ],
   "source": [
    "fig,axes = plt.subplots(1,2,figsize = (12,5))\n",
    "sns.heatmap(confusion_matrix(y_test,y_test_pred),fmt = 'd',annot = True, ax = axes[0])\n",
    "sns.heatmap(confusion_matrix(y_train,y_train_pred),fmt = 'd',annot = True,ax = axes[1])\n",
    "#plt.savefig(\"Logistic median.png\")\n",
    "plt.show()"
   ]
  },
  {
   "cell_type": "markdown",
   "metadata": {},
   "source": [
    "### Decision Tree with Grid search"
   ]
  },
  {
   "cell_type": "code",
   "execution_count": 116,
   "metadata": {},
   "outputs": [
    {
     "data": {
      "text/plain": [
       "{'max_depth': 16, 'min_samples_leaf': 6, 'min_samples_split': 2}"
      ]
     },
     "execution_count": 116,
     "metadata": {},
     "output_type": "execute_result"
    }
   ],
   "source": [
    "from sklearn.model_selection import GridSearchCV\n",
    "from sklearn.metrics import f1_score, make_scorer\n",
    "\n",
    "f1 = make_scorer(f1_score , average='weighted')\n",
    "dt = dct(random_state = 3)\n",
    "params = {\"max_depth\": [6,8,10,12,14,16], 'min_samples_split':[2,4,6,8,10,12],'min_samples_leaf':[1,2,4,6]}\n",
    "\n",
    "gsearch_dt = GridSearchCV(dt,param_grid=params, cv = 6,scoring = ['f1_weighted','precision_weighted'],return_train_score=True,n_jobs = -1, refit = 'f1_weighted')\n",
    "\n",
    "gsearch_dt.fit(X1,y)\n",
    "gsearch_dt.best_params_"
   ]
  },
  {
   "cell_type": "code",
   "execution_count": 35,
   "metadata": {},
   "outputs": [
    {
     "name": "stdout",
     "output_type": "stream",
     "text": [
      "Accuracy 0.8719639639639639\n",
      "AUC train 0.9844301037769517\n",
      "F1 train 0.8719683085397262\n",
      "recall 0.8719639639639639\n",
      "Precision 0.8778476048886416\n",
      "\n",
      "\n",
      "Accuracy 0.8178913738019169\n",
      "AUC test 0.9525808758652671\n",
      "F1 test 0.8172593470548026\n",
      "recall 0.8178913738019169\n",
      "Precision 0.8230072268826102\n"
     ]
    }
   ],
   "source": [
    "from sklearn.ensemble import BaggingClassifier\n",
    "dt = dct(max_depth = 19, min_samples_leaf = 6, min_samples_split = 2)\n",
    "bc = BaggingClassifier(base_estimator=dt, n_estimators=2000, random_state=1, oob_score=True)\n",
    "dt.fit(X_train,y_train)\n",
    "y_train_pred_dt = dt.predict(X_train)\n",
    "y_train_prob_dt = dt.predict_proba(X_train)\n",
    "y_test_pred_dt = dt.predict(X_test)\n",
    "y_test_prob_dt = dt.predict_proba(X_test)\n",
    "print(\"Accuracy\",accuracy_score(y_train,y_train_pred_dt))\n",
    "print(\"AUC train\", roc_auc_score(y_train,y_train_prob_dt, multi_class = \"ovo\"))\n",
    "print(\"F1 train\", f1_score(y_train,y_train_pred_dt,average = 'weighted'))\n",
    "print(\"recall\",recall_score(y_train,y_train_pred_dt,average = 'weighted'))\n",
    "print(\"Precision\",precision_score(y_train,y_train_pred_dt,average = 'weighted'))\n",
    "\n",
    "print(\"\\n\")\n",
    "print(\"Accuracy\",accuracy_score(y_test,y_test_pred_dt))\n",
    "print(\"AUC test\",roc_auc_score(y_test,y_test_prob_dt,multi_class = \"ovo\"))\n",
    "print(\"F1 test\",f1_score(y_test,y_test_pred_dt,average = 'weighted'))\n",
    "print(\"recall\",recall_score(y_test,y_test_pred_dt,average = 'weighted'))\n",
    "print(\"Precision\",precision_score(y_test,y_test_pred_dt,average = 'weighted'))\n"
   ]
  },
  {
   "cell_type": "code",
   "execution_count": 33,
   "metadata": {},
   "outputs": [
    {
     "name": "stdout",
     "output_type": "stream",
     "text": [
      "Accuracy: 78.11 (+/- 0.03)\n"
     ]
    }
   ],
   "source": [
    "from sklearn.model_selection import StratifiedKFold\n",
    "from sklearn.model_selection import cross_validate\n",
    "from sklearn.metrics import f1_score, make_scorer, roc_auc_score\n",
    "scoring = {'accuracy' : make_scorer(accuracy_score)}\n",
    "\n",
    "\n",
    "\n",
    "model4 = dct(max_depth = 19, min_samples_leaf = 6, min_samples_split = 2)\n",
    "results_dt = cross_validate(model4, X_test, y_test, cv=10, scoring = scoring)\n",
    "print(\"Accuracy: %0.2f (+/- %0.2f)\" % (np.mean(results_dt['test_accuracy'])*100, np.std(results_dt['test_accuracy']) * 2))"
   ]
  },
  {
   "cell_type": "code",
   "execution_count": 170,
   "metadata": {},
   "outputs": [
    {
     "data": {
      "image/png": "[encoded data removed]",
      "text/plain": [
       "<Figure size 864x360 with 4 Axes>"
      ]
     },
     "metadata": {
      "needs_background": "light"
     },
     "output_type": "display_data"
    }
   ],
   "source": [
    "fig,axes = plt.subplots(1,2,figsize = (12,5))\n",
    "sns.heatmap(confusion_matrix(y_test,y_test_pred_dt),fmt = 'd',annot = True, ax = axes[0])\n",
    "sns.heatmap(confusion_matrix(y_train,y_train_pred_dt),fmt = 'd',annot = True,ax = axes[1])\n",
    "plt.savefig(\"4 DT CM.png\")\n",
    "plt.show()"
   ]
  },
  {
   "cell_type": "code",
   "execution_count": 36,
   "metadata": {},
   "outputs": [
    {
     "data": {
      "image/png": "[encoded data removed]",
      "text/plain": [
       "<Figure size 936x360 with 1 Axes>"
      ]
     },
     "metadata": {
      "needs_background": "light"
     },
     "output_type": "display_data"
    }
   ],
   "source": [
    "import numpy as np\n",
    "import matplotlib.pyplot as plt\n",
    "from itertools import cycle\n",
    "\n",
    "from sklearn import svm, datasets\n",
    "from sklearn.metrics import roc_curve, auc\n",
    "from sklearn.model_selection import train_test_split\n",
    "from sklearn.preprocessing import label_binarize\n",
    "from sklearn.multiclass import OneVsRestClassifier\n",
    "from numpy import interp\n",
    "from sklearn.metrics import roc_auc_score\n",
    "\n",
    "\n",
    "\n",
    "y_test1 = label_binarize(y_test, classes=[0, 1, 2,3])\n",
    "n_classes = 4\n",
    "\n",
    "\n",
    "\n",
    "# Compute ROC curve and ROC area for each class\n",
    "fpr = dict()\n",
    "tpr = dict()\n",
    "roc_auc = dict()\n",
    "for i in range(n_classes):\n",
    "    fpr[i], tpr[i], _ = roc_curve(y_test1[:, i], y_test_prob_dt[:, i])\n",
    "    roc_auc[i] = auc(fpr[i], tpr[i])\n",
    "\n",
    "# Compute micro-average ROC curve and ROC area\n",
    "fpr[\"micro\"], tpr[\"micro\"], _ = roc_curve(y_test1.ravel(), y_test_prob_dt.ravel())\n",
    "roc_auc[\"micro\"] = auc(fpr[\"micro\"], tpr[\"micro\"])\n",
    "\n",
    "\n",
    "\n",
    "\n",
    "all_fpr = np.unique(np.concatenate([fpr[i] for i in range(n_classes)]))\n",
    "\n",
    "# Then interpolate all ROC curves at this points\n",
    "mean_tpr = np.zeros_like(all_fpr)\n",
    "for i in range(n_classes):\n",
    "    mean_tpr += interp(all_fpr, fpr[i], tpr[i])\n",
    "\n",
    "# Finally average it and compute AUC\n",
    "mean_tpr /= n_classes\n",
    "\n",
    "fpr[\"macro\"] = all_fpr\n",
    "tpr[\"macro\"] = mean_tpr\n",
    "roc_auc[\"macro\"] = auc(fpr[\"macro\"], tpr[\"macro\"])\n",
    "lw = 2\n",
    "# Plot all ROC curves\n",
    "plt.figure(figsize = (13,5))\n",
    "\n",
    "\n",
    "colors = cycle(['aqua', 'darkorange', 'cornflowerblue',\"green\"])\n",
    "for i, color in zip(range(n_classes), colors):\n",
    "    plt.plot(fpr[i], tpr[i], color=color, lw=lw,\n",
    "             label='ROC curve of class {0} (area = {1:0.2f})'\n",
    "             ''.format(i, roc_auc[i]))\n",
    "\n",
    "plt.plot([0, 1], [0, 1], 'k--', lw=lw)\n",
    "plt.xlim([0.0, 1.0])\n",
    "plt.ylim([0.0, 1.05])\n",
    "plt.xlabel('False Positive Rate')\n",
    "plt.ylabel('True Positive Rate')\n",
    "plt.title('Some extension of Receiver operating characteristic to multi-class')\n",
    "plt.legend(loc=\"lower right\")\n",
    "plt.savefig(\"4 DT ROC.png\")\n",
    "plt.show()"
   ]
  },
  {
   "cell_type": "markdown",
   "metadata": {},
   "source": [
    "### RandomForest"
   ]
  },
  {
   "cell_type": "code",
   "execution_count": 19,
   "metadata": {},
   "outputs": [
    {
     "name": "stdout",
     "output_type": "stream",
     "text": [
      "Accuracy 1.0\n",
      "AUC train 1.0\n",
      "F1 train 1.0\n",
      "recall 1.0\n",
      "Precision 1.0\n",
      "\n",
      "\n",
      "Accuracy 0.8683369766268707\n",
      "AUC test 0.977751967807051\n",
      "F1 test 0.8678443348816589\n",
      "recall 0.8683369766268707\n",
      "Precision 0.8696405427836108\n"
     ]
    }
   ],
   "source": [
    "from sklearn.ensemble import RandomForestClassifier\n",
    "\n",
    "rf = RandomForestClassifier(random_state=3)\n",
    "\n",
    "rf.fit(X_train, y_train)\n",
    "y_train_pred = rf.predict(X_train)\n",
    "y_train_prob = rf.predict_proba(X_train)\n",
    "\n",
    "y_test_pred = rf.predict(X_test)\n",
    "y_test_prob = rf.predict_proba(X_test)\n",
    "\n",
    "\n",
    "print(\"Accuracy\",accuracy_score(y_train,y_train_pred))\n",
    "print(\"AUC train\", roc_auc_score(y_train,y_train_prob, multi_class = \"ovo\"))\n",
    "print(\"F1 train\", f1_score(y_train,y_train_pred,average = 'weighted'))\n",
    "print(\"recall\",recall_score(y_train,y_train_pred,average = 'weighted'))\n",
    "print(\"Precision\",precision_score(y_train,y_train_pred,average = 'weighted'))\n",
    "\n",
    "print(\"\\n\")\n",
    "print(\"Accuracy\",accuracy_score(y_test,y_test_pred))\n",
    "print(\"AUC test\",roc_auc_score(y_test,y_test_prob,multi_class = \"ovo\"))\n",
    "print(\"F1 test\",f1_score(y_test,y_test_pred,average = 'weighted'))\n",
    "print(\"recall\",recall_score(y_test,y_test_pred,average = 'weighted'))\n",
    "print(\"Precision\",precision_score(y_test,y_test_pred,average = 'weighted'))"
   ]
  },
  {
   "cell_type": "code",
   "execution_count": 38,
   "metadata": {},
   "outputs": [
    {
     "data": {
      "image/png": "[encoded data removed]",
      "text/plain": [
       "<Figure size 864x360 with 4 Axes>"
      ]
     },
     "metadata": {
      "needs_background": "light"
     },
     "output_type": "display_data"
    }
   ],
   "source": [
    "fig,axes = plt.subplots(1,2,figsize = (12,5))\n",
    "sns.heatmap(confusion_matrix(y_test,y_test_pred),fmt = 'd',annot = True, ax = axes[0])\n",
    "sns.heatmap(confusion_matrix(y_train,y_train_pred),fmt = 'd',annot = True,ax = axes[1])\n",
    "#plt.savefig(\"Logistic median.png\")\n",
    "plt.show()"
   ]
  },
  {
   "cell_type": "markdown",
   "metadata": {},
   "source": [
    "## Feature Selection with Best Features"
   ]
  },
  {
   "cell_type": "code",
   "execution_count": 21,
   "metadata": {},
   "outputs": [],
   "source": [
    "best_features = pd.DataFrame(rf.feature_importances_,index=X.columns,columns=['value'])\n",
    "b = list(best_features[best_features['value'] >0].index)"
   ]
  },
  {
   "cell_type": "code",
   "execution_count": 22,
   "metadata": {},
   "outputs": [],
   "source": [
    "X_best = X1[b]"
   ]
  },
  {
   "cell_type": "code",
   "execution_count": 23,
   "metadata": {},
   "outputs": [
    {
     "data": {
      "text/plain": [
       "(39644, 56)"
      ]
     },
     "execution_count": 23,
     "metadata": {},
     "output_type": "execute_result"
    }
   ],
   "source": [
    "X_best.shape"
   ]
  },
  {
   "cell_type": "code",
   "execution_count": 24,
   "metadata": {},
   "outputs": [
    {
     "data": {
      "text/plain": [
       "(39644, 69)"
      ]
     },
     "execution_count": 24,
     "metadata": {},
     "output_type": "execute_result"
    }
   ],
   "source": [
    "X1.shape"
   ]
  },
  {
   "cell_type": "code",
   "execution_count": 25,
   "metadata": {},
   "outputs": [],
   "source": [
    "X_train1, X_test1, y_train1, y_test1 = train_test_split(X_best,y,test_size = 0.3, random_state = 42, stratify = y)"
   ]
  },
  {
   "cell_type": "markdown",
   "metadata": {},
   "source": [
    "### RandomForest with Randomized search"
   ]
  },
  {
   "cell_type": "code",
   "execution_count": 45,
   "metadata": {},
   "outputs": [
    {
     "name": "stderr",
     "output_type": "stream",
     "text": [
      "/opt/anaconda3/lib/python3.7/site-packages/sklearn/model_selection/_split.py:297: FutureWarning: Setting a random_state has no effect since shuffle is False. This will raise an error in 0.24. You should leave random_state to its default (None), or set shuffle=True.\n",
      "  FutureWarning\n"
     ]
    },
    {
     "data": {
      "text/plain": [
       "RandomizedSearchCV(cv=<generator object _BaseKFold.split at 0x7fab42a17dd0>,\n",
       "                   estimator=RandomForestClassifier(), n_iter=100, n_jobs=-1,\n",
       "                   param_distributions={'max_depth': <scipy.stats._distn_infrastructure.rv_frozen object at 0x7fab28e2ded0>,\n",
       "                                        'max_features': <scipy.stats._distn_infrastructure.rv_frozen object at 0x7fab28e2dc50>,\n",
       "                                        'min_samples_leaf': <scipy.stats._distn_infrastructure.rv_frozen object at 0x7fab34b8c490>,\n",
       "                                        'min_samples_split': <scipy.stats._distn_infrastructure.rv_frozen object at 0x7fab33931150>,\n",
       "                                        'n_estimators': <scipy.stats._distn_infrastructure.rv_frozen object at 0x7fab54754f50>},\n",
       "                   refit='f1_weighted', return_train_score=True,\n",
       "                   scoring=['f1_weighted', 'precision_weighted'])"
      ]
     },
     "execution_count": 45,
     "metadata": {},
     "output_type": "execute_result"
    }
   ],
   "source": [
    "from sklearn.ensemble import RandomForestClassifier\n",
    "from sklearn.model_selection import RandomizedSearchCV\n",
    "from scipy.stats import randint as sp_randint\n",
    "from sklearn.model_selection import RandomizedSearchCV\n",
    "\n",
    "rf = RandomForestClassifier()\n",
    "skf = StratifiedKFold(n_splits=6, random_state = 1001)\n",
    "param_rf = {\n",
    "    'n_estimators': sp_randint(50, 200),\n",
    "    'max_features': sp_randint(1, 14),\n",
    "    'max_depth': sp_randint(2, 10),\n",
    "    'min_samples_leaf': sp_randint(1, 20),\n",
    "    'min_samples_split': sp_randint(2, 20)}\n",
    "\n",
    "rsearch_rf = RandomizedSearchCV(rf, param_distributions=param_rf, scoring=['f1_weighted','precision_weighted'], n_iter=100,\n",
    "                            cv=skf.split(X_train1,y_train1), n_jobs=-1, return_train_score=True, refit = 'f1_weighted')\n",
    "\n",
    "rsearch_rf.fit(X_train1, y_train1)"
   ]
  },
  {
   "cell_type": "code",
   "execution_count": 46,
   "metadata": {},
   "outputs": [
    {
     "data": {
      "text/plain": [
       "{'max_depth': 9,\n",
       " 'max_features': 12,\n",
       " 'min_samples_leaf': 12,\n",
       " 'min_samples_split': 15,\n",
       " 'n_estimators': 122}"
      ]
     },
     "execution_count": 46,
     "metadata": {},
     "output_type": "execute_result"
    }
   ],
   "source": [
    "rsearch_rf.best_params_"
   ]
  },
  {
   "cell_type": "code",
   "execution_count": 47,
   "metadata": {},
   "outputs": [
    {
     "name": "stdout",
     "output_type": "stream",
     "text": [
      "Accuracy 0.7961801801801802\n",
      "AUC train 0.9491150087361385\n",
      "F1 train 0.7938891754083183\n",
      "recall 0.7961801801801802\n",
      "Precision 0.8121474531330186\n",
      "\n",
      "\n",
      "Accuracy 0.7787960316125778\n",
      "AUC test 0.9440615716117575\n",
      "F1 test 0.7761469629560703\n",
      "recall 0.7787960316125778\n",
      "Precision 0.7943031389682067\n"
     ]
    }
   ],
   "source": [
    "\n",
    "\n",
    "rf = RandomForestClassifier(**rsearch_rf.best_params_, oob_score=True,  random_state=3)\n",
    "\n",
    "rf.fit(X_train1, y_train1)\n",
    "\n",
    "y_train_pred_rf1 = rf.predict(X_train1)\n",
    "y_train_prob_rf1 = rf.predict_proba(X_train1)\n",
    "\n",
    "y_test_pred_rf1 = rf.predict(X_test1)\n",
    "y_test_prob_rf1 = rf.predict_proba(X_test1)\n",
    "\n",
    "\n",
    "print(\"Accuracy\",accuracy_score(y_train1,y_train_pred_rf1))\n",
    "print(\"AUC train\", roc_auc_score(y_train1,y_train_prob_rf1, multi_class = \"ovo\"))\n",
    "print(\"F1 train\", f1_score(y_train1,y_train_pred_rf1,average = 'weighted'))\n",
    "print(\"recall\",recall_score(y_train1,y_train_pred_rf1,average = 'weighted'))\n",
    "print(\"Precision\",precision_score(y_train1,y_train_pred_rf1,average = 'weighted'))\n",
    "\n",
    "print(\"\\n\")\n",
    "print(\"Accuracy\",accuracy_score(y_test1,y_test_pred_rf1))\n",
    "print(\"AUC test\",roc_auc_score(y_test1,y_test_prob_rf1,multi_class = \"ovo\"))\n",
    "print(\"F1 test\",f1_score(y_test1,y_test_pred_rf1,average = 'weighted'))\n",
    "print(\"recall\",recall_score(y_test1,y_test_pred_rf1,average = 'weighted'))\n",
    "print(\"Precision\",precision_score(y_test1,y_test_pred_rf1,average = 'weighted'))"
   ]
  },
  {
   "cell_type": "code",
   "execution_count": 28,
   "metadata": {},
   "outputs": [
    {
     "data": {
      "text/plain": [
       "RandomizedSearchCV(cv=<generator object _BaseKFold.split at 0x7fbb8aa99ed0>,\n",
       "                   estimator=RandomForestClassifier(), n_iter=100, n_jobs=-1,\n",
       "                   param_distributions={'max_depth': <scipy.stats._distn_infrastructure.rv_frozen object at 0x7fbb8a84aa90>,\n",
       "                                        'max_features': <scipy.stats._distn_infrastructure.rv_frozen object at 0x7fbb8a84a690>,\n",
       "                                        'min_samples_leaf': <scipy.stats._distn_infrastructure.rv_frozen object at 0x7fbb8a84af50>,\n",
       "                                        'min_samples_split': <scipy.stats._distn_infrastructure.rv_frozen object at 0x7fbb8a84afd0>,\n",
       "                                        'n_estimators': <scipy.stats._distn_infrastructure.rv_frozen object at 0x7fbb8a84a650>},\n",
       "                   refit='f1_weighted', return_train_score=True,\n",
       "                   scoring=['f1_weighted', 'precision_weighted'])"
      ]
     },
     "execution_count": 28,
     "metadata": {},
     "output_type": "execute_result"
    }
   ],
   "source": [
    "from sklearn.ensemble import RandomForestClassifier\n",
    "from sklearn.model_selection import RandomizedSearchCV\n",
    "from scipy.stats import randint as sp_randint\n",
    "from sklearn.model_selection import RandomizedSearchCV\n",
    "from sklearn.model_selection import StratifiedKFold\n",
    "\n",
    "rf = RandomForestClassifier()\n",
    "skf = StratifiedKFold(n_splits=6, shuffle = True,random_state = 1001)\n",
    "param_rf = {\n",
    "    'n_estimators': sp_randint(50, 200),\n",
    "    'max_features': sp_randint(1, 14),\n",
    "    'max_depth': sp_randint(2, 10),\n",
    "    'min_samples_leaf': sp_randint(1, 20),\n",
    "    'min_samples_split': sp_randint(2, 20)}\n",
    "\n",
    "rsearch_rf = RandomizedSearchCV(rf, param_distributions=param_rf, scoring=['f1_weighted','precision_weighted'], n_iter=100,\n",
    "                            cv=skf.split(X_train,y_train), n_jobs=-1, return_train_score=True, refit = 'f1_weighted')\n",
    "\n",
    "rsearch_rf.fit(X_train, y_train)"
   ]
  },
  {
   "cell_type": "code",
   "execution_count": 29,
   "metadata": {},
   "outputs": [
    {
     "name": "stdout",
     "output_type": "stream",
     "text": [
      "Accuracy 0.8004324324324325\n",
      "AUC train 0.9515570286010648\n",
      "F1 train 0.7973558672832955\n",
      "recall 0.8004324324324325\n",
      "Precision 0.8149329668950224\n",
      "\n",
      "\n",
      "Accuracy 0.7815705397679502\n",
      "AUC test 0.9449589188395541\n",
      "F1 test 0.7779438290121851\n",
      "recall 0.7815705397679502\n",
      "Precision 0.7975169014087636\n"
     ]
    }
   ],
   "source": [
    "rf = RandomForestClassifier(**rsearch_rf.best_params_, oob_score=True,  random_state=3)\n",
    "\n",
    "rf.fit(X_train, y_train)\n",
    "\n",
    "y_train_pred_rf = rf.predict(X_train)\n",
    "y_train_prob_rf = rf.predict_proba(X_train)\n",
    "\n",
    "y_test_pred_rf = rf.predict(X_test)\n",
    "y_test_prob_rf = rf.predict_proba(X_test)\n",
    "\n",
    "print(\"Accuracy\",accuracy_score(y_train,y_train_pred_rf))\n",
    "print(\"AUC train\", roc_auc_score(y_train,y_train_prob_rf, multi_class = \"ovo\"))\n",
    "print(\"F1 train\", f1_score(y_train,y_train_pred_rf,average = 'weighted'))\n",
    "print(\"recall\",recall_score(y_train,y_train_pred_rf,average = 'weighted'))\n",
    "print(\"Precision\",precision_score(y_train,y_train_pred_rf,average = 'weighted'))\n",
    "\n",
    "print(\"\\n\")\n",
    "print(\"Accuracy\",accuracy_score(y_test,y_test_pred_rf))\n",
    "print(\"AUC test\",roc_auc_score(y_test,y_test_prob_rf,multi_class = \"ovo\"))\n",
    "print(\"F1 test\",f1_score(y_test,y_test_pred_rf,average = 'weighted'))\n",
    "print(\"recall\",recall_score(y_test,y_test_pred_rf,average = 'weighted'))\n",
    "print(\"Precision\",precision_score(y_test,y_test_pred_rf,average = 'weighted'))"
   ]
  },
  {
   "cell_type": "code",
   "execution_count": 30,
   "metadata": {},
   "outputs": [],
   "source": [
    "best_features = pd.DataFrame(rf.feature_importances_,index=X.columns,columns=['value'])\n",
    "b = list(best_features[best_features['value'] >0].index)"
   ]
  },
  {
   "cell_type": "code",
   "execution_count": 31,
   "metadata": {},
   "outputs": [],
   "source": [
    "X_best1 = X1[b]"
   ]
  },
  {
   "cell_type": "code",
   "execution_count": 32,
   "metadata": {},
   "outputs": [
    {
     "data": {
      "text/plain": [
       "(39644, 56)"
      ]
     },
     "execution_count": 32,
     "metadata": {},
     "output_type": "execute_result"
    }
   ],
   "source": [
    "X_best1.shape"
   ]
  },
  {
   "cell_type": "code",
   "execution_count": 33,
   "metadata": {},
   "outputs": [
    {
     "data": {
      "text/plain": [
       "(39644, 69)"
      ]
     },
     "execution_count": 33,
     "metadata": {},
     "output_type": "execute_result"
    }
   ],
   "source": [
    "X1.shape"
   ]
  },
  {
   "cell_type": "code",
   "execution_count": 35,
   "metadata": {},
   "outputs": [],
   "source": [
    "X_train1, X_test1, y_train1, y_test1 = train_test_split(X_best1,y,test_size = 0.3, random_state = 42, stratify = y)"
   ]
  },
  {
   "cell_type": "code",
   "execution_count": 36,
   "metadata": {},
   "outputs": [
    {
     "data": {
      "text/plain": [
       "RandomizedSearchCV(cv=<generator object _BaseKFold.split at 0x7fbb8a739650>,\n",
       "                   estimator=RandomForestClassifier(), n_iter=100, n_jobs=-1,\n",
       "                   param_distributions={'max_depth': <scipy.stats._distn_infrastructure.rv_frozen object at 0x7fbb867b4c50>,\n",
       "                                        'max_features': <scipy.stats._distn_infrastructure.rv_frozen object at 0x7fbb867b4f90>,\n",
       "                                        'min_samples_leaf': <scipy.stats._distn_infrastructure.rv_frozen object at 0x7fbb867b4710>,\n",
       "                                        'min_samples_split': <scipy.stats._distn_infrastructure.rv_frozen object at 0x7fbb867b4dd0>,\n",
       "                                        'n_estimators': <scipy.stats._distn_infrastructure.rv_frozen object at 0x7fbb8a84a090>},\n",
       "                   refit='f1_weighted', return_train_score=True,\n",
       "                   scoring=['f1_weighted', 'precision_weighted'])"
      ]
     },
     "execution_count": 36,
     "metadata": {},
     "output_type": "execute_result"
    }
   ],
   "source": [
    "from sklearn.ensemble import RandomForestClassifier\n",
    "from sklearn.model_selection import RandomizedSearchCV\n",
    "from scipy.stats import randint as sp_randint\n",
    "from sklearn.model_selection import RandomizedSearchCV\n",
    "from sklearn.model_selection import StratifiedKFold\n",
    "\n",
    "rf = RandomForestClassifier()\n",
    "skf = StratifiedKFold(n_splits=6, shuffle = True,random_state = 1001)\n",
    "param_rf = {\n",
    "    'n_estimators': sp_randint(50, 200),\n",
    "    'max_features': sp_randint(1, 14),\n",
    "    'max_depth': sp_randint(2, 10),\n",
    "    'min_samples_leaf': sp_randint(1, 20),\n",
    "    'min_samples_split': sp_randint(2, 20)}\n",
    "\n",
    "rsearch_rf = RandomizedSearchCV(rf, param_distributions=param_rf, scoring=['f1_weighted','precision_weighted'], n_iter=100,\n",
    "                            cv=skf.split(X_train1,y_train1), n_jobs=-1, return_train_score=True, refit = 'f1_weighted')\n",
    "\n",
    "rsearch_rf.fit(X_train1, y_train1)"
   ]
  },
  {
   "cell_type": "code",
   "execution_count": 37,
   "metadata": {},
   "outputs": [
    {
     "name": "stdout",
     "output_type": "stream",
     "text": [
      "Accuracy 0.8039279279279279\n",
      "AUC train 0.9526270319991991\n",
      "F1 train 0.8009899470238339\n",
      "recall 0.8039279279279279\n",
      "Precision 0.8175315476147391\n",
      "\n",
      "\n",
      "Accuracy 0.7843450479233227\n",
      "AUC test 0.9453278826030768\n",
      "F1 test 0.7807130252365033\n",
      "recall 0.7843450479233227\n",
      "Precision 0.7991868352635161\n"
     ]
    }
   ],
   "source": [
    "rf = RandomForestClassifier(**rsearch_rf.best_params_, oob_score=True,  random_state=3)\n",
    "\n",
    "rf.fit(X_train1, y_train1)\n",
    "\n",
    "y_train_pred_rf = rf.predict(X_train1)\n",
    "y_train_prob_rf = rf.predict_proba(X_train1)\n",
    "\n",
    "y_test_pred_rf = rf.predict(X_test1)\n",
    "y_test_prob_rf = rf.predict_proba(X_test1)\n",
    "\n",
    "print(\"Accuracy\",accuracy_score(y_train1,y_train_pred_rf))\n",
    "print(\"AUC train\", roc_auc_score(y_train1,y_train_prob_rf, multi_class = \"ovo\"))\n",
    "print(\"F1 train\", f1_score(y_train1,y_train_pred_rf,average = 'weighted'))\n",
    "print(\"recall\",recall_score(y_train1,y_train_pred_rf,average = 'weighted'))\n",
    "print(\"Precision\",precision_score(y_train1,y_train_pred_rf,average = 'weighted'))\n",
    "\n",
    "print(\"\\n\")\n",
    "print(\"Accuracy\",accuracy_score(y_test1,y_test_pred_rf))\n",
    "print(\"AUC test\",roc_auc_score(y_test1,y_test_prob_rf,multi_class = \"ovo\"))\n",
    "print(\"F1 test\",f1_score(y_test1,y_test_pred_rf,average = 'weighted'))\n",
    "print(\"recall\",recall_score(y_test1,y_test_pred_rf,average = 'weighted'))\n",
    "print(\"Precision\",precision_score(y_test1,y_test_pred_rf,average = 'weighted'))"
   ]
  },
  {
   "cell_type": "code",
   "execution_count": null,
   "metadata": {},
   "outputs": [],
   "source": []
  },
  {
   "cell_type": "code",
   "execution_count": null,
   "metadata": {},
   "outputs": [],
   "source": []
  },
  {
   "cell_type": "code",
   "execution_count": null,
   "metadata": {},
   "outputs": [],
   "source": []
  },
  {
   "cell_type": "code",
   "execution_count": null,
   "metadata": {},
   "outputs": [],
   "source": []
  },
  {
   "cell_type": "code",
   "execution_count": 39,
   "metadata": {},
   "outputs": [
    {
     "name": "stdout",
     "output_type": "stream",
     "text": [
      "Accuracy: 0.78 (+/- 0.03)\n"
     ]
    }
   ],
   "source": [
    "from sklearn.model_selection import StratifiedKFold\n",
    "from sklearn.model_selection import cross_validate\n",
    "from sklearn.metrics import f1_score, make_scorer, roc_auc_score\n",
    "scoring = {'accuracy' : make_scorer(accuracy_score)}\n",
    "model = RandomForestClassifier(**rsearch_rf.best_params_, oob_score=True,  random_state=3)\n",
    "resultsr = cross_validate(model, X_test1, y_test1, cv=10, scoring = scoring)\n",
    "print(\"Accuracy: %0.2f (+/- %0.2f)\" % (np.mean(resultsr['test_accuracy']), np.std(resultsr['test_accuracy']) * 2))"
   ]
  },
  {
   "cell_type": "code",
   "execution_count": 310,
   "metadata": {},
   "outputs": [
    {
     "data": {
      "text/plain": [
       "{'fit_time': array([1.76473808, 2.36114216, 2.74102712, 2.07893991, 2.06817389,\n",
       "        1.99464297, 1.79474306, 1.77367401, 1.74931216, 1.84962392]),\n",
       " 'score_time': array([0.05121112, 0.1314187 , 0.05219483, 0.05645108, 0.05104709,\n",
       "        0.0552001 , 0.05219698, 0.04750085, 0.04785991, 0.05161786]),\n",
       " 'test_accuracy': array([0.90264817, 0.92055485, 0.88272383, 0.84867591, 0.87840565,\n",
       "        0.87108981, 0.86755802, 0.89177598, 0.91246216, 0.87563068])}"
      ]
     },
     "execution_count": 310,
     "metadata": {},
     "output_type": "execute_result"
    }
   ],
   "source": [
    "resultsr"
   ]
  },
  {
   "cell_type": "code",
   "execution_count": 40,
   "metadata": {},
   "outputs": [
    {
     "data": {
      "image/png": "[encoded data removed]",
      "text/plain": [
       "<Figure size 864x360 with 4 Axes>"
      ]
     },
     "metadata": {
      "needs_background": "light"
     },
     "output_type": "display_data"
    }
   ],
   "source": [
    "fig,axes = plt.subplots(1,2,figsize = (12,5))\n",
    "sns.heatmap(confusion_matrix(y_test,y_test_pred_rf),fmt = 'd',annot = True, ax = axes[0])\n",
    "sns.heatmap(confusion_matrix(y_train,y_train_pred_rf),fmt = 'd',annot = True,ax = axes[1])\n",
    "#plt.savefig(\"4 RF CM.png\")\n",
    "plt.show()"
   ]
  },
  {
   "cell_type": "code",
   "execution_count": 175,
   "metadata": {},
   "outputs": [
    {
     "data": {
      "image/png": "[encoded data removed]",
      "text/plain": [
       "<Figure size 936x360 with 1 Axes>"
      ]
     },
     "metadata": {
      "needs_background": "light"
     },
     "output_type": "display_data"
    }
   ],
   "source": [
    "import numpy as np\n",
    "import matplotlib.pyplot as plt\n",
    "from itertools import cycle\n",
    "\n",
    "from sklearn import svm, datasets\n",
    "from sklearn.metrics import roc_curve, auc\n",
    "from sklearn.model_selection import train_test_split\n",
    "from sklearn.preprocessing import label_binarize\n",
    "from sklearn.multiclass import OneVsRestClassifier\n",
    "from numpy import interp\n",
    "from sklearn.metrics import roc_auc_score\n",
    "\n",
    "\n",
    "\n",
    "y_test1 = label_binarize(y_test, classes=[0, 1, 2,3])\n",
    "n_classes = 4\n",
    "\n",
    "\n",
    "\n",
    "# Compute ROC curve and ROC area for each class\n",
    "fpr = dict()\n",
    "tpr = dict()\n",
    "roc_auc = dict()\n",
    "for i in range(n_classes):\n",
    "    fpr[i], tpr[i], _ = roc_curve(y_test1[:, i], y_test_prob_rf[:, i])\n",
    "    roc_auc[i] = auc(fpr[i], tpr[i])\n",
    "\n",
    "# Compute micro-average ROC curve and ROC area\n",
    "fpr[\"micro\"], tpr[\"micro\"], _ = roc_curve(y_test1.ravel(), y_test_prob_rf.ravel())\n",
    "roc_auc[\"micro\"] = auc(fpr[\"micro\"], tpr[\"micro\"])\n",
    "\n",
    "\n",
    "\n",
    "\n",
    "all_fpr = np.unique(np.concatenate([fpr[i] for i in range(n_classes)]))\n",
    "\n",
    "# Then interpolate all ROC curves at this points\n",
    "mean_tpr = np.zeros_like(all_fpr)\n",
    "for i in range(n_classes):\n",
    "    mean_tpr += interp(all_fpr, fpr[i], tpr[i])\n",
    "\n",
    "# Finally average it and compute AUC\n",
    "mean_tpr /= n_classes\n",
    "\n",
    "fpr[\"macro\"] = all_fpr\n",
    "tpr[\"macro\"] = mean_tpr\n",
    "roc_auc[\"macro\"] = auc(fpr[\"macro\"], tpr[\"macro\"])\n",
    "lw = 2\n",
    "# Plot all ROC curves\n",
    "plt.figure(figsize = (13,5))\n",
    "\n",
    "\n",
    "colors = cycle(['aqua', 'darkorange', 'cornflowerblue',\"green\"])\n",
    "for i, color in zip(range(n_classes), colors):\n",
    "    plt.plot(fpr[i], tpr[i], color=color, lw=lw,\n",
    "             label='ROC curve of class {0} (area = {1:0.2f})'\n",
    "             ''.format(i, roc_auc[i]))\n",
    "\n",
    "plt.plot([0, 1], [0, 1], 'k--', lw=lw)\n",
    "plt.xlim([0.0, 1.0])\n",
    "plt.ylim([0.0, 1.05])\n",
    "plt.xlabel('False Positive Rate')\n",
    "plt.ylabel('True Positive Rate')\n",
    "plt.title('Some extension of Receiver operating characteristic to multi-class')\n",
    "plt.legend(loc=\"lower right\")\n",
    "plt.savefig(\"4 RF ROC.png\")\n",
    "plt.show()"
   ]
  },
  {
   "cell_type": "code",
   "execution_count": null,
   "metadata": {},
   "outputs": [],
   "source": []
  },
  {
   "cell_type": "code",
   "execution_count": null,
   "metadata": {},
   "outputs": [],
   "source": [
    "### KNN"
   ]
  },
  {
   "cell_type": "code",
   "execution_count": null,
   "metadata": {},
   "outputs": [],
   "source": [
    "from sklearn.neighbors import KNeighborsClassifier\n",
    "knn = KNeighborsClassifier()\n",
    "knn.fit(X_train,y_train)\n",
    "y_train_pred = knn.predict(X_train)\n",
    "y_train_prob = knn.predict_proba(X_train)[:,1]\n",
    "y_test_pred = knn.predict(X_test)\n",
    "y_test_prob = knn.predict_proba(X_test)[:,1] \n",
    "\n",
    "print(\"Accuracy\",accuracy_score(y_train,y_train_pred))\n",
    "print(\"AUC train\", roc_auc_score(y_train,y_train_prob))\n",
    "print(\"F1 train\", f1_score(y_train,y_train_pred))\n",
    "print(\"recall\",recall_score(y_train,y_train_pred))\n",
    "print(\"Precision\",precision_score(y_train,y_train_pred))\n",
    "\n",
    "print(\"\\n\")\n",
    "print(\"Accuracy\",accuracy_score(y_test,y_test_pred))\n",
    "print(\"AUC test\",roc_auc_score(y_test,y_test_prob))\n",
    "print(\"F1 test\",f1_score(y_test,y_test_pred))\n",
    "print(\"recall\",recall_score(y_test,y_test_pred))\n",
    "print(\"Precision\",precision_score(y_test,y_test_pred))"
   ]
  },
  {
   "cell_type": "code",
   "execution_count": null,
   "metadata": {},
   "outputs": [],
   "source": [
    "fig,axes = plt.subplots(1,2,figsize = (12,5))\n",
    "sns.heatmap(confusion_matrix(y_test,y_test_pred),fmt = 'd',annot = True, ax = axes[0])\n",
    "sns.heatmap(confusion_matrix(y_train,y_train_pred),fmt = 'd',annot = True,ax = axes[1])\n",
    "plt.savefig(\"Logistic mean.png\")\n",
    "plt.show()"
   ]
  },
  {
   "cell_type": "code",
   "execution_count": null,
   "metadata": {},
   "outputs": [],
   "source": []
  },
  {
   "cell_type": "code",
   "execution_count": 41,
   "metadata": {},
   "outputs": [
    {
     "name": "stdout",
     "output_type": "stream",
     "text": [
      "Accuracy 0.9892972972972973\n",
      "AUC train 0.9997473029112327\n",
      "F1 train 0.9892972513426848\n",
      "recall 0.9892972972972973\n",
      "Precision 0.9893818616655032\n",
      "\n",
      "\n",
      "Accuracy 0.9155036152682025\n",
      "AUC test 0.9932958422725688\n",
      "F1 test 0.9156012927728239\n",
      "recall 0.9155036152682025\n",
      "Precision 0.916396527783173\n"
     ]
    }
   ],
   "source": [
    "from xgboost import XGBClassifier\n",
    "\n",
    "XGB = XGBClassifier()\n",
    "XGB.fit(X_train, y_train)\n",
    "\n",
    "\n",
    "y_train_pred = XGB.predict(X_train)\n",
    "y_train_prob = XGB.predict_proba(X_train)\n",
    "\n",
    "y_test_pred = XGB.predict(X_test)\n",
    "y_test_prob = XGB.predict_proba(X_test)\n",
    "\n",
    "\n",
    "print(\"Accuracy\",accuracy_score(y_train,y_train_pred))\n",
    "print(\"AUC train\", roc_auc_score(y_train,y_train_prob, multi_class = \"ovo\"))\n",
    "print(\"F1 train\", f1_score(y_train,y_train_pred,average = 'weighted'))\n",
    "print(\"recall\",recall_score(y_train,y_train_pred,average = 'weighted'))\n",
    "print(\"Precision\",precision_score(y_train,y_train_pred,average = 'weighted'))\n",
    "\n",
    "print(\"\\n\")\n",
    "print(\"Accuracy\",accuracy_score(y_test,y_test_pred))\n",
    "print(\"AUC test\",roc_auc_score(y_test,y_test_prob,multi_class = \"ovo\"))\n",
    "print(\"F1 test\",f1_score(y_test,y_test_pred,average = 'weighted'))\n",
    "print(\"recall\",recall_score(y_test,y_test_pred,average = 'weighted'))\n",
    "print(\"Precision\",precision_score(y_test,y_test_pred,average = 'weighted'))"
   ]
  },
  {
   "cell_type": "code",
   "execution_count": 42,
   "metadata": {},
   "outputs": [
    {
     "name": "stdout",
     "output_type": "stream",
     "text": [
      "Accuracy 0.9892972972972973\n",
      "AUC train 0.9997473029112327\n",
      "F1 train 0.9892972513426848\n",
      "recall 0.9892972972972973\n",
      "Precision 0.9893818616655032\n",
      "\n",
      "\n",
      "Accuracy 0.9155036152682025\n",
      "AUC test 0.9932958422725688\n",
      "F1 test 0.9156012927728239\n",
      "recall 0.9155036152682025\n",
      "Precision 0.916396527783173\n"
     ]
    }
   ],
   "source": [
    "from xgboost import XGBClassifier\n",
    "\n",
    "XGB = XGBClassifier()\n",
    "XGB.fit(X_train1, y_train1)\n",
    "\n",
    "\n",
    "y_train_pred = XGB.predict(X_train1)\n",
    "y_train_prob = XGB.predict_proba(X_train1)\n",
    "\n",
    "y_test_pred = XGB.predict(X_test1)\n",
    "y_test_prob = XGB.predict_proba(X_test1)\n",
    "\n",
    "\n",
    "print(\"Accuracy\",accuracy_score(y_train1,y_train_pred))\n",
    "print(\"AUC train\", roc_auc_score(y_train1,y_train_prob, multi_class = \"ovo\"))\n",
    "print(\"F1 train\", f1_score(y_train1,y_train_pred,average = 'weighted'))\n",
    "print(\"recall\",recall_score(y_train1,y_train_pred,average = 'weighted'))\n",
    "print(\"Precision\",precision_score(y_train1,y_train_pred,average = 'weighted'))\n",
    "\n",
    "print(\"\\n\")\n",
    "print(\"Accuracy\",accuracy_score(y_test1,y_test_pred))\n",
    "print(\"AUC test\",roc_auc_score(y_test1,y_test_prob,multi_class = \"ovo\"))\n",
    "print(\"F1 test\",f1_score(y_test1,y_test_pred,average = 'weighted'))\n",
    "print(\"recall\",recall_score(y_test1,y_test_pred,average = 'weighted'))\n",
    "print(\"Precision\",precision_score(y_test1,y_test_pred,average = 'weighted'))"
   ]
  },
  {
   "cell_type": "code",
   "execution_count": 43,
   "metadata": {},
   "outputs": [
    {
     "name": "stdout",
     "output_type": "stream",
     "text": [
      "Fitting 5 folds for each of 5 candidates, totalling 25 fits\n"
     ]
    },
    {
     "name": "stderr",
     "output_type": "stream",
     "text": [
      "[Parallel(n_jobs=-1)]: Using backend LokyBackend with 4 concurrent workers.\n",
      "[Parallel(n_jobs=-1)]: Done  25 out of  25 | elapsed: 39.2min finished\n"
     ]
    },
    {
     "name": "stdout",
     "output_type": "stream",
     "text": [
      "[05:32:17] WARNING: /Users/travis/build/dmlc/xgboost/src/learner.cc:516: \n",
      "Parameters: { silent } might not be used.\n",
      "\n",
      "  This may not be accurate due to some parameters are only used in language bindings but\n",
      "  passed down to XGBoost core.  Or some parameters are not used but slip through this\n",
      "  verification. Please open an issue if you find above cases.\n",
      "\n",
      "\n"
     ]
    },
    {
     "data": {
      "text/plain": [
       "RandomizedSearchCV(cv=<generator object _BaseKFold.split at 0x7fbb8cca1250>,\n",
       "                   estimator=XGBClassifier(base_score=None, booster=None,\n",
       "                                           colsample_bylevel=None,\n",
       "                                           colsample_bynode=None,\n",
       "                                           colsample_bytree=None, gamma=None,\n",
       "                                           gpu_id=None, importance_type='gain',\n",
       "                                           interaction_constraints=None,\n",
       "                                           learning_rate=0.02,\n",
       "                                           max_delta_step=None, max_depth=None,\n",
       "                                           min_child_weight=None, missing...\n",
       "                                           scale_pos_weight=None, silent=True,\n",
       "                                           subsample=None, tree_method=None,\n",
       "                                           validate_parameters=None,\n",
       "                                           verbosity=None),\n",
       "                   n_iter=5, n_jobs=-1,\n",
       "                   param_distributions={'colsample_bytree': [0.6, 0.8, 1.0],\n",
       "                                        'gamma': [0.5, 1, 1.5, 2, 5],\n",
       "                                        'max_depth': [3, 4, 5],\n",
       "                                        'min_child_weight': [1, 5, 10],\n",
       "                                        'subsample': [0.6, 0.8, 1.0]},\n",
       "                   refit='f1_macro', return_train_score=True,\n",
       "                   scoring=['f1_macro', 'precision_macro'], verbose=3)"
      ]
     },
     "execution_count": 43,
     "metadata": {},
     "output_type": "execute_result"
    }
   ],
   "source": [
    "from sklearn.model_selection import RandomizedSearchCV, GridSearchCV\n",
    "from sklearn.metrics import roc_auc_score\n",
    "from sklearn.metrics import precision_recall_fscore_support as score\n",
    "from sklearn.model_selection import StratifiedKFold\n",
    "from xgboost import XGBClassifier\n",
    "import time\n",
    "\n",
    "params = {\n",
    "    'min_child_weight': [1, 5, 10],\n",
    "    'gamma': [0.5, 1, 1.5, 2, 5],\n",
    "    'subsample': [0.6, 0.8, 1.0],\n",
    "    'colsample_bytree': [0.6, 0.8, 1.0],\n",
    "    'max_depth': [3, 4, 5]\n",
    "    }\n",
    "\n",
    "\n",
    "\n",
    "xgb = XGBClassifier(learning_rate=0.02, n_estimators=600,\n",
    "                silent=True, nthread=1)\n",
    "\n",
    "folds = 5\n",
    "param_comb = 5\n",
    "\n",
    "skf = StratifiedKFold(n_splits=folds, shuffle = True, random_state = 1001)\n",
    "\n",
    "random_search = RandomizedSearchCV(xgb, param_distributions=params, n_iter=param_comb, \n",
    "                                   scoring=['f1_macro','precision_macro'],\n",
    "                                   n_jobs=-1, cv=skf.split(X_train,y_train), verbose=3, refit = 'f1_macro',return_train_score=True)\n",
    "\n",
    "\n",
    "random_search.fit(X_train, y_train)"
   ]
  },
  {
   "cell_type": "code",
   "execution_count": 44,
   "metadata": {},
   "outputs": [
    {
     "data": {
      "text/plain": [
       "{'subsample': 0.6,\n",
       " 'min_child_weight': 5,\n",
       " 'max_depth': 5,\n",
       " 'gamma': 5,\n",
       " 'colsample_bytree': 1.0}"
      ]
     },
     "execution_count": 44,
     "metadata": {},
     "output_type": "execute_result"
    }
   ],
   "source": [
    "random_search.best_params_"
   ]
  },
  {
   "cell_type": "code",
   "execution_count": 45,
   "metadata": {},
   "outputs": [
    {
     "name": "stdout",
     "output_type": "stream",
     "text": [
      "[10:52:19] WARNING: /Users/travis/build/dmlc/xgboost/src/learner.cc:516: \n",
      "Parameters: { silent } might not be used.\n",
      "\n",
      "  This may not be accurate due to some parameters are only used in language bindings but\n",
      "  passed down to XGBoost core.  Or some parameters are not used but slip through this\n",
      "  verification. Please open an issue if you find above cases.\n",
      "\n",
      "\n",
      "Accuracy 0.918990990990991\n",
      "AUC train 0.9933262486881841\n",
      "F1 train 0.9190506325457578\n",
      "recall 0.918990990990991\n",
      "Precision 0.9214740347006773\n",
      "\n",
      "\n",
      "Accuracy 0.9075163948209181\n",
      "AUC test 0.9917402399227931\n",
      "F1 test 0.907616298330529\n",
      "recall 0.9075163948209181\n",
      "Precision 0.9099695972716911\n"
     ]
    }
   ],
   "source": [
    "xgb = XGBClassifier(**random_search.best_params_,learning_rate=0.02, n_estimators=600,\n",
    "                silent=True, nthread=1)\n",
    "xgb.fit(X_train,y_train)\n",
    "y_train_pred = xgb.predict(X_train)\n",
    "y_train_prob = xgb.predict_proba(X_train)\n",
    "\n",
    "y_test_pred = xgb.predict(X_test)\n",
    "y_test_prob = xgb.predict_proba(X_test)\n",
    "\n",
    "print(\"Accuracy\",accuracy_score(y_train,y_train_pred))\n",
    "print(\"AUC train\", roc_auc_score(y_train,y_train_prob, multi_class = \"ovo\"))\n",
    "print(\"F1 train\", f1_score(y_train,y_train_pred,average = 'weighted'))\n",
    "print(\"recall\",recall_score(y_train,y_train_pred,average = 'weighted'))\n",
    "print(\"Precision\",precision_score(y_train,y_train_pred,average = 'weighted'))\n",
    "\n",
    "print(\"\\n\")\n",
    "print(\"Accuracy\",accuracy_score(y_test,y_test_pred))\n",
    "print(\"AUC test\",roc_auc_score(y_test,y_test_prob,multi_class = \"ovo\"))\n",
    "print(\"F1 test\",f1_score(y_test,y_test_pred,average = 'weighted'))\n",
    "print(\"recall\",recall_score(y_test,y_test_pred,average = 'weighted'))\n",
    "print(\"Precision\",precision_score(y_test,y_test_pred,average = 'weighted'))"
   ]
  },
  {
   "cell_type": "code",
   "execution_count": null,
   "metadata": {},
   "outputs": [],
   "source": []
  },
  {
   "cell_type": "markdown",
   "metadata": {},
   "source": [
    "# Best XGB"
   ]
  },
  {
   "cell_type": "code",
   "execution_count": 46,
   "metadata": {},
   "outputs": [],
   "source": [
    "best_features_X = pd.DataFrame(xgb.feature_importances_,index=X.columns,columns=['value'])\n",
    "b = list(best_features_X[best_features_X['value'] >0].index)"
   ]
  },
  {
   "cell_type": "code",
   "execution_count": 47,
   "metadata": {},
   "outputs": [],
   "source": [
    "X_best_X = X1[b]"
   ]
  },
  {
   "cell_type": "code",
   "execution_count": 48,
   "metadata": {},
   "outputs": [
    {
     "data": {
      "text/plain": [
       "(39644, 50)"
      ]
     },
     "execution_count": 48,
     "metadata": {},
     "output_type": "execute_result"
    }
   ],
   "source": [
    "X_best_X.shape"
   ]
  },
  {
   "cell_type": "code",
   "execution_count": 49,
   "metadata": {},
   "outputs": [
    {
     "data": {
      "text/plain": [
       "(39644, 69)"
      ]
     },
     "execution_count": 49,
     "metadata": {},
     "output_type": "execute_result"
    }
   ],
   "source": [
    "X1.shape"
   ]
  },
  {
   "cell_type": "code",
   "execution_count": 50,
   "metadata": {},
   "outputs": [],
   "source": [
    "X_train1, X_test1, y_train1, y_test1 = train_test_split(X_best_X,y,test_size = 0.3, random_state = 42, stratify = y)"
   ]
  },
  {
   "cell_type": "code",
   "execution_count": null,
   "metadata": {},
   "outputs": [],
   "source": []
  },
  {
   "cell_type": "code",
   "execution_count": 51,
   "metadata": {},
   "outputs": [
    {
     "name": "stdout",
     "output_type": "stream",
     "text": [
      "Fitting 5 folds for each of 5 candidates, totalling 25 fits\n"
     ]
    },
    {
     "name": "stderr",
     "output_type": "stream",
     "text": [
      "[Parallel(n_jobs=-1)]: Using backend LokyBackend with 4 concurrent workers.\n",
      "[Parallel(n_jobs=-1)]: Done  25 out of  25 | elapsed: 57.1min finished\n"
     ]
    },
    {
     "name": "stdout",
     "output_type": "stream",
     "text": [
      "[15:16:54] WARNING: /Users/travis/build/dmlc/xgboost/src/learner.cc:516: \n",
      "Parameters: { silent } might not be used.\n",
      "\n",
      "  This may not be accurate due to some parameters are only used in language bindings but\n",
      "  passed down to XGBoost core.  Or some parameters are not used but slip through this\n",
      "  verification. Please open an issue if you find above cases.\n",
      "\n",
      "\n"
     ]
    },
    {
     "data": {
      "text/plain": [
       "RandomizedSearchCV(cv=5,\n",
       "                   estimator=XGBClassifier(base_score=None, booster=None,\n",
       "                                           colsample_bylevel=None,\n",
       "                                           colsample_bynode=None,\n",
       "                                           colsample_bytree=None, gamma=None,\n",
       "                                           gpu_id=None, importance_type='gain',\n",
       "                                           interaction_constraints=None,\n",
       "                                           learning_rate=0.02,\n",
       "                                           max_delta_step=None, max_depth=None,\n",
       "                                           min_child_weight=None, missing=nan,\n",
       "                                           monotone_constraints=None,\n",
       "                                           n_estimators=600,...\n",
       "                                           random_state=None, reg_alpha=None,\n",
       "                                           reg_lambda=None,\n",
       "                                           scale_pos_weight=None, silent=True,\n",
       "                                           subsample=None, tree_method=None,\n",
       "                                           validate_parameters=None,\n",
       "                                           verbosity=None),\n",
       "                   n_iter=5, n_jobs=-1,\n",
       "                   param_distributions={'colsample_bytree': [0.6, 0.8, 1.0],\n",
       "                                        'gamma': [0.5, 1, 1.5, 2, 5],\n",
       "                                        'max_depth': [3, 4, 5],\n",
       "                                        'min_child_weight': [1, 5, 10],\n",
       "                                        'subsample': [0.6, 0.8, 1.0]},\n",
       "                   refit='f1_macro', scoring=['f1_macro'], verbose=3)"
      ]
     },
     "execution_count": 51,
     "metadata": {},
     "output_type": "execute_result"
    }
   ],
   "source": [
    "from sklearn.model_selection import RandomizedSearchCV, GridSearchCV\n",
    "from sklearn.metrics import roc_auc_score\n",
    "from sklearn.metrics import precision_recall_fscore_support as score\n",
    "from sklearn.model_selection import StratifiedKFold\n",
    "from xgboost import XGBClassifier\n",
    "import time\n",
    "\n",
    "params = {\n",
    "    'min_child_weight': [1, 5, 10],\n",
    "    'gamma': [0.5, 1, 1.5, 2, 5],\n",
    "    'subsample': [0.6, 0.8, 1.0],\n",
    "    'colsample_bytree': [0.6, 0.8, 1.0],\n",
    "    'max_depth': [3, 4, 5]\n",
    "    }\n",
    "\n",
    "\n",
    "\n",
    "xgb1 = XGBClassifier(learning_rate=0.02, n_estimators=600,\n",
    "                silent=True, nthread=1)\n",
    "\n",
    "folds = 5\n",
    "param_comb = 5\n",
    "\n",
    "skf = StratifiedKFold(n_splits=folds, shuffle = True, random_state = 1001)\n",
    "\n",
    "random_search1 = RandomizedSearchCV(xgb1, param_distributions=params, n_iter=param_comb, \n",
    "                                   scoring=['f1_macro'],\n",
    "                                   n_jobs=-1, cv= 5, verbose=3, refit = 'f1_macro')\n",
    "\n",
    "\n",
    "random_search1.fit(X_train1, y_train1)"
   ]
  },
  {
   "cell_type": "code",
   "execution_count": 52,
   "metadata": {},
   "outputs": [
    {
     "name": "stdout",
     "output_type": "stream",
     "text": [
      "[19:22:38] WARNING: /Users/travis/build/dmlc/xgboost/src/learner.cc:516: \n",
      "Parameters: { silent } might not be used.\n",
      "\n",
      "  This may not be accurate due to some parameters are only used in language bindings but\n",
      "  passed down to XGBoost core.  Or some parameters are not used but slip through this\n",
      "  verification. Please open an issue if you find above cases.\n",
      "\n",
      "\n",
      "Accuracy 0.9190630630630631\n",
      "AUC train 0.9933328191773704\n",
      "F1 train 0.9191248700548142\n",
      "recall 0.9190630630630631\n",
      "Precision 0.9215228797312388\n",
      "\n",
      "\n",
      "Accuracy 0.9076845468303346\n",
      "AUC test 0.9917487742537081\n",
      "F1 test 0.9077856060444452\n",
      "recall 0.9076845468303346\n",
      "Precision 0.9101545876405469\n"
     ]
    }
   ],
   "source": [
    "xgb = XGBClassifier(**random_search.best_params_,learning_rate=0.02, n_estimators=600,\n",
    "                silent=True, nthread=1)\n",
    "xgb.fit(X_train1,y_train1)\n",
    "y_train_pred = xgb.predict(X_train1)\n",
    "y_train_prob = xgb.predict_proba(X_train1)\n",
    "\n",
    "y_test_pred = xgb.predict(X_test1)\n",
    "y_test_prob = xgb.predict_proba(X_test1)\n",
    "\n",
    "print(\"Accuracy\",accuracy_score(y_train1,y_train_pred))\n",
    "print(\"AUC train\", roc_auc_score(y_train1,y_train_prob, multi_class = \"ovo\"))\n",
    "print(\"F1 train\", f1_score(y_train1,y_train_pred,average = 'weighted'))\n",
    "print(\"recall\",recall_score(y_train1,y_train_pred,average = 'weighted'))\n",
    "print(\"Precision\",precision_score(y_train1,y_train_pred,average = 'weighted'))\n",
    "\n",
    "print(\"\\n\")\n",
    "print(\"Accuracy\",accuracy_score(y_test1,y_test_pred))\n",
    "print(\"AUC test\",roc_auc_score(y_test1,y_test_prob,multi_class = \"ovo\"))\n",
    "print(\"F1 test\",f1_score(y_test1,y_test_pred,average = 'weighted'))\n",
    "print(\"recall\",recall_score(y_test1,y_test_pred,average = 'weighted'))\n",
    "print(\"Precision\",precision_score(y_test1,y_test_pred,average = 'weighted'))"
   ]
  },
  {
   "cell_type": "code",
   "execution_count": 55,
   "metadata": {
    "collapsed": true,
    "jupyter": {
     "outputs_hidden": true
    }
   },
   "outputs": [
    {
     "ename": "KeyboardInterrupt",
     "evalue": "",
     "output_type": "error",
     "traceback": [
      "\u001b[0;31m---------------------------------------------------------------------------\u001b[0m",
      "\u001b[0;31mKeyboardInterrupt\u001b[0m                         Traceback (most recent call last)",
      "\u001b[0;32m<ipython-input-55-eee1ca645c62>\u001b[0m in \u001b[0;36m<module>\u001b[0;34m\u001b[0m\n\u001b[1;32m     11\u001b[0m     \u001b[0;31m# prepare train and test sets\u001b[0m\u001b[0;34m\u001b[0m\u001b[0;34m\u001b[0m\u001b[0;34m\u001b[0m\u001b[0m\n\u001b[1;32m     12\u001b[0m     \u001b[0mtrain\u001b[0m \u001b[0;34m=\u001b[0m \u001b[0mresample\u001b[0m\u001b[0;34m(\u001b[0m\u001b[0mX\u001b[0m\u001b[0;34m.\u001b[0m\u001b[0mvalues\u001b[0m\u001b[0;34m,\u001b[0m \u001b[0mn_samples\u001b[0m\u001b[0;34m=\u001b[0m\u001b[0mn_size\u001b[0m\u001b[0;34m)\u001b[0m\u001b[0;34m\u001b[0m\u001b[0;34m\u001b[0m\u001b[0m\n\u001b[0;32m---> 13\u001b[0;31m     \u001b[0mtest\u001b[0m \u001b[0;34m=\u001b[0m \u001b[0mnp\u001b[0m\u001b[0;34m.\u001b[0m\u001b[0marray\u001b[0m\u001b[0;34m(\u001b[0m\u001b[0;34m[\u001b[0m\u001b[0mx\u001b[0m \u001b[0;32mfor\u001b[0m \u001b[0mx\u001b[0m \u001b[0;32min\u001b[0m \u001b[0mX\u001b[0m\u001b[0;34m.\u001b[0m\u001b[0mvalues\u001b[0m \u001b[0;32mif\u001b[0m \u001b[0mx\u001b[0m\u001b[0;34m.\u001b[0m\u001b[0mtolist\u001b[0m\u001b[0;34m(\u001b[0m\u001b[0;34m)\u001b[0m \u001b[0;32mnot\u001b[0m \u001b[0;32min\u001b[0m \u001b[0mtrain\u001b[0m\u001b[0;34m.\u001b[0m\u001b[0mtolist\u001b[0m\u001b[0;34m(\u001b[0m\u001b[0;34m)\u001b[0m\u001b[0;34m]\u001b[0m\u001b[0;34m)\u001b[0m\u001b[0;34m\u001b[0m\u001b[0;34m\u001b[0m\u001b[0m\n\u001b[0m\u001b[1;32m     14\u001b[0m     \u001b[0;31m# fit model\u001b[0m\u001b[0;34m\u001b[0m\u001b[0;34m\u001b[0m\u001b[0;34m\u001b[0m\u001b[0m\n\u001b[1;32m     15\u001b[0m     \u001b[0mmodel\u001b[0m \u001b[0;34m=\u001b[0m \u001b[0mDecisionTreeClassifier\u001b[0m\u001b[0;34m(\u001b[0m\u001b[0;34m)\u001b[0m\u001b[0;34m\u001b[0m\u001b[0;34m\u001b[0m\u001b[0m\n",
      "\u001b[0;32m<ipython-input-55-eee1ca645c62>\u001b[0m in \u001b[0;36m<listcomp>\u001b[0;34m(.0)\u001b[0m\n\u001b[1;32m     11\u001b[0m     \u001b[0;31m# prepare train and test sets\u001b[0m\u001b[0;34m\u001b[0m\u001b[0;34m\u001b[0m\u001b[0;34m\u001b[0m\u001b[0m\n\u001b[1;32m     12\u001b[0m     \u001b[0mtrain\u001b[0m \u001b[0;34m=\u001b[0m \u001b[0mresample\u001b[0m\u001b[0;34m(\u001b[0m\u001b[0mX\u001b[0m\u001b[0;34m.\u001b[0m\u001b[0mvalues\u001b[0m\u001b[0;34m,\u001b[0m \u001b[0mn_samples\u001b[0m\u001b[0;34m=\u001b[0m\u001b[0mn_size\u001b[0m\u001b[0;34m)\u001b[0m\u001b[0;34m\u001b[0m\u001b[0;34m\u001b[0m\u001b[0m\n\u001b[0;32m---> 13\u001b[0;31m     \u001b[0mtest\u001b[0m \u001b[0;34m=\u001b[0m \u001b[0mnp\u001b[0m\u001b[0;34m.\u001b[0m\u001b[0marray\u001b[0m\u001b[0;34m(\u001b[0m\u001b[0;34m[\u001b[0m\u001b[0mx\u001b[0m \u001b[0;32mfor\u001b[0m \u001b[0mx\u001b[0m \u001b[0;32min\u001b[0m \u001b[0mX\u001b[0m\u001b[0;34m.\u001b[0m\u001b[0mvalues\u001b[0m \u001b[0;32mif\u001b[0m \u001b[0mx\u001b[0m\u001b[0;34m.\u001b[0m\u001b[0mtolist\u001b[0m\u001b[0;34m(\u001b[0m\u001b[0;34m)\u001b[0m \u001b[0;32mnot\u001b[0m \u001b[0;32min\u001b[0m \u001b[0mtrain\u001b[0m\u001b[0;34m.\u001b[0m\u001b[0mtolist\u001b[0m\u001b[0;34m(\u001b[0m\u001b[0;34m)\u001b[0m\u001b[0;34m]\u001b[0m\u001b[0;34m)\u001b[0m\u001b[0;34m\u001b[0m\u001b[0;34m\u001b[0m\u001b[0m\n\u001b[0m\u001b[1;32m     14\u001b[0m     \u001b[0;31m# fit model\u001b[0m\u001b[0;34m\u001b[0m\u001b[0;34m\u001b[0m\u001b[0;34m\u001b[0m\u001b[0m\n\u001b[1;32m     15\u001b[0m     \u001b[0mmodel\u001b[0m \u001b[0;34m=\u001b[0m \u001b[0mDecisionTreeClassifier\u001b[0m\u001b[0;34m(\u001b[0m\u001b[0;34m)\u001b[0m\u001b[0;34m\u001b[0m\u001b[0;34m\u001b[0m\u001b[0m\n",
      "\u001b[0;31mKeyboardInterrupt\u001b[0m: "
     ]
    }
   ],
   "source": [
    "from sklearn.utils import resample\n",
    "from sklearn.tree import DecisionTreeClassifier\n",
    "from sklearn.metrics import accuracy_score\n",
    "from matplotlib import pyplot\n",
    "\n",
    "n_iterations = 10\n",
    "n_size = int(len(data) * 0.50)\n",
    "# run bootstrap\n",
    "stats = list()\n",
    "for i in range(n_iterations):\n",
    "    # prepare train and test sets\n",
    "    train = resample(X.values, n_samples=n_size)\n",
    "    test = np.array([x for x in X.values if x.tolist() not in train.tolist()])\n",
    "    # fit model\n",
    "    model = DecisionTreeClassifier()\n",
    "    model.fit(train, y.values)\n",
    "    # evaluate model\n",
    "    predictions = model.predict(test)\n",
    "    score = accuracy_score(y, predictions)\n",
    "    print(score)\n",
    "    stats.append(score)\n",
    "# plot scores\n",
    "pyplot.hist(stats)\n",
    "pyplot.show()\n",
    "# confidence intervals\n",
    "alpha = 0.95\n",
    "p = ((1.0-alpha)/2.0) * 100\n",
    "lower = max(0.0, numpy.percentile(stats, p))\n",
    "p = (alpha+((1.0-alpha)/2.0)) * 100\n",
    "upper = min(1.0, numpy.percentile(stats, p))\n",
    "print('%.1f confidence interval %.1f%% and %.1f%%' % (alpha*100, lower*100, upper*100))\n"
   ]
  },
  {
   "cell_type": "code",
   "execution_count": 229,
   "metadata": {},
   "outputs": [
    {
     "name": "stdout",
     "output_type": "stream",
     "text": [
      "[02:11:35] WARNING: /Users/travis/build/dmlc/xgboost/src/learner.cc:516: \n",
      "Parameters: { silent } might not be used.\n",
      "\n",
      "  This may not be accurate due to some parameters are only used in language bindings but\n",
      "  passed down to XGBoost core.  Or some parameters are not used but slip through this\n",
      "  verification. Please open an issue if you find above cases.\n",
      "\n",
      "\n",
      "[02:13:44] WARNING: /Users/travis/build/dmlc/xgboost/src/learner.cc:516: \n",
      "Parameters: { silent } might not be used.\n",
      "\n",
      "  This may not be accurate due to some parameters are only used in language bindings but\n",
      "  passed down to XGBoost core.  Or some parameters are not used but slip through this\n",
      "  verification. Please open an issue if you find above cases.\n",
      "\n",
      "\n",
      "[02:15:58] WARNING: /Users/travis/build/dmlc/xgboost/src/learner.cc:516: \n",
      "Parameters: { silent } might not be used.\n",
      "\n",
      "  This may not be accurate due to some parameters are only used in language bindings but\n",
      "  passed down to XGBoost core.  Or some parameters are not used but slip through this\n",
      "  verification. Please open an issue if you find above cases.\n",
      "\n",
      "\n",
      "[02:18:10] WARNING: /Users/travis/build/dmlc/xgboost/src/learner.cc:516: \n",
      "Parameters: { silent } might not be used.\n",
      "\n",
      "  This may not be accurate due to some parameters are only used in language bindings but\n",
      "  passed down to XGBoost core.  Or some parameters are not used but slip through this\n",
      "  verification. Please open an issue if you find above cases.\n",
      "\n",
      "\n",
      "[02:20:18] WARNING: /Users/travis/build/dmlc/xgboost/src/learner.cc:516: \n",
      "Parameters: { silent } might not be used.\n",
      "\n",
      "  This may not be accurate due to some parameters are only used in language bindings but\n",
      "  passed down to XGBoost core.  Or some parameters are not used but slip through this\n",
      "  verification. Please open an issue if you find above cases.\n",
      "\n",
      "\n",
      "[02:22:24] WARNING: /Users/travis/build/dmlc/xgboost/src/learner.cc:516: \n",
      "Parameters: { silent } might not be used.\n",
      "\n",
      "  This may not be accurate due to some parameters are only used in language bindings but\n",
      "  passed down to XGBoost core.  Or some parameters are not used but slip through this\n",
      "  verification. Please open an issue if you find above cases.\n",
      "\n",
      "\n",
      "[02:24:33] WARNING: /Users/travis/build/dmlc/xgboost/src/learner.cc:516: \n",
      "Parameters: { silent } might not be used.\n",
      "\n",
      "  This may not be accurate due to some parameters are only used in language bindings but\n",
      "  passed down to XGBoost core.  Or some parameters are not used but slip through this\n",
      "  verification. Please open an issue if you find above cases.\n",
      "\n",
      "\n",
      "[02:26:53] WARNING: /Users/travis/build/dmlc/xgboost/src/learner.cc:516: \n",
      "Parameters: { silent } might not be used.\n",
      "\n",
      "  This may not be accurate due to some parameters are only used in language bindings but\n",
      "  passed down to XGBoost core.  Or some parameters are not used but slip through this\n",
      "  verification. Please open an issue if you find above cases.\n",
      "\n",
      "\n",
      "[02:29:11] WARNING: /Users/travis/build/dmlc/xgboost/src/learner.cc:516: \n",
      "Parameters: { silent } might not be used.\n",
      "\n",
      "  This may not be accurate due to some parameters are only used in language bindings but\n",
      "  passed down to XGBoost core.  Or some parameters are not used but slip through this\n",
      "  verification. Please open an issue if you find above cases.\n",
      "\n",
      "\n",
      "[02:31:35] WARNING: /Users/travis/build/dmlc/xgboost/src/learner.cc:516: \n",
      "Parameters: { silent } might not be used.\n",
      "\n",
      "  This may not be accurate due to some parameters are only used in language bindings but\n",
      "  passed down to XGBoost core.  Or some parameters are not used but slip through this\n",
      "  verification. Please open an issue if you find above cases.\n",
      "\n",
      "\n",
      "Accuracy: 0.90 (+/- 0.01)\n"
     ]
    }
   ],
   "source": [
    "from sklearn.model_selection import StratifiedKFold\n",
    "from sklearn.model_selection import cross_validate\n",
    "from sklearn.metrics import f1_score, make_scorer, roc_auc_score\n",
    "scoring = {'accuracy' : make_scorer(accuracy_score)}\n",
    "skf = StratifiedKFold(n_splits=5,)\n",
    "model2 = XGBClassifier(**random_search1.best_params_,learning_rate=0.02, n_estimators=600,\n",
    "                silent=True, nthread=1)\n",
    "results = cross_validate(model2, X_train1, y_train1, cv=10, scoring = scoring)\n",
    "print(\"Accuracy: %0.2f (+/- %0.2f)\" % (np.mean(results['test_accuracy']), np.std(results['test_accuracy']) * 2))"
   ]
  },
  {
   "cell_type": "code",
   "execution_count": 176,
   "metadata": {},
   "outputs": [
    {
     "name": "stdout",
     "output_type": "stream",
     "text": [
      "Accuracy 0.9256936936936937\n",
      "AUC train 0.9942782322409252\n",
      "F1 train 0.9257424212033983\n",
      "recall 0.9256936936936937\n",
      "Precision 0.9280164890691389\n",
      "\n",
      "\n",
      "Accuracy 0.908777534891542\n",
      "AUC test 0.9919473497363626\n",
      "F1 test 0.9088696203183771\n",
      "recall 0.908777534891542\n",
      "Precision 0.9109593726828038\n"
     ]
    }
   ],
   "source": [
    "print(\"Accuracy\",accuracy_score(y_train,y_train_predX))\n",
    "print(\"AUC train\", roc_auc_score(y_train,y_train_probX, multi_class = \"ovo\"))\n",
    "print(\"F1 train\", f1_score(y_train,y_train_predX,average = 'weighted'))\n",
    "print(\"recall\",recall_score(y_train,y_train_predX,average = 'weighted'))\n",
    "print(\"Precision\",precision_score(y_train,y_train_predX,average = 'weighted'))\n",
    "\n",
    "print(\"\\n\")\n",
    "print(\"Accuracy\",accuracy_score(y_test,y_test_predX))\n",
    "print(\"AUC test\",roc_auc_score(y_test,y_test_probX,multi_class = \"ovo\"))\n",
    "print(\"F1 test\",f1_score(y_test,y_test_predX,average = 'weighted'))\n",
    "print(\"recall\",recall_score(y_test,y_test_predX,average = 'weighted'))\n",
    "print(\"Precision\",precision_score(y_test,y_test_predX,average = 'weighted'))"
   ]
  },
  {
   "cell_type": "code",
   "execution_count": 214,
   "metadata": {},
   "outputs": [
    {
     "name": "stdout",
     "output_type": "stream",
     "text": [
      "Accuracy: 0.89 (+/- 0.04)\n"
     ]
    }
   ],
   "source": [
    "from sklearn.model_selection import StratifiedKFold\n",
    "from sklearn.model_selection import cross_validate\n",
    "from sklearn.metrics import f1_score, make_scorer, roc_auc_score\n",
    "scoring = {'accuracy' : make_scorer(accuracy_score)}\n",
    "modelX = XGBClassifier(**random_search.best_params_,learning_rate=0.02, n_estimators=600,silent=True, nthread=1)\n",
    "resultsX = cross_validate(model, X1, y, cv=10, scoring = scoring)\n",
    "print(\"Accuracy: %0.2f (+/- %0.2f)\" % (np.mean(resultsX['test_accuracy']), np.std(resultsX['test_accuracy']) * 2))"
   ]
  },
  {
   "cell_type": "code",
   "execution_count": 180,
   "metadata": {},
   "outputs": [
    {
     "data": {
      "image/png": "[encoded data removed]",
      "text/plain": [
       "<Figure size 864x360 with 4 Axes>"
      ]
     },
     "metadata": {
      "needs_background": "light"
     },
     "output_type": "display_data"
    }
   ],
   "source": [
    "fig,axes = plt.subplots(1,2,figsize = (12,5))\n",
    "sns.heatmap(confusion_matrix(y_test,y_test_predX),fmt = 'd',annot = True, ax = axes[0])\n",
    "sns.heatmap(confusion_matrix(y_train,y_train_predX),fmt = 'd',annot = True,ax = axes[1])\n",
    "plt.savefig(\"4 XGB CM.png\")\n",
    "plt.show()"
   ]
  },
  {
   "cell_type": "code",
   "execution_count": 179,
   "metadata": {},
   "outputs": [
    {
     "data": {
      "image/png": "[encoded data removed]",
      "text/plain": [
       "<Figure size 936x360 with 1 Axes>"
      ]
     },
     "metadata": {
      "needs_background": "light"
     },
     "output_type": "display_data"
    }
   ],
   "source": [
    "import numpy as np\n",
    "import matplotlib.pyplot as plt\n",
    "from itertools import cycle\n",
    "\n",
    "from sklearn import svm, datasets\n",
    "from sklearn.metrics import roc_curve, auc\n",
    "from sklearn.model_selection import train_test_split\n",
    "from sklearn.preprocessing import label_binarize\n",
    "from sklearn.multiclass import OneVsRestClassifier\n",
    "from numpy import interp\n",
    "from sklearn.metrics import roc_auc_score\n",
    "\n",
    "\n",
    "\n",
    "y_test1 = label_binarize(y_test, classes=[0, 1, 2,3])\n",
    "n_classes = 4\n",
    "\n",
    "\n",
    "\n",
    "# Compute ROC curve and ROC area for each class\n",
    "fpr = dict()\n",
    "tpr = dict()\n",
    "roc_auc = dict()\n",
    "for i in range(n_classes):\n",
    "    fpr[i], tpr[i], _ = roc_curve(y_test1[:, i], y_test_probX[:, i])\n",
    "    roc_auc[i] = auc(fpr[i], tpr[i])\n",
    "\n",
    "# Compute micro-average ROC curve and ROC area\n",
    "fpr[\"micro\"], tpr[\"micro\"], _ = roc_curve(y_test1.ravel(), y_test_probX.ravel())\n",
    "roc_auc[\"micro\"] = auc(fpr[\"micro\"], tpr[\"micro\"])\n",
    "\n",
    "\n",
    "\n",
    "\n",
    "all_fpr = np.unique(np.concatenate([fpr[i] for i in range(n_classes)]))\n",
    "\n",
    "# Then interpolate all ROC curves at this points\n",
    "mean_tpr = np.zeros_like(all_fpr)\n",
    "for i in range(n_classes):\n",
    "    mean_tpr += interp(all_fpr, fpr[i], tpr[i])\n",
    "\n",
    "# Finally average it and compute AUC\n",
    "mean_tpr /= n_classes\n",
    "\n",
    "fpr[\"macro\"] = all_fpr\n",
    "tpr[\"macro\"] = mean_tpr\n",
    "roc_auc[\"macro\"] = auc(fpr[\"macro\"], tpr[\"macro\"])\n",
    "lw = 2\n",
    "# Plot all ROC curves\n",
    "plt.figure(figsize = (13,5))\n",
    "\n",
    "\n",
    "colors = cycle(['aqua', 'darkorange', 'cornflowerblue',\"green\"])\n",
    "for i, color in zip(range(n_classes), colors):\n",
    "    plt.plot(fpr[i], tpr[i], color=color, lw=lw,\n",
    "             label='ROC curve of class {0} (area = {1:0.2f})'\n",
    "             ''.format(i, roc_auc[i]))\n",
    "\n",
    "plt.plot([0, 1], [0, 1], 'k--', lw=lw)\n",
    "plt.xlim([0.0, 1.0])\n",
    "plt.ylim([0.0, 1.05])\n",
    "plt.xlabel('False Positive Rate')\n",
    "plt.ylabel('True Positive Rate')\n",
    "plt.title('Some extension of Receiver operating characteristic to multi-class')\n",
    "plt.legend(loc=\"lower right\")\n",
    "plt.savefig(\"4 XGB ROC.png\")\n",
    "plt.show()"
   ]
  },
  {
   "cell_type": "code",
   "execution_count": 177,
   "metadata": {},
   "outputs": [
    {
     "ename": "KeyError",
     "evalue": "'mean_test_score'",
     "output_type": "error",
     "traceback": [
      "\u001b[0;31m---------------------------------------------------------------------------\u001b[0m",
      "\u001b[0;31mKeyError\u001b[0m                                  Traceback (most recent call last)",
      "\u001b[0;32m<ipython-input-177-02e2258bcb9f>\u001b[0m in \u001b[0;36m<module>\u001b[0;34m\u001b[0m\n\u001b[0;32m----> 1\u001b[0;31m \u001b[0mmeans\u001b[0m \u001b[0;34m=\u001b[0m \u001b[0mrandom_search\u001b[0m\u001b[0;34m.\u001b[0m\u001b[0mcv_results_\u001b[0m\u001b[0;34m[\u001b[0m\u001b[0;34m'mean_test_score'\u001b[0m\u001b[0;34m]\u001b[0m\u001b[0;34m\u001b[0m\u001b[0;34m\u001b[0m\u001b[0m\n\u001b[0m\u001b[1;32m      2\u001b[0m \u001b[0mstds\u001b[0m \u001b[0;34m=\u001b[0m \u001b[0mrandom_search\u001b[0m\u001b[0;34m.\u001b[0m\u001b[0mcv_results_\u001b[0m\u001b[0;34m[\u001b[0m\u001b[0;34m'std_test_score'\u001b[0m\u001b[0;34m]\u001b[0m\u001b[0;34m\u001b[0m\u001b[0;34m\u001b[0m\u001b[0m\n\u001b[1;32m      3\u001b[0m \u001b[0mparams\u001b[0m \u001b[0;34m=\u001b[0m \u001b[0mrandom_search\u001b[0m\u001b[0;34m.\u001b[0m\u001b[0mcv_results_\u001b[0m\u001b[0;34m[\u001b[0m\u001b[0;34m'params'\u001b[0m\u001b[0;34m]\u001b[0m\u001b[0;34m\u001b[0m\u001b[0;34m\u001b[0m\u001b[0m\n\u001b[1;32m      4\u001b[0m \u001b[0;32mfor\u001b[0m \u001b[0mmean\u001b[0m\u001b[0;34m,\u001b[0m \u001b[0mstdev\u001b[0m\u001b[0;34m,\u001b[0m \u001b[0mparam\u001b[0m \u001b[0;32min\u001b[0m \u001b[0mzip\u001b[0m\u001b[0;34m(\u001b[0m\u001b[0mmeans\u001b[0m\u001b[0;34m,\u001b[0m \u001b[0mstds\u001b[0m\u001b[0;34m,\u001b[0m \u001b[0mparams\u001b[0m\u001b[0;34m)\u001b[0m\u001b[0;34m:\u001b[0m\u001b[0;34m\u001b[0m\u001b[0;34m\u001b[0m\u001b[0m\n\u001b[1;32m      5\u001b[0m     \u001b[0mprint\u001b[0m\u001b[0;34m(\u001b[0m\u001b[0;34m\"%f (%f) with: %r\"\u001b[0m \u001b[0;34m%\u001b[0m \u001b[0;34m(\u001b[0m\u001b[0mmean\u001b[0m\u001b[0;34m,\u001b[0m \u001b[0mstdev\u001b[0m\u001b[0;34m,\u001b[0m \u001b[0mparam\u001b[0m\u001b[0;34m)\u001b[0m\u001b[0;34m)\u001b[0m\u001b[0;34m\u001b[0m\u001b[0;34m\u001b[0m\u001b[0m\n",
      "\u001b[0;31mKeyError\u001b[0m: 'mean_test_score'"
     ]
    }
   ],
   "source": [
    "means = random_search.cv_results_['mean_test_score']\n",
    "stds = random_search.cv_results_['std_test_score']\n",
    "params = random_search.cv_results_['params']\n",
    "for mean, stdev, param in zip(means, stds, params):\n",
    "    print(\"%f (%f) with: %r\" % (mean, stdev, param))"
   ]
  },
  {
   "cell_type": "code",
   "execution_count": 211,
   "metadata": {
    "collapsed": true,
    "jupyter": {
     "outputs_hidden": true
    }
   },
   "outputs": [
    {
     "data": {
      "text/plain": [
       "{'mean_fit_time': array([439.09961963, 531.83643327, 363.96383843, 422.22082005,\n",
       "        392.10375075]),\n",
       " 'std_fit_time': array([67.77971588, 17.70197122, 58.58581907, 65.11645554, 31.06309882]),\n",
       " 'mean_score_time': array([1.90689173, 2.0843996 , 1.51155877, 1.60140476, 2.14319496]),\n",
       " 'std_score_time': array([0.62353176, 0.96112339, 0.28129756, 0.65207953, 0.34241034]),\n",
       " 'param_subsample': masked_array(data=[1.0, 0.6, 0.6, 0.8, 0.8],\n",
       "              mask=[False, False, False, False, False],\n",
       "        fill_value='?',\n",
       "             dtype=object),\n",
       " 'param_min_child_weight': masked_array(data=[10, 10, 1, 1, 10],\n",
       "              mask=[False, False, False, False, False],\n",
       "        fill_value='?',\n",
       "             dtype=object),\n",
       " 'param_max_depth': masked_array(data=[5, 5, 3, 5, 5],\n",
       "              mask=[False, False, False, False, False],\n",
       "        fill_value='?',\n",
       "             dtype=object),\n",
       " 'param_gamma': masked_array(data=[5, 1, 0.5, 1, 0.5],\n",
       "              mask=[False, False, False, False, False],\n",
       "        fill_value='?',\n",
       "             dtype=object),\n",
       " 'param_colsample_bytree': masked_array(data=[0.8, 0.8, 0.8, 0.6, 0.6],\n",
       "              mask=[False, False, False, False, False],\n",
       "        fill_value='?',\n",
       "             dtype=object),\n",
       " 'params': [{'subsample': 1.0,\n",
       "   'min_child_weight': 10,\n",
       "   'max_depth': 5,\n",
       "   'gamma': 5,\n",
       "   'colsample_bytree': 0.8},\n",
       "  {'subsample': 0.6,\n",
       "   'min_child_weight': 10,\n",
       "   'max_depth': 5,\n",
       "   'gamma': 1,\n",
       "   'colsample_bytree': 0.8},\n",
       "  {'subsample': 0.6,\n",
       "   'min_child_weight': 1,\n",
       "   'max_depth': 3,\n",
       "   'gamma': 0.5,\n",
       "   'colsample_bytree': 0.8},\n",
       "  {'subsample': 0.8,\n",
       "   'min_child_weight': 1,\n",
       "   'max_depth': 5,\n",
       "   'gamma': 1,\n",
       "   'colsample_bytree': 0.6},\n",
       "  {'subsample': 0.8,\n",
       "   'min_child_weight': 10,\n",
       "   'max_depth': 5,\n",
       "   'gamma': 0.5,\n",
       "   'colsample_bytree': 0.6}],\n",
       " 'split0_test_f1_macro': array([0.93870392, 0.94314137, 0.92840572, 0.94390291, 0.94335087]),\n",
       " 'split1_test_f1_macro': array([0.94182955, 0.94381254, 0.92706328, 0.94258807, 0.94296657]),\n",
       " 'split2_test_f1_macro': array([0.94538007, 0.94823377, 0.92851441, 0.94568168, 0.94623369]),\n",
       " 'split3_test_f1_macro': array([0.94190042, 0.94523686, 0.93132361, 0.94540558, 0.94487347]),\n",
       " 'split4_test_f1_macro': array([0.94110181, 0.94233194, 0.92767205, 0.94141888, 0.94160404]),\n",
       " 'mean_test_f1_macro': array([0.94178315, 0.94455129, 0.92859581, 0.94379942, 0.94380573]),\n",
       " 'std_test_f1_macro': array([0.00214008, 0.00207315, 0.00146189, 0.00162897, 0.0015996 ]),\n",
       " 'rank_test_f1_macro': array([4, 1, 5, 3, 2], dtype=int32),\n",
       " 'split0_train_f1_macro': array([0.9512186 , 0.96098984, 0.93361943, 0.95873177, 0.95726755]),\n",
       " 'split1_train_f1_macro': array([0.95038795, 0.95947714, 0.93332819, 0.95768829, 0.95659122]),\n",
       " 'split2_train_f1_macro': array([0.9487767 , 0.95826939, 0.93301365, 0.95590559, 0.95525295]),\n",
       " 'split3_train_f1_macro': array([0.95001521, 0.95936584, 0.93404385, 0.95927611, 0.95843704]),\n",
       " 'split4_train_f1_macro': array([0.95082944, 0.96036596, 0.93515182, 0.95947406, 0.95823242]),\n",
       " 'mean_train_f1_macro': array([0.95024558, 0.95969363, 0.93383139, 0.95821516, 0.95715624]),\n",
       " 'std_train_f1_macro': array([0.00083888, 0.00092897, 0.00074236, 0.00131065, 0.00116213]),\n",
       " 'split0_test_precision_macro': array([0.93962074, 0.94409286, 0.92954552, 0.94487033, 0.94430951]),\n",
       " 'split1_test_precision_macro': array([0.94219222, 0.94408767, 0.92771354, 0.94265397, 0.94316002]),\n",
       " 'split2_test_precision_macro': array([0.94573738, 0.94874998, 0.92938497, 0.94617522, 0.94673004]),\n",
       " 'split3_test_precision_macro': array([0.94203353, 0.94538275, 0.93207817, 0.94558466, 0.94506284]),\n",
       " 'split4_test_precision_macro': array([0.94103591, 0.94238938, 0.92799671, 0.9413897 , 0.94157608]),\n",
       " 'mean_test_precision_macro': array([0.94212396, 0.94494053, 0.92934378, 0.94413477, 0.9441677 ]),\n",
       " 'std_test_precision_macro': array([0.00202582, 0.00212893, 0.00154865, 0.00181851, 0.0017389 ]),\n",
       " 'rank_test_precision_macro': array([4, 1, 5, 3, 2], dtype=int32),\n",
       " 'split0_train_precision_macro': array([0.95156616, 0.96135839, 0.93414271, 0.95909611, 0.9576247 ]),\n",
       " 'split1_train_precision_macro': array([0.95051541, 0.95963535, 0.9337365 , 0.95783886, 0.95670564]),\n",
       " 'split2_train_precision_macro': array([0.94920722, 0.95879955, 0.93393951, 0.95632834, 0.95570079]),\n",
       " 'split3_train_precision_macro': array([0.95041882, 0.9597713 , 0.93500541, 0.95969546, 0.95888779]),\n",
       " 'split4_train_precision_macro': array([0.95101044, 0.96059222, 0.93581489, 0.95965496, 0.95838717]),\n",
       " 'mean_train_precision_macro': array([0.95054361, 0.96003136, 0.93452781, 0.95852274, 0.95746122]),\n",
       " 'std_train_precision_macro': array([0.00078305, 0.00087377, 0.00077527, 0.001286  , 0.00114797])}"
      ]
     },
     "execution_count": 211,
     "metadata": {},
     "output_type": "execute_result"
    }
   ],
   "source": [
    "random_search.cv_results_"
   ]
  },
  {
   "cell_type": "code",
   "execution_count": 53,
   "metadata": {},
   "outputs": [
    {
     "name": "stderr",
     "output_type": "stream",
     "text": [
      "/opt/anaconda3/lib/python3.7/site-packages/lightgbm/__init__.py:48: UserWarning: Starting from version 2.2.1, the library file in distribution wheels for macOS is built by the Apple Clang (Xcode_8.3.3) compiler.\n",
      "This means that in case of installing LightGBM from PyPI via the ``pip install lightgbm`` command, you don't need to install the gcc compiler anymore.\n",
      "Instead of that, you need to install the OpenMP library, which is required for running LightGBM on the system with the Apple Clang compiler.\n",
      "You can install the OpenMP library by the following command: ``brew install libomp``.\n",
      "  \"You can install the OpenMP library by the following command: ``brew install libomp``.\", UserWarning)\n",
      "/opt/anaconda3/lib/python3.7/site-packages/sklearn/model_selection/_split.py:297: FutureWarning: Setting a random_state has no effect since shuffle is False. This will raise an error in 0.24. You should leave random_state to its default (None), or set shuffle=True.\n",
      "  FutureWarning\n"
     ]
    },
    {
     "data": {
      "text/plain": [
       "{'learning_rate': 0.18390402513009568, 'max_depth': 5, 'n_estimators': 170}"
      ]
     },
     "execution_count": 53,
     "metadata": {},
     "output_type": "execute_result"
    }
   ],
   "source": [
    "import lightgbm as lgb\n",
    "from sklearn.metrics import precision_recall_fscore_support as score\n",
    "from sklearn.model_selection import RandomizedSearchCV\n",
    "from scipy.stats import randint as sp_randint\n",
    "from scipy.stats import uniform as sp_uniform\n",
    "\n",
    "lgbc = lgb.LGBMClassifier(random_state = 3)\n",
    "\n",
    "params = {'n_estimators' :sp_randint(70,200),\n",
    "          'max_depth': sp_randint(1,10),\n",
    "          'learning_rate': sp_uniform(0,0.5)}\n",
    "skf = StratifiedKFold(n_splits=5, random_state = 1001)\n",
    "rsearch_lgbm = RandomizedSearchCV(lgbc, param_distributions = params, cv = skf, n_iter=10, n_jobs = 2, scoring = ['f1_macro','precision_macro'], refit ='f1_macro')\n",
    "\n",
    "rsearch_lgbm.fit(X_train,y_train)\n",
    "rsearch_lgbm.best_params_"
   ]
  },
  {
   "cell_type": "code",
   "execution_count": 94,
   "metadata": {},
   "outputs": [
    {
     "data": {
      "text/plain": [
       "{'learning_rate': 0.3442287883514442, 'max_depth': 3, 'n_estimators': 110}"
      ]
     },
     "execution_count": 94,
     "metadata": {},
     "output_type": "execute_result"
    }
   ],
   "source": [
    "rsearch_lgbm.best_params_"
   ]
  },
  {
   "cell_type": "code",
   "execution_count": 95,
   "metadata": {},
   "outputs": [
    {
     "name": "stdout",
     "output_type": "stream",
     "text": [
      "Accuracy 0.926990990990991\n",
      "AUC train 0.9947652100078502\n",
      "F1 train 0.9269646843150923\n",
      "recall 0.926990990990991\n",
      "Precision 0.9284442756631154\n",
      "\n",
      "\n",
      "Accuracy 0.9144106272069952\n",
      "AUC test 0.9930975128344022\n",
      "F1 test 0.9144868725668714\n",
      "recall 0.9144106272069952\n",
      "Precision 0.9158803493133826\n"
     ]
    }
   ],
   "source": [
    "gbc_r = lgb.LGBMClassifier(**rsearch_lgbm.best_params_,random_state = 3)\n",
    "gbc_r.fit(X_train,y_train)\n",
    "y_train_predL = gbc_r.predict(X_train)\n",
    "y_train_probL = gbc_r.predict_proba(X_train)\n",
    "\n",
    "y_test_predL = gbc_r.predict(X_test)\n",
    "y_test_probL = gbc_r.predict_proba(X_test)\n",
    "\n",
    "\n",
    "print(\"Accuracy\",accuracy_score(y_train,y_train_predL))\n",
    "print(\"AUC train\", roc_auc_score(y_train,y_train_probL, multi_class = \"ovo\"))\n",
    "print(\"F1 train\", f1_score(y_train,y_train_predL,average = 'weighted'))\n",
    "print(\"recall\",recall_score(y_train,y_train_predL,average = 'weighted'))\n",
    "print(\"Precision\",precision_score(y_train,y_train_predL,average = 'weighted'))\n",
    "\n",
    "print(\"\\n\")\n",
    "print(\"Accuracy\",accuracy_score(y_test,y_test_predL))\n",
    "print(\"AUC test\",roc_auc_score(y_test,y_test_probL,multi_class = \"ovo\"))\n",
    "print(\"F1 test\",f1_score(y_test,y_test_predL,average = 'weighted'))\n",
    "print(\"recall\",recall_score(y_test,y_test_predL,average = 'weighted'))\n",
    "print(\"Precision\",precision_score(y_test,y_test_predL,average = 'weighted'))"
   ]
  },
  {
   "cell_type": "code",
   "execution_count": 93,
   "metadata": {},
   "outputs": [
    {
     "name": "stdout",
     "output_type": "stream",
     "text": [
      "Accuracy 0.9256936936936937\n",
      "AUC train 0.9942782322409252\n",
      "F1 train 0.9257424212033983\n",
      "recall 0.9256936936936937\n",
      "Precision 0.9280164890691389\n",
      "\n",
      "\n",
      "Accuracy 0.908777534891542\n",
      "AUC test 0.9919473497363626\n",
      "F1 test 0.9088696203183771\n",
      "recall 0.908777534891542\n",
      "Precision 0.9109593726828038\n"
     ]
    }
   ],
   "source": []
  },
  {
   "cell_type": "code",
   "execution_count": 181,
   "metadata": {},
   "outputs": [
    {
     "data": {
      "image/png": "[encoded data removed]",
      "text/plain": [
       "<Figure size 864x360 with 4 Axes>"
      ]
     },
     "metadata": {
      "needs_background": "light"
     },
     "output_type": "display_data"
    }
   ],
   "source": [
    "fig,axes = plt.subplots(1,2,figsize = (12,5))\n",
    "sns.heatmap(confusion_matrix(y_test,y_test_predL),fmt = 'd',annot = True, ax = axes[0])\n",
    "sns.heatmap(confusion_matrix(y_train,y_train_predL),fmt = 'd',annot = True,ax = axes[1])\n",
    "plt.savefig(\"4 LGBM CM.png\")\n",
    "plt.show()"
   ]
  },
  {
   "cell_type": "code",
   "execution_count": 182,
   "metadata": {},
   "outputs": [
    {
     "data": {
      "image/png": "[encoded data removed]",
      "text/plain": [
       "<Figure size 936x360 with 1 Axes>"
      ]
     },
     "metadata": {
      "needs_background": "light"
     },
     "output_type": "display_data"
    }
   ],
   "source": [
    "import numpy as np\n",
    "import matplotlib.pyplot as plt\n",
    "from itertools import cycle\n",
    "\n",
    "from sklearn import svm, datasets\n",
    "from sklearn.metrics import roc_curve, auc\n",
    "from sklearn.model_selection import train_test_split\n",
    "from sklearn.preprocessing import label_binarize\n",
    "from sklearn.multiclass import OneVsRestClassifier\n",
    "from numpy import interp\n",
    "from sklearn.metrics import roc_auc_score\n",
    "\n",
    "\n",
    "\n",
    "y_test1 = label_binarize(y_test, classes=[0, 1, 2,3])\n",
    "n_classes = 4\n",
    "\n",
    "\n",
    "\n",
    "# Compute ROC curve and ROC area for each class\n",
    "fpr = dict()\n",
    "tpr = dict()\n",
    "roc_auc = dict()\n",
    "for i in range(n_classes):\n",
    "    fpr[i], tpr[i], _ = roc_curve(y_test1[:, i], y_test_probL[:, i])\n",
    "    roc_auc[i] = auc(fpr[i], tpr[i])\n",
    "\n",
    "# Compute micro-average ROC curve and ROC area\n",
    "fpr[\"micro\"], tpr[\"micro\"], _ = roc_curve(y_test1.ravel(), y_test_probL.ravel())\n",
    "roc_auc[\"micro\"] = auc(fpr[\"micro\"], tpr[\"micro\"])\n",
    "\n",
    "\n",
    "\n",
    "\n",
    "all_fpr = np.unique(np.concatenate([fpr[i] for i in range(n_classes)]))\n",
    "\n",
    "# Then interpolate all ROC curves at this points\n",
    "mean_tpr = np.zeros_like(all_fpr)\n",
    "for i in range(n_classes):\n",
    "    mean_tpr += interp(all_fpr, fpr[i], tpr[i])\n",
    "\n",
    "# Finally average it and compute AUC\n",
    "mean_tpr /= n_classes\n",
    "\n",
    "fpr[\"macro\"] = all_fpr\n",
    "tpr[\"macro\"] = mean_tpr\n",
    "roc_auc[\"macro\"] = auc(fpr[\"macro\"], tpr[\"macro\"])\n",
    "lw = 2\n",
    "# Plot all ROC curves\n",
    "plt.figure(figsize = (13,5))\n",
    "\n",
    "\n",
    "colors = cycle(['aqua', 'darkorange', 'cornflowerblue',\"green\"])\n",
    "for i, color in zip(range(n_classes), colors):\n",
    "    plt.plot(fpr[i], tpr[i], color=color, lw=lw,\n",
    "             label='ROC curve of class {0} (area = {1:0.2f})'\n",
    "             ''.format(i, roc_auc[i]))\n",
    "\n",
    "plt.plot([0, 1], [0, 1], 'k--', lw=lw)\n",
    "plt.xlim([0.0, 1.0])\n",
    "plt.ylim([0.0, 1.05])\n",
    "plt.xlabel('False Positive Rate')\n",
    "plt.ylabel('True Positive Rate')\n",
    "plt.title('Some extension of Receiver operating characteristic to multi-class')\n",
    "plt.legend(loc=\"lower right\")\n",
    "plt.savefig(\"4 LGBM ROC.png\")\n",
    "plt.show()"
   ]
  },
  {
   "cell_type": "code",
   "execution_count": null,
   "metadata": {},
   "outputs": [],
   "source": []
  },
  {
   "cell_type": "code",
   "execution_count": null,
   "metadata": {},
   "outputs": [],
   "source": []
  },
  {
   "cell_type": "code",
   "execution_count": 308,
   "metadata": {},
   "outputs": [],
   "source": [
    "from sklearn.model_selection import StratifiedKFold\n",
    "from sklearn.model_selection import cross_validate\n",
    "from sklearn.metrics import f1_score, make_scorer, roc_auc_score\n",
    "scoring = {'accuracy' : make_scorer(accuracy_score)}\n",
    "\n",
    "model_lgb = lgb.LGBMClassifier(**rsearch_lgbm.best_params_)\n",
    "results_lgb = cross_validate(model_xgb, X_train, y_train, cv=10, scoring = scoring)"
   ]
  },
  {
   "cell_type": "code",
   "execution_count": 309,
   "metadata": {},
   "outputs": [
    {
     "data": {
      "text/plain": [
       "{'fit_time': array([1.78917408, 1.36557889, 1.36159492, 1.30773187, 1.31079602,\n",
       "        1.64045715, 1.44679403, 1.42878604, 1.3056469 , 1.42376781]),\n",
       " 'score_time': array([0.05337691, 0.04795384, 0.0351963 , 0.04168129, 0.03548217,\n",
       "        0.03651404, 0.03518176, 0.03177905, 0.03303909, 0.0329752 ]),\n",
       " 'test_accuracy': array([0.90990991, 0.90882883, 0.91027027, 0.91603604, 0.90558559,\n",
       "        0.91351351, 0.89801802, 0.91531532, 0.91063063, 0.92324324])}"
      ]
     },
     "execution_count": 309,
     "metadata": {},
     "output_type": "execute_result"
    }
   ],
   "source": [
    "results_lgb"
   ]
  },
  {
   "cell_type": "code",
   "execution_count": 204,
   "metadata": {},
   "outputs": [
    {
     "data": {
      "text/plain": [
       "0.9105585585585585"
      ]
     },
     "execution_count": 204,
     "metadata": {},
     "output_type": "execute_result"
    }
   ],
   "source": [
    "np.mean(results['test_accuracy'])"
   ]
  },
  {
   "cell_type": "code",
   "execution_count": 210,
   "metadata": {},
   "outputs": [
    {
     "data": {
      "text/plain": [
       "0.004244916561478094"
      ]
     },
     "execution_count": 210,
     "metadata": {},
     "output_type": "execute_result"
    }
   ],
   "source": [
    "np.std(results['test_accuracy'])"
   ]
  },
  {
   "cell_type": "code",
   "execution_count": 209,
   "metadata": {},
   "outputs": [
    {
     "name": "stdout",
     "output_type": "stream",
     "text": [
      "Accuracy: 0.91 (+/- 0.01)\n"
     ]
    }
   ],
   "source": [
    "print(\"Accuracy: %0.2f (+/- %0.2f)\" % (np.mean(results['test_accuracy']), np.std(results['test_accuracy']) * 2))"
   ]
  },
  {
   "cell_type": "code",
   "execution_count": 230,
   "metadata": {},
   "outputs": [
    {
     "data": {
      "text/plain": [
       "{'learning_rate': 0.057494386107342366, 'max_depth': 8, 'n_estimators': 165}"
      ]
     },
     "execution_count": 230,
     "metadata": {},
     "output_type": "execute_result"
    }
   ],
   "source": [
    "import lightgbm as lgb\n",
    "from sklearn.metrics import precision_recall_fscore_support as score\n",
    "from sklearn.model_selection import RandomizedSearchCV\n",
    "from scipy.stats import randint as sp_randint\n",
    "from scipy.stats import uniform as sp_uniform\n",
    "\n",
    "lgbc = lgb.LGBMClassifier(random_state = 3)\n",
    "\n",
    "params = {'n_estimators' :sp_randint(70,200),\n",
    "          'max_depth': sp_randint(1,10),\n",
    "          'learning_rate': sp_uniform(0,0.5)}\n",
    "\n",
    "rsearch_lgbm1 = RandomizedSearchCV(lgbc, param_distributions = params, cv = 10, n_iter=10, n_jobs = 2, scoring = ['f1_macro','precision_macro'], refit ='f1_macro')\n",
    "\n",
    "rsearch_lgbm1.fit(X_best,y)\n",
    "rsearch_lgbm1.best_params_"
   ]
  },
  {
   "cell_type": "code",
   "execution_count": 235,
   "metadata": {},
   "outputs": [
    {
     "name": "stdout",
     "output_type": "stream",
     "text": [
      "Accuracy 0.9366846846846847\n",
      "AUC train 0.9958905636121945\n",
      "F1 train 0.936668266970331\n",
      "recall 0.9366846846846847\n",
      "Precision 0.9387623185153599\n",
      "\n",
      "\n",
      "Accuracy 0.9118883470657474\n",
      "AUC test 0.9926468180894111\n",
      "F1 test 0.9119532798700042\n",
      "recall 0.9118883470657474\n",
      "Precision 0.9139604734683157\n"
     ]
    }
   ],
   "source": [
    "gbc_r1 = lgb.LGBMClassifier(**rsearch_lgbm1.best_params_,random_state = 3)\n",
    "gbc_r1.fit(X_train1,y_train1)\n",
    "y_train_predL1 = gbc_r1.predict(X_train1)\n",
    "y_train_probL1 = gbc_r1.predict_proba(X_train1)\n",
    "\n",
    "y_test_predL1 = gbc_r1.predict(X_test1)\n",
    "y_test_probL1 = gbc_r1.predict_proba(X_test1)\n",
    "\n",
    "\n",
    "print(\"Accuracy\",accuracy_score(y_train1,y_train_predL1))\n",
    "print(\"AUC train\", roc_auc_score(y_train1,y_train_probL1, multi_class = \"ovo\"))\n",
    "print(\"F1 train\", f1_score(y_train1,y_train_predL1,average = 'weighted'))\n",
    "print(\"recall\",recall_score(y_train1,y_train_predL1,average = 'weighted'))\n",
    "print(\"Precision\",precision_score(y_train1,y_train_predL1,average = 'weighted'))\n",
    "\n",
    "print(\"\\n\")\n",
    "print(\"Accuracy\",accuracy_score(y_test1,y_test_predL1))\n",
    "print(\"AUC test\",roc_auc_score(y_test1,y_test_probL1,multi_class = \"ovo\"))\n",
    "print(\"F1 test\",f1_score(y_test1,y_test_predL1,average = 'weighted'))\n",
    "print(\"recall\",recall_score(y_test1,y_test_predL1,average = 'weighted'))\n",
    "print(\"Precision\",precision_score(y_test1,y_test_predL1,average = 'weighted'))"
   ]
  },
  {
   "cell_type": "code",
   "execution_count": 290,
   "metadata": {},
   "outputs": [
    {
     "name": "stdout",
     "output_type": "stream",
     "text": [
      "Accuracy: 0.89 (+/- 0.05)\n"
     ]
    }
   ],
   "source": [
    "from sklearn.model_selection import StratifiedKFold\n",
    "from sklearn.model_selection import cross_validate\n",
    "from sklearn.metrics import f1_score, make_scorer, roc_auc_score\n",
    "scoring = {'accuracy' : make_scorer(accuracy_score)}\n",
    "skf = StratifiedKFold(n_splits=5,)\n",
    "model3 = lgb.LGBMClassifier(**rsearch_lgbm1.best_params_)\n",
    "results = cross_validate(model3, X_best, y, cv=10, scoring = scoring)\n",
    "print(\"Accuracy: %0.2f (+/- %0.2f)\" % (np.mean(results['test_accuracy']), np.std(results['test_accuracy']) * 2))"
   ]
  },
  {
   "cell_type": "code",
   "execution_count": null,
   "metadata": {},
   "outputs": [],
   "source": []
  },
  {
   "cell_type": "code",
   "execution_count": 228,
   "metadata": {},
   "outputs": [
    {
     "name": "stdout",
     "output_type": "stream",
     "text": [
      "[01:49:08] WARNING: /Users/travis/build/dmlc/xgboost/src/learner.cc:516: \n",
      "Parameters: { silent } might not be used.\n",
      "\n",
      "  This may not be accurate due to some parameters are only used in language bindings but\n",
      "  passed down to XGBoost core.  Or some parameters are not used but slip through this\n",
      "  verification. Please open an issue if you find above cases.\n",
      "\n",
      "\n",
      "Accuracy 0.9098378378378379\n",
      "AUC train 0.991703847567717\n",
      "F1 train 0.9098763266605797\n",
      "recall 0.9098378378378379\n",
      "Precision 0.9130913257183602\n",
      "\n",
      "\n",
      "Accuracy 0.9007062384395493\n",
      "AUC test 0.9903091826072238\n",
      "F1 test 0.9007139412092144\n",
      "recall 0.9007062384395493\n",
      "Precision 0.9037559553180959\n"
     ]
    }
   ],
   "source": [
    "xgb = XGBClassifier(**random_search1.best_params_,learning_rate=0.02, n_estimators=600,\n",
    "                silent=True, nthread=1)\n",
    "xgb.fit(X_train1,y_train1)\n",
    "y_train_predX1 = xgb.predict(X_train1)\n",
    "y_train_probX1 = xgb.predict_proba(X_train1)\n",
    "\n",
    "y_test_predX1 = xgb.predict(X_test1)\n",
    "y_test_probX1 = xgb.predict_proba(X_test1)\n",
    "\n",
    "print(\"Accuracy\",accuracy_score(y_train1,y_train_predX1))\n",
    "print(\"AUC train\", roc_auc_score(y_train1,y_train_probX1, multi_class = \"ovo\"))\n",
    "print(\"F1 train\", f1_score(y_train1,y_train_predX1,average = 'weighted'))\n",
    "print(\"recall\",recall_score(y_train1,y_train_predX1,average = 'weighted'))\n",
    "print(\"Precision\",precision_score(y_train1,y_train_predX1,average = 'weighted'))\n",
    "\n",
    "print(\"\\n\")\n",
    "print(\"Accuracy\",accuracy_score(y_test1,y_test_predX1))\n",
    "print(\"AUC test\",roc_auc_score(y_test1,y_test_probX1,multi_class = \"ovo\"))\n",
    "print(\"F1 test\",f1_score(y_test1,y_test_predX1,average = 'weighted'))\n",
    "print(\"recall\",recall_score(y_test1,y_test_predX1,average = 'weighted'))\n",
    "print(\"Precision\",precision_score(y_test1,y_test_predX1,average = 'weighted'))\n"
   ]
  },
  {
   "cell_type": "markdown",
   "metadata": {},
   "source": [
    "## XGB CROSS VAl"
   ]
  },
  {
   "cell_type": "code",
   "execution_count": 306,
   "metadata": {},
   "outputs": [
    {
     "name": "stdout",
     "output_type": "stream",
     "text": [
      "[16:29:10] WARNING: /Users/travis/build/dmlc/xgboost/src/learner.cc:516: \n",
      "Parameters: { silent } might not be used.\n",
      "\n",
      "  This may not be accurate due to some parameters are only used in language bindings but\n",
      "  passed down to XGBoost core.  Or some parameters are not used but slip through this\n",
      "  verification. Please open an issue if you find above cases.\n",
      "\n",
      "\n",
      "[16:31:44] WARNING: /Users/travis/build/dmlc/xgboost/src/learner.cc:516: \n",
      "Parameters: { silent } might not be used.\n",
      "\n",
      "  This may not be accurate due to some parameters are only used in language bindings but\n",
      "  passed down to XGBoost core.  Or some parameters are not used but slip through this\n",
      "  verification. Please open an issue if you find above cases.\n",
      "\n",
      "\n",
      "[16:34:26] WARNING: /Users/travis/build/dmlc/xgboost/src/learner.cc:516: \n",
      "Parameters: { silent } might not be used.\n",
      "\n",
      "  This may not be accurate due to some parameters are only used in language bindings but\n",
      "  passed down to XGBoost core.  Or some parameters are not used but slip through this\n",
      "  verification. Please open an issue if you find above cases.\n",
      "\n",
      "\n",
      "[16:37:13] WARNING: /Users/travis/build/dmlc/xgboost/src/learner.cc:516: \n",
      "Parameters: { silent } might not be used.\n",
      "\n",
      "  This may not be accurate due to some parameters are only used in language bindings but\n",
      "  passed down to XGBoost core.  Or some parameters are not used but slip through this\n",
      "  verification. Please open an issue if you find above cases.\n",
      "\n",
      "\n",
      "[16:40:04] WARNING: /Users/travis/build/dmlc/xgboost/src/learner.cc:516: \n",
      "Parameters: { silent } might not be used.\n",
      "\n",
      "  This may not be accurate due to some parameters are only used in language bindings but\n",
      "  passed down to XGBoost core.  Or some parameters are not used but slip through this\n",
      "  verification. Please open an issue if you find above cases.\n",
      "\n",
      "\n",
      "[16:42:55] WARNING: /Users/travis/build/dmlc/xgboost/src/learner.cc:516: \n",
      "Parameters: { silent } might not be used.\n",
      "\n",
      "  This may not be accurate due to some parameters are only used in language bindings but\n",
      "  passed down to XGBoost core.  Or some parameters are not used but slip through this\n",
      "  verification. Please open an issue if you find above cases.\n",
      "\n",
      "\n",
      "[16:45:39] WARNING: /Users/travis/build/dmlc/xgboost/src/learner.cc:516: \n",
      "Parameters: { silent } might not be used.\n",
      "\n",
      "  This may not be accurate due to some parameters are only used in language bindings but\n",
      "  passed down to XGBoost core.  Or some parameters are not used but slip through this\n",
      "  verification. Please open an issue if you find above cases.\n",
      "\n",
      "\n",
      "[16:48:24] WARNING: /Users/travis/build/dmlc/xgboost/src/learner.cc:516: \n",
      "Parameters: { silent } might not be used.\n",
      "\n",
      "  This may not be accurate due to some parameters are only used in language bindings but\n",
      "  passed down to XGBoost core.  Or some parameters are not used but slip through this\n",
      "  verification. Please open an issue if you find above cases.\n",
      "\n",
      "\n",
      "[16:51:08] WARNING: /Users/travis/build/dmlc/xgboost/src/learner.cc:516: \n",
      "Parameters: { silent } might not be used.\n",
      "\n",
      "  This may not be accurate due to some parameters are only used in language bindings but\n",
      "  passed down to XGBoost core.  Or some parameters are not used but slip through this\n",
      "  verification. Please open an issue if you find above cases.\n",
      "\n",
      "\n",
      "[16:53:52] WARNING: /Users/travis/build/dmlc/xgboost/src/learner.cc:516: \n",
      "Parameters: { silent } might not be used.\n",
      "\n",
      "  This may not be accurate due to some parameters are only used in language bindings but\n",
      "  passed down to XGBoost core.  Or some parameters are not used but slip through this\n",
      "  verification. Please open an issue if you find above cases.\n",
      "\n",
      "\n",
      "Accuracy: 0.90 (+/- 0.01)\n"
     ]
    }
   ],
   "source": [
    "from sklearn.model_selection import StratifiedKFold\n",
    "from sklearn.model_selection import cross_validate\n",
    "from sklearn.metrics import f1_score, make_scorer, roc_auc_score\n",
    "scoring = {'accuracy' : make_scorer(accuracy_score)}\n",
    "\n",
    "model6 = XGBClassifier(**random_search1.best_params_,learning_rate=0.02, n_estimators=600,\n",
    "                silent=True, nthread=1)\n",
    "results = cross_validate(model6, X_train, y_train, cv=10, scoring = scoring)\n",
    "print(\"Accuracy: %0.2f (+/- %0.2f)\" % (np.mean(results['test_accuracy']), np.std(results['test_accuracy']) * 2))"
   ]
  },
  {
   "cell_type": "code",
   "execution_count": null,
   "metadata": {},
   "outputs": [],
   "source": []
  },
  {
   "cell_type": "code",
   "execution_count": null,
   "metadata": {},
   "outputs": [],
   "source": []
  },
  {
   "cell_type": "code",
   "execution_count": null,
   "metadata": {},
   "outputs": [],
   "source": []
  },
  {
   "cell_type": "code",
   "execution_count": 301,
   "metadata": {},
   "outputs": [
    {
     "data": {
      "text/plain": [
       "[array([0.7012987 , 0.83116883, 0.75324675, 0.68831169, 0.76623377,\n",
       "        0.74025974, 0.85714286, 0.81818182, 0.73684211, 0.80263158]),\n",
       " array([0.67532468, 0.76623377, 0.7012987 , 0.5974026 , 0.7012987 ,\n",
       "        0.74025974, 0.74025974, 0.79220779, 0.63157895, 0.68421053])]"
      ]
     },
     "execution_count": 301,
     "metadata": {},
     "output_type": "execute_result"
    }
   ],
   "source": [
    "results"
   ]
  },
  {
   "cell_type": "code",
   "execution_count": 321,
   "metadata": {},
   "outputs": [
    {
     "data": {
      "text/plain": [
       "[array([0.81189189, 0.82666667, 0.81189189, 0.81045045, 0.81189189,\n",
       "        0.82882883, 0.81621622, 0.8209009 , 0.81261261, 0.83063063]),\n",
       " array([0.90264817, 0.92055485, 0.88272383, 0.84867591, 0.87840565,\n",
       "        0.87108981, 0.86755802, 0.89177598, 0.91246216, 0.87563068]),\n",
       " array([0.8954955 , 0.89837838, 0.90342342, 0.90306306, 0.8954955 ,\n",
       "        0.90306306, 0.89333333, 0.9045045 , 0.89585586, 0.91207207]),\n",
       " array([0.90990991, 0.90882883, 0.91027027, 0.91603604, 0.90558559,\n",
       "        0.91351351, 0.89801802, 0.91531532, 0.91063063, 0.92324324])]"
      ]
     },
     "execution_count": 321,
     "metadata": {},
     "output_type": "execute_result"
    }
   ],
   "source": [
    "rb = []\n",
    "rb.append(results_dt['test_accuracy'])\n",
    "rb.append(resultsr['test_accuracy'])\n",
    "rb.append(results['test_accuracy'])\n",
    "rb.append(results_lgb['test_accuracy'])\n",
    "rb"
   ]
  },
  {
   "cell_type": "code",
   "execution_count": 323,
   "metadata": {},
   "outputs": [
    {
     "data": {
      "image/png": "[encoded data removed]",
      "text/plain": [
       "<Figure size 936x360 with 1 Axes>"
      ]
     },
     "metadata": {
      "needs_background": "light"
     },
     "output_type": "display_data"
    }
   ],
   "source": [
    "names = [\"Decision Tree\", \"Random Forest\", \"XGB Boost\", \"Light GBM\"]\n",
    "fig = plt.figure(figsize = (13,5))\n",
    "fig.suptitle('Algorithm Comparison')\n",
    "ax = fig.add_subplot(111)\n",
    "plt.boxplot(rb,showfliers=False)\n",
    "ax.set_xticklabels(names)\n",
    "plt.savefig('4 BOX.png')\n",
    "plt.show()"
   ]
  },
  {
   "cell_type": "code",
   "execution_count": null,
   "metadata": {},
   "outputs": [],
   "source": []
  }
 ],
 "metadata": {
  "kernelspec": {
   "display_name": "Python 3",
   "language": "python",
   "name": "python3"
  },
  "language_info": {
   "codemirror_mode": {
    "name": "ipython",
    "version": 3
   },
   "file_extension": ".py",
   "mimetype": "text/x-python",
   "name": "python",
   "nbconvert_exporter": "python",
   "pygments_lexer": "ipython3",
   "version": "3.7.6"
  }
 },
 "nbformat": 4,
 "nbformat_minor": 4
}
