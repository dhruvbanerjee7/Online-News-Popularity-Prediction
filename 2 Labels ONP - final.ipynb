{
 "cells": [
  {
   "cell_type": "code",
   "execution_count": 1,
   "metadata": {},
   "outputs": [],
   "source": [
    "#import Library"
   ]
  },
  {
   "cell_type": "code",
   "execution_count": 259,
   "metadata": {},
   "outputs": [],
   "source": [
    "import pandas as pd\n",
    "import numpy as np\n",
    "import seaborn as sns\n",
    "import matplotlib.pyplot as plt\n",
    "pd.options.mode.chained_assignment = None  # default='warn'"
   ]
  },
  {
   "cell_type": "code",
   "execution_count": 260,
   "metadata": {},
   "outputs": [
    {
     "data": {
      "text/html": [
       "<div>\n",
       "<style scoped>\n",
       "    .dataframe tbody tr th:only-of-type {\n",
       "        vertical-align: middle;\n",
       "    }\n",
       "\n",
       "    .dataframe tbody tr th {\n",
       "        vertical-align: top;\n",
       "    }\n",
       "\n",
       "    .dataframe thead th {\n",
       "        text-align: right;\n",
       "    }\n",
       "</style>\n",
       "<table border=\"1\" class=\"dataframe\">\n",
       "  <thead>\n",
       "    <tr style=\"text-align: right;\">\n",
       "      <th></th>\n",
       "      <th>timedelta</th>\n",
       "      <th>n_tokens_title</th>\n",
       "      <th>n_tokens_content</th>\n",
       "      <th>n_unique_tokens</th>\n",
       "      <th>n_non_stop_words</th>\n",
       "      <th>n_non_stop_unique_tokens</th>\n",
       "      <th>num_hrefs</th>\n",
       "      <th>num_self_hrefs</th>\n",
       "      <th>num_imgs</th>\n",
       "      <th>num_videos</th>\n",
       "      <th>...</th>\n",
       "      <th>min_positive_polarity</th>\n",
       "      <th>max_positive_polarity</th>\n",
       "      <th>avg_negative_polarity</th>\n",
       "      <th>min_negative_polarity</th>\n",
       "      <th>max_negative_polarity</th>\n",
       "      <th>title_subjectivity</th>\n",
       "      <th>title_sentiment_polarity</th>\n",
       "      <th>abs_title_subjectivity</th>\n",
       "      <th>abs_title_sentiment_polarity</th>\n",
       "      <th>shares</th>\n",
       "    </tr>\n",
       "  </thead>\n",
       "  <tbody>\n",
       "    <tr>\n",
       "      <th>0</th>\n",
       "      <td>731</td>\n",
       "      <td>12</td>\n",
       "      <td>219</td>\n",
       "      <td>0.663594</td>\n",
       "      <td>1.0</td>\n",
       "      <td>0.815385</td>\n",
       "      <td>4</td>\n",
       "      <td>2</td>\n",
       "      <td>1</td>\n",
       "      <td>0</td>\n",
       "      <td>...</td>\n",
       "      <td>0.1</td>\n",
       "      <td>0.7</td>\n",
       "      <td>-0.35</td>\n",
       "      <td>-0.6</td>\n",
       "      <td>-0.2</td>\n",
       "      <td>0.5</td>\n",
       "      <td>-0.1875</td>\n",
       "      <td>0.0</td>\n",
       "      <td>0.1875</td>\n",
       "      <td>593</td>\n",
       "    </tr>\n",
       "  </tbody>\n",
       "</table>\n",
       "<p>1 rows × 60 columns</p>\n",
       "</div>"
      ],
      "text/plain": [
       "   timedelta  n_tokens_title  n_tokens_content  n_unique_tokens  \\\n",
       "0        731              12               219         0.663594   \n",
       "\n",
       "   n_non_stop_words  n_non_stop_unique_tokens  num_hrefs  num_self_hrefs  \\\n",
       "0               1.0                  0.815385          4               2   \n",
       "\n",
       "   num_imgs  num_videos  ...  min_positive_polarity  max_positive_polarity  \\\n",
       "0         1           0  ...                    0.1                    0.7   \n",
       "\n",
       "   avg_negative_polarity  min_negative_polarity  max_negative_polarity  \\\n",
       "0                  -0.35                   -0.6                   -0.2   \n",
       "\n",
       "   title_subjectivity  title_sentiment_polarity  abs_title_subjectivity  \\\n",
       "0                 0.5                   -0.1875                     0.0   \n",
       "\n",
       "   abs_title_sentiment_polarity  shares  \n",
       "0                        0.1875     593  \n",
       "\n",
       "[1 rows x 60 columns]"
      ]
     },
     "execution_count": 260,
     "metadata": {},
     "output_type": "execute_result"
    }
   ],
   "source": [
    "df = pd.read_csv(\"/Users/anupbanerjee/Downloads/Project 3/OnlineNewsPopularity/OnlineNewsPopularity.csv\")\n",
    "df3 = df.drop([\"url\",\"101249.62\",\"3395.380184\",\"1400\"], axis = 1)\n",
    "df3.head(1)\n"
   ]
  },
  {
   "cell_type": "markdown",
   "metadata": {},
   "source": [
    "### Removing Insignificant columns\n"
   ]
  },
  {
   "cell_type": "code",
   "execution_count": 224,
   "metadata": {},
   "outputs": [],
   "source": [
    "df3 = df3.drop(['timedelta','n_non_stop_unique_tokens','n_non_stop_words',\n",
    "                'average_token_length','kw_max_min','kw_max_avg',\n",
    "                'self_reference_avg_sharess','is_weekend',\n",
    "                'rate_positive_words','rate_negative_words',\n",
    "                'avg_positive_polarity','avg_negative_polarity',\n",
    "                'abs_title_sentiment_polarity','kw_avg_max'],axis = 1)"
   ]
  },
  {
   "cell_type": "code",
   "execution_count": 222,
   "metadata": {},
   "outputs": [],
   "source": [
    "df3.corr().to_csv(r\"/Users/anupbanerjee/Downloads/Project 3/OnlineNewsPopularity/Correlation.csv\")"
   ]
  },
  {
   "cell_type": "code",
   "execution_count": 261,
   "metadata": {},
   "outputs": [],
   "source": [
    "df3.loc[(df3['shares'] <  df3[\"shares\"].median()), 'share_class'] = \"unpopular\"\n",
    "df3.loc[(df3['shares'] >= df3[\"shares\"].median()), 'share_class'] = \"popular\""
   ]
  },
  {
   "cell_type": "code",
   "execution_count": 262,
   "metadata": {},
   "outputs": [],
   "source": [
    "c1 = df3[df3['share_class'] == \"unpopular\"]\n",
    "c2 = df3[df3['share_class'] == \"popular\"]"
   ]
  },
  {
   "cell_type": "markdown",
   "metadata": {},
   "source": [
    "### Outlier Treatment - IQR capping"
   ]
  },
  {
   "cell_type": "code",
   "execution_count": 263,
   "metadata": {},
   "outputs": [],
   "source": [
    "for i in (c1.drop(['data_channel_is_lifestyle', 'data_channel_is_entertainment',\n",
    "       'data_channel_is_bus', 'data_channel_is_socmed', 'data_channel_is_tech',\n",
    "       'data_channel_is_world','weekday_is_monday', 'weekday_is_tuesday',\n",
    "       'weekday_is_wednesday', 'weekday_is_thursday', 'weekday_is_friday',\n",
    "       'weekday_is_saturday', 'weekday_is_sunday',\"share_class\",\"shares\"], axis = 1).columns):\n",
    "    Q1 = c1[i].quantile(0.25)\n",
    "    Q3 = c1[i].quantile(0.75)\n",
    "    IQR = Q3 - Q1\n",
    "    \n",
    "    c1[i][c1[i]>(Q3+1.5*IQR)] = Q3\n",
    "    c1[i][c1[i]<(Q1-1.5*IQR)] = Q1\n",
    "    \n",
    "    \n",
    "for i in (c2.drop(['data_channel_is_lifestyle', 'data_channel_is_entertainment',\n",
    "       'data_channel_is_bus', 'data_channel_is_socmed', 'data_channel_is_tech',\n",
    "       'data_channel_is_world','weekday_is_monday', 'weekday_is_tuesday',\n",
    "       'weekday_is_wednesday', 'weekday_is_thursday', 'weekday_is_friday',\n",
    "       'weekday_is_saturday', 'weekday_is_sunday',\"share_class\",\"shares\"], axis = 1).columns):\n",
    "    Q1 = c2[i].quantile(0.25)\n",
    "    Q3 = c2[i].quantile(0.75)\n",
    "    IQR = Q3 - Q1\n",
    "    \n",
    "    c2[i][c2[i]>(Q3+1.5*IQR)] = Q3\n",
    "    c2[i][c2[i]<(Q1-1.5*IQR)] = Q1"
   ]
  },
  {
   "cell_type": "code",
   "execution_count": 264,
   "metadata": {},
   "outputs": [],
   "source": [
    "datasets = [c1,c2]\n",
    "dfd = pd.concat(datasets)"
   ]
  },
  {
   "cell_type": "markdown",
   "metadata": {},
   "source": [
    "### Feature Engineering"
   ]
  },
  {
   "cell_type": "code",
   "execution_count": 265,
   "metadata": {},
   "outputs": [
    {
     "data": {
      "text/html": [
       "<div>\n",
       "<style scoped>\n",
       "    .dataframe tbody tr th:only-of-type {\n",
       "        vertical-align: middle;\n",
       "    }\n",
       "\n",
       "    .dataframe tbody tr th {\n",
       "        vertical-align: top;\n",
       "    }\n",
       "\n",
       "    .dataframe thead th {\n",
       "        text-align: right;\n",
       "    }\n",
       "</style>\n",
       "<table border=\"1\" class=\"dataframe\">\n",
       "  <thead>\n",
       "    <tr style=\"text-align: right;\">\n",
       "      <th></th>\n",
       "      <th>n_tokens_content_class</th>\n",
       "      <th>n_tokens_title_class</th>\n",
       "      <th>num_imgs_class</th>\n",
       "      <th>num_hrefs_class</th>\n",
       "      <th>num_self_hrefs_class</th>\n",
       "    </tr>\n",
       "  </thead>\n",
       "  <tbody>\n",
       "    <tr>\n",
       "      <th>0</th>\n",
       "      <td>low</td>\n",
       "      <td>high</td>\n",
       "      <td>low</td>\n",
       "      <td>low</td>\n",
       "      <td>low</td>\n",
       "    </tr>\n",
       "  </tbody>\n",
       "</table>\n",
       "</div>"
      ],
      "text/plain": [
       "  n_tokens_content_class n_tokens_title_class num_imgs_class num_hrefs_class  \\\n",
       "0                    low                 high            low             low   \n",
       "\n",
       "  num_self_hrefs_class  \n",
       "0                  low  "
      ]
     },
     "execution_count": 265,
     "metadata": {},
     "output_type": "execute_result"
    }
   ],
   "source": [
    "c = ['n_tokens_content','n_tokens_title','num_imgs',\"num_hrefs\",\"num_self_hrefs\"]\n",
    "c1 = []\n",
    "c2= []\n",
    "for i in c: \n",
    "    dfd.loc[(dfd[i] <= np.percentile(dfd[i],33)), str(i)+\"_class\"] = \"low\"\n",
    "    dfd.loc[(dfd[i] >np.percentile(dfd[i],33)) & (dfd[i]<= np.percentile(dfd[i],67)), str(i)+\"_class\"] = \"Medium\"\n",
    "    dfd.loc[(dfd[i] >np.percentile(dfd[i],67)), str(i)+\"_class\"] = \"high\"\n",
    "    c1.append(str(i)+\"_class\")\n",
    "    c2.append(i)\n",
    "dfd[c1].head(1)"
   ]
  },
  {
   "cell_type": "code",
   "execution_count": 266,
   "metadata": {},
   "outputs": [
    {
     "data": {
      "text/plain": [
       "popular      0.533599\n",
       "unpopular    0.466401\n",
       "Name: share_class, dtype: float64"
      ]
     },
     "execution_count": 266,
     "metadata": {},
     "output_type": "execute_result"
    }
   ],
   "source": [
    "dfd[\"share_class\"].value_counts(normalize = True)"
   ]
  },
  {
   "cell_type": "code",
   "execution_count": 88,
   "metadata": {},
   "outputs": [],
   "source": [
    "dfd.to_csv(r\"/Users/anupbanerjee/Downloads/Project 3/OnlineNewsPopularity/OnlineNewsPopularity_V3.csv\")"
   ]
  },
  {
   "cell_type": "markdown",
   "metadata": {},
   "source": [
    "### Classification of Share class"
   ]
  },
  {
   "cell_type": "code",
   "execution_count": 267,
   "metadata": {},
   "outputs": [],
   "source": [
    "from sklearn.preprocessing import LabelEncoder\n",
    "le = LabelEncoder()\n",
    "l = [\"share_class\"]\n",
    "for i in l:\n",
    "    dfd[i] = le.fit_transform(dfd[i])"
   ]
  },
  {
   "cell_type": "markdown",
   "metadata": {},
   "source": [
    "### Modelling"
   ]
  },
  {
   "cell_type": "code",
   "execution_count": 268,
   "metadata": {},
   "outputs": [],
   "source": [
    "X = dfd.drop([\"n_tokens_title\",\"n_tokens_content\",\"shares\",\"share_class\",'num_hrefs',\n",
    "              'num_self_hrefs', 'num_imgs',\"shares\",'share_class'], axis = 1)\n",
    "y = dfd[\"share_class\"]"
   ]
  },
  {
   "cell_type": "code",
   "execution_count": 269,
   "metadata": {},
   "outputs": [],
   "source": [
    "X = pd.get_dummies(X,columns = [\"n_tokens_content_class\",\"n_tokens_title_class\",'num_hrefs_class',\n",
    "                                'num_self_hrefs_class','num_imgs_class'])"
   ]
  },
  {
   "cell_type": "markdown",
   "metadata": {},
   "source": [
    "### RFE - 55 features"
   ]
  },
  {
   "cell_type": "code",
   "execution_count": 100,
   "metadata": {
    "collapsed": true,
    "jupyter": {
     "outputs_hidden": true
    }
   },
   "outputs": [
    {
     "name": "stderr",
     "output_type": "stream",
     "text": [
      "/opt/anaconda3/lib/python3.7/site-packages/sklearn/utils/validation.py:70: FutureWarning: Pass n_features_to_select=55 as keyword args. From version 0.25 passing these as positional arguments will result in an error\n",
      "  FutureWarning)\n"
     ]
    },
    {
     "name": "stdout",
     "output_type": "stream",
     "text": [
      "[ True False  True  True  True  True  True False  True  True  True  True\n",
      "  True  True  True  True  True  True  True  True  True  True  True  True\n",
      "  True False  True  True  True  True  True  True False  True  True  True\n",
      "  True  True  True  True False False  True  True  True False  True False\n",
      "  True False  True  True  True False False  True  True False False  True\n",
      "  True  True  True  True False  True  True  True  True]\n",
      "[ 1  8  1  1  1  1  1 11  1  1  1  1  1  1  1  1  1  1  1  1  1  1  1  1\n",
      "  1  3  1  1  1  1  1  1 15  1  1  1  1  1  1  1  9 14  1  1  1  6  1 12\n",
      "  1 13  1  1  1  2  4  1  1  5 10  1  1  1  1  1  7  1  1  1  1]\n"
     ]
    }
   ],
   "source": [
    "from sklearn.linear_model import LogisticRegression\n",
    "from sklearn.feature_selection import RFE\n",
    "logreg = LogisticRegression(max_iter = 4000)\n",
    "rfe = RFE(logreg, 55)             # running RFE with 13 variables as output\n",
    "rfe = rfe.fit(X,y)\n",
    "print(rfe.support_)           # Printing the boolean results\n",
    "print(rfe.ranking_)"
   ]
  },
  {
   "cell_type": "code",
   "execution_count": 102,
   "metadata": {
    "collapsed": true,
    "jupyter": {
     "outputs_hidden": true
    }
   },
   "outputs": [
    {
     "name": "stdout",
     "output_type": "stream",
     "text": [
      "Index(['timedelta', 'n_non_stop_words', 'n_non_stop_unique_tokens',\n",
      "       'num_videos', 'average_token_length', 'num_keywords',\n",
      "       'data_channel_is_entertainment', 'data_channel_is_bus',\n",
      "       'data_channel_is_socmed', 'data_channel_is_tech',\n",
      "       'data_channel_is_world', 'kw_min_min', 'kw_max_min', 'kw_avg_min',\n",
      "       'kw_min_max', 'kw_max_max', 'kw_avg_max', 'kw_min_avg', 'kw_max_avg',\n",
      "       'kw_avg_avg', 'self_reference_min_shares', 'self_reference_max_shares',\n",
      "       'self_reference_avg_sharess', 'weekday_is_tuesday',\n",
      "       'weekday_is_wednesday', 'weekday_is_thursday', 'weekday_is_friday',\n",
      "       'weekday_is_saturday', 'weekday_is_sunday', 'LDA_00', 'LDA_01',\n",
      "       'LDA_02', 'LDA_03', 'LDA_04', 'global_subjectivity',\n",
      "       'global_sentiment_polarity', 'rate_positive_words',\n",
      "       'rate_negative_words', 'avg_positive_polarity', 'max_positive_polarity',\n",
      "       'min_negative_polarity', 'title_subjectivity',\n",
      "       'title_sentiment_polarity', 'abs_title_subjectivity',\n",
      "       'n_tokens_content_class_high', 'n_tokens_content_class_low',\n",
      "       'n_tokens_title_class_low', 'num_hrefs_class_Medium',\n",
      "       'num_hrefs_class_high', 'num_hrefs_class_low',\n",
      "       'num_self_hrefs_class_Medium', 'num_self_hrefs_class_low',\n",
      "       'num_imgs_class_Medium', 'num_imgs_class_high', 'num_imgs_class_low'],\n",
      "      dtype='object')\n"
     ]
    }
   ],
   "source": [
    "cols = list(X.columns)\n",
    "model = LogisticRegression(max_iter = 4000)\n",
    "#Initializing RFE model\n",
    "rfe = RFE(model, n_features_to_select = 55)             \n",
    "#Transforming data using RFE\n",
    "X_rfe = rfe.fit_transform(X,y)  \n",
    "#Fitting the data to model\n",
    "model.fit(X_rfe,y)              \n",
    "temp = pd.Series(rfe.support_,index = cols)\n",
    "selected_features_rfe = temp[temp==True].index\n",
    "print(selected_features_rfe)"
   ]
  },
  {
   "cell_type": "code",
   "execution_count": 105,
   "metadata": {},
   "outputs": [],
   "source": [
    "X55 = X[['timedelta', 'n_non_stop_words', 'n_non_stop_unique_tokens',\n",
    "       'num_videos', 'average_token_length', 'num_keywords',\n",
    "       'data_channel_is_entertainment', 'data_channel_is_bus',\n",
    "       'data_channel_is_socmed', 'data_channel_is_tech',\n",
    "       'data_channel_is_world', 'kw_min_min', 'kw_max_min', 'kw_avg_min',\n",
    "       'kw_min_max', 'kw_max_max', 'kw_avg_max', 'kw_min_avg', 'kw_max_avg',\n",
    "       'kw_avg_avg', 'self_reference_min_shares', 'self_reference_max_shares',\n",
    "       'self_reference_avg_sharess', 'weekday_is_tuesday',\n",
    "       'weekday_is_wednesday', 'weekday_is_thursday', 'weekday_is_friday',\n",
    "       'weekday_is_saturday', 'weekday_is_sunday', 'LDA_00', 'LDA_01',\n",
    "       'LDA_02', 'LDA_03', 'LDA_04', 'global_subjectivity',\n",
    "       'global_sentiment_polarity', 'rate_positive_words',\n",
    "       'rate_negative_words', 'avg_positive_polarity', 'max_positive_polarity',\n",
    "       'min_negative_polarity', 'title_subjectivity',\n",
    "       'title_sentiment_polarity', 'abs_title_subjectivity',\n",
    "       'n_tokens_content_class_high', 'n_tokens_content_class_low',\n",
    "       'n_tokens_title_class_low', 'num_hrefs_class_Medium',\n",
    "       'num_hrefs_class_high', 'num_hrefs_class_low',\n",
    "       'num_self_hrefs_class_Medium', 'num_self_hrefs_class_low',\n",
    "       'num_imgs_class_Medium', 'num_imgs_class_high', 'num_imgs_class_low']]"
   ]
  },
  {
   "cell_type": "markdown",
   "metadata": {},
   "source": [
    "### Standard Scaler -RFE 55"
   ]
  },
  {
   "cell_type": "code",
   "execution_count": 106,
   "metadata": {},
   "outputs": [],
   "source": [
    "from sklearn.preprocessing import StandardScaler\n",
    "sc = StandardScaler()\n",
    "\n",
    "X_std = sc.fit_transform(X55)\n",
    "X1 = pd.DataFrame(X_std,columns = X55.columns)"
   ]
  },
  {
   "cell_type": "code",
   "execution_count": 109,
   "metadata": {},
   "outputs": [],
   "source": [
    "lb_class = LabelEncoder()\n",
    "le = ['weekday_is_tuesday', 'weekday_is_wednesday',\n",
    "       'weekday_is_thursday', 'weekday_is_friday', 'weekday_is_saturday',\n",
    "       'weekday_is_sunday', 'data_channel_is_entertainment',\n",
    "       'data_channel_is_bus', 'data_channel_is_socmed', 'data_channel_is_tech',\n",
    "       'data_channel_is_world']\n",
    "for i in le:\n",
    "    X1[i] = lb_class.fit_transform(X1[i])"
   ]
  },
  {
   "cell_type": "code",
   "execution_count": 111,
   "metadata": {},
   "outputs": [],
   "source": [
    "from sklearn.model_selection import train_test_split\n",
    "X_train, X_test, y_train, y_test = train_test_split(X1,y,test_size = 0.3, random_state = 42, stratify = y)"
   ]
  },
  {
   "cell_type": "code",
   "execution_count": 112,
   "metadata": {
    "collapsed": true,
    "jupyter": {
     "outputs_hidden": true
    }
   },
   "outputs": [
    {
     "data": {
      "text/plain": [
       "(0.8596761174452628, 0.8584160080712965)"
      ]
     },
     "execution_count": 112,
     "metadata": {},
     "output_type": "execute_result"
    }
   ],
   "source": [
    "import sklearn.linear_model as lm\n",
    "from sklearn.metrics import accuracy_score, confusion_matrix, roc_auc_score, f1_score\n",
    "lr = lm.LogisticRegression(max_iter= 4000)\n",
    "lr.fit(X_train,y_train)\n",
    "y_train_pred = lr.predict(X_train)\n",
    "y_train_prob = lr.predict_proba(X_train)[:,1]\n",
    "y_test_pred = lr.predict(X_test)\n",
    "y_test_prob = lr.predict_proba(X_test)[:,1]\n",
    "\n",
    "lr.score(X1,y),lr.score(X_test,y_test)"
   ]
  },
  {
   "cell_type": "code",
   "execution_count": 113,
   "metadata": {
    "collapsed": true,
    "jupyter": {
     "outputs_hidden": true
    }
   },
   "outputs": [
    {
     "name": "stdout",
     "output_type": "stream",
     "text": [
      "Accuracy 0.8602162162162162\n",
      "AUC train 0.9382145249431791\n",
      "F1 train 0.8531182551402932\n",
      "recall 0.8703546318473306\n",
      "Precision 0.836551314421506\n",
      "\n",
      "\n",
      "Accuracy 0.8584160080712965\n",
      "AUC test 0.9363531639575743\n",
      "F1 test 0.8511578575216547\n",
      "recall 0.8680367766360195\n",
      "Precision 0.834922836830241\n"
     ]
    }
   ],
   "source": [
    "from sklearn.metrics import classification_report, recall_score, precision_score, f1_score\n",
    "print(\"Accuracy\",accuracy_score(y_train,y_train_pred))\n",
    "print(\"AUC train\", roc_auc_score(y_train,y_train_prob))\n",
    "print(\"F1 train\", f1_score(y_train,y_train_pred))\n",
    "print(\"recall\",recall_score(y_train,y_train_pred))\n",
    "print(\"Precision\",precision_score(y_train,y_train_pred))\n",
    "\n",
    "print(\"\\n\")\n",
    "print(\"Accuracy\",accuracy_score(y_test,y_test_pred))\n",
    "print(\"AUC test\",roc_auc_score(y_test,y_test_prob))\n",
    "print(\"F1 test\",f1_score(y_test,y_test_pred))\n",
    "print(\"recall\",recall_score(y_test,y_test_pred))\n",
    "print(\"Precision\",precision_score(y_test,y_test_pred))"
   ]
  },
  {
   "cell_type": "markdown",
   "metadata": {},
   "source": [
    "### RFE - 50 features"
   ]
  },
  {
   "cell_type": "raw",
   "metadata": {},
   "source": [
    "from sklearn.linear_model import LogisticRegression\n",
    "from sklearn.feature_selection import RFE\n",
    "logreg = LogisticRegression(max_iter = 4000)\n",
    "rfe = RFE(logreg, 55)             # running RFE with 13 variables as output\n",
    "rfe = rfe.fit(X,y)\n",
    "print(rfe.support_)           # Printing the boolean results\n",
    "print(rfe.ranking_)"
   ]
  },
  {
   "cell_type": "code",
   "execution_count": 117,
   "metadata": {
    "collapsed": true,
    "jupyter": {
     "outputs_hidden": true
    }
   },
   "outputs": [
    {
     "name": "stdout",
     "output_type": "stream",
     "text": [
      "Index(['timedelta', 'n_non_stop_words', 'n_non_stop_unique_tokens',\n",
      "       'average_token_length', 'num_keywords', 'data_channel_is_entertainment',\n",
      "       'data_channel_is_bus', 'data_channel_is_socmed', 'data_channel_is_tech',\n",
      "       'kw_min_min', 'kw_max_min', 'kw_avg_min', 'kw_min_max', 'kw_max_max',\n",
      "       'kw_min_avg', 'kw_max_avg', 'kw_avg_avg', 'self_reference_min_shares',\n",
      "       'self_reference_max_shares', 'self_reference_avg_sharess',\n",
      "       'weekday_is_tuesday', 'weekday_is_wednesday', 'weekday_is_friday',\n",
      "       'weekday_is_saturday', 'weekday_is_sunday', 'LDA_00', 'LDA_01',\n",
      "       'LDA_02', 'LDA_03', 'LDA_04', 'global_subjectivity',\n",
      "       'global_sentiment_polarity', 'rate_positive_words',\n",
      "       'rate_negative_words', 'avg_positive_polarity', 'max_positive_polarity',\n",
      "       'min_negative_polarity', 'title_subjectivity',\n",
      "       'title_sentiment_polarity', 'abs_title_subjectivity',\n",
      "       'n_tokens_content_class_high', 'n_tokens_content_class_low',\n",
      "       'n_tokens_title_class_low', 'num_hrefs_class_Medium',\n",
      "       'num_hrefs_class_high', 'num_self_hrefs_class_Medium',\n",
      "       'num_self_hrefs_class_low', 'num_imgs_class_Medium',\n",
      "       'num_imgs_class_high', 'num_imgs_class_low'],\n",
      "      dtype='object')\n"
     ]
    }
   ],
   "source": [
    "cols = list(X.columns)\n",
    "model = LogisticRegression(max_iter = 4000)\n",
    "#Initializing RFE model\n",
    "rfe = RFE(model, n_features_to_select = 50)             \n",
    "#Transforming data using RFE\n",
    "X_rfe = rfe.fit_transform(X,y)  \n",
    "#Fitting the data to model\n",
    "model.fit(X_rfe,y)              \n",
    "temp = pd.Series(rfe.support_,index = cols)\n",
    "selected_features_rfe = temp[temp==True].index\n",
    "print(selected_features_rfe)"
   ]
  },
  {
   "cell_type": "code",
   "execution_count": 124,
   "metadata": {},
   "outputs": [],
   "source": [
    "X50 = X[selected_features_rfe.index]"
   ]
  },
  {
   "cell_type": "markdown",
   "metadata": {},
   "source": [
    "### Standard Scaler -RFE 50"
   ]
  },
  {
   "cell_type": "code",
   "execution_count": 153,
   "metadata": {},
   "outputs": [],
   "source": [
    "from sklearn.preprocessing import StandardScaler\n",
    "sc = StandardScaler()\n",
    "\n",
    "X_std = sc.fit_transform(X50)\n",
    "X1 = pd.DataFrame(X_std,columns = X50.columns)"
   ]
  },
  {
   "cell_type": "code",
   "execution_count": 154,
   "metadata": {},
   "outputs": [],
   "source": [
    "lb_class = LabelEncoder()\n",
    "le = ['weekday_is_tuesday', 'weekday_is_wednesday',\n",
    "      'weekday_is_friday', 'weekday_is_saturday',\n",
    "       'weekday_is_sunday', 'data_channel_is_entertainment',\n",
    "       'data_channel_is_bus', 'data_channel_is_socmed', 'data_channel_is_tech']\n",
    "for i in le:\n",
    "    X1[i] = lb_class.fit_transform(X1[i])"
   ]
  },
  {
   "cell_type": "code",
   "execution_count": 157,
   "metadata": {},
   "outputs": [],
   "source": [
    "from sklearn.model_selection import train_test_split\n",
    "X_train, X_test, y_train, y_test = train_test_split(X1,y,test_size = 0.3, random_state = 42, stratify = y)"
   ]
  },
  {
   "cell_type": "code",
   "execution_count": 156,
   "metadata": {},
   "outputs": [
    {
     "data": {
      "text/plain": [
       "(0.8506961961456967, 0.8484950395157222)"
      ]
     },
     "execution_count": 156,
     "metadata": {},
     "output_type": "execute_result"
    }
   ],
   "source": [
    "import sklearn.linear_model as lm\n",
    "from sklearn.metrics import accuracy_score, confusion_matrix, roc_auc_score, f1_score\n",
    "lr = lm.LogisticRegression(max_iter= 4000)\n",
    "lr.fit(X_train,y_train)\n",
    "y_train_pred = lr.predict(X_train)\n",
    "y_train_prob = lr.predict_proba(X_train)[:,1]\n",
    "y_test_pred = lr.predict(X_test)\n",
    "y_test_prob = lr.predict_proba(X_test)[:,1]\n",
    "\n",
    "lr.score(X1,y),lr.score(X_test,y_test)"
   ]
  },
  {
   "cell_type": "code",
   "execution_count": 137,
   "metadata": {
    "collapsed": true,
    "jupyter": {
     "outputs_hidden": true
    }
   },
   "outputs": [
    {
     "name": "stdout",
     "output_type": "stream",
     "text": [
      "Accuracy 0.8516396396396396\n",
      "AUC train 0.9310452450022947\n",
      "F1 train 0.8444242905188376\n",
      "recall 0.8632465425326431\n",
      "Precision 0.826405325443787\n",
      "\n",
      "\n",
      "Accuracy 0.8484950395157222\n",
      "AUC test 0.9301432856354576\n",
      "F1 test 0.8414290742696233\n",
      "recall 0.8619073372994411\n",
      "Precision 0.8219013237063778\n"
     ]
    }
   ],
   "source": [
    "from sklearn.metrics import classification_report, recall_score, precision_score, f1_score\n",
    "print(\"Accuracy\",accuracy_score(y_train,y_train_pred))\n",
    "print(\"AUC train\", roc_auc_score(y_train,y_train_prob))\n",
    "print(\"F1 train\", f1_score(y_train,y_train_pred))\n",
    "print(\"recall\",recall_score(y_train,y_train_pred))\n",
    "print(\"Precision\",precision_score(y_train,y_train_pred))\n",
    "\n",
    "print(\"\\n\")\n",
    "print(\"Accuracy\",accuracy_score(y_test,y_test_pred))\n",
    "print(\"AUC test\",roc_auc_score(y_test,y_test_prob))\n",
    "print(\"F1 test\",f1_score(y_test,y_test_pred))\n",
    "print(\"recall\",recall_score(y_test,y_test_pred))\n",
    "print(\"Precision\",precision_score(y_test,y_test_pred))"
   ]
  },
  {
   "cell_type": "markdown",
   "metadata": {},
   "source": [
    "### RFE - 40 features"
   ]
  },
  {
   "cell_type": "code",
   "execution_count": 140,
   "metadata": {
    "collapsed": true,
    "jupyter": {
     "outputs_hidden": true
    }
   },
   "outputs": [
    {
     "name": "stdout",
     "output_type": "stream",
     "text": [
      "Index(['timedelta', 'n_non_stop_words', 'average_token_length', 'num_keywords',\n",
      "       'data_channel_is_entertainment', 'data_channel_is_bus',\n",
      "       'data_channel_is_socmed', 'data_channel_is_tech', 'kw_min_min',\n",
      "       'kw_max_min', 'kw_avg_min', 'kw_min_max', 'kw_max_max', 'kw_min_avg',\n",
      "       'kw_max_avg', 'kw_avg_avg', 'self_reference_min_shares',\n",
      "       'self_reference_max_shares', 'self_reference_avg_sharess',\n",
      "       'weekday_is_tuesday', 'weekday_is_wednesday', 'weekday_is_saturday',\n",
      "       'weekday_is_sunday', 'LDA_00', 'LDA_01', 'LDA_02', 'LDA_03', 'LDA_04',\n",
      "       'global_subjectivity', 'rate_positive_words', 'max_positive_polarity',\n",
      "       'title_sentiment_polarity', 'abs_title_subjectivity',\n",
      "       'n_tokens_content_class_high', 'n_tokens_title_class_low',\n",
      "       'num_hrefs_class_high', 'num_self_hrefs_class_Medium',\n",
      "       'num_self_hrefs_class_low', 'num_imgs_class_Medium',\n",
      "       'num_imgs_class_high'],\n",
      "      dtype='object')\n"
     ]
    }
   ],
   "source": [
    "cols = list(X.columns)\n",
    "model = LogisticRegression(max_iter = 4000)\n",
    "#Initializing RFE model\n",
    "rfe = RFE(model, n_features_to_select = 40)             \n",
    "#Transforming data using RFE\n",
    "X_rfe = rfe.fit_transform(X,y)  \n",
    "#Fitting the data to model\n",
    "model.fit(X_rfe,y)              \n",
    "temp = pd.Series(rfe.support_,index = cols)\n",
    "selected_features_rfe = temp[temp==True].index\n",
    "print(selected_features_rfe)"
   ]
  },
  {
   "cell_type": "code",
   "execution_count": 143,
   "metadata": {},
   "outputs": [],
   "source": [
    "X40 = X[['timedelta', 'n_non_stop_words', 'average_token_length', 'num_keywords',\n",
    "       'data_channel_is_entertainment', 'data_channel_is_bus',\n",
    "       'data_channel_is_socmed', 'data_channel_is_tech', 'kw_min_min',\n",
    "       'kw_max_min', 'kw_avg_min', 'kw_min_max', 'kw_max_max', 'kw_min_avg',\n",
    "       'kw_max_avg', 'kw_avg_avg', 'self_reference_min_shares',\n",
    "       'self_reference_max_shares', 'self_reference_avg_sharess',\n",
    "       'weekday_is_tuesday', 'weekday_is_wednesday', 'weekday_is_saturday',\n",
    "       'weekday_is_sunday', 'LDA_00', 'LDA_01', 'LDA_02', 'LDA_03', 'LDA_04',\n",
    "       'global_subjectivity', 'rate_positive_words', 'max_positive_polarity',\n",
    "       'title_sentiment_polarity', 'abs_title_subjectivity',\n",
    "       'n_tokens_content_class_high', 'n_tokens_title_class_low',\n",
    "       'num_hrefs_class_high', 'num_self_hrefs_class_Medium',\n",
    "       'num_self_hrefs_class_low', 'num_imgs_class_Medium',\n",
    "       'num_imgs_class_high']]"
   ]
  },
  {
   "cell_type": "markdown",
   "metadata": {},
   "source": [
    "### Standard Scaler -RFE 40"
   ]
  },
  {
   "cell_type": "code",
   "execution_count": 144,
   "metadata": {},
   "outputs": [],
   "source": [
    "from sklearn.preprocessing import StandardScaler\n",
    "sc = StandardScaler()\n",
    "\n",
    "X_std = sc.fit_transform(X40)\n",
    "X1 = pd.DataFrame(X_std,columns = X40.columns)"
   ]
  },
  {
   "cell_type": "code",
   "execution_count": 146,
   "metadata": {},
   "outputs": [],
   "source": [
    "lb_class = LabelEncoder()\n",
    "le = ['weekday_is_tuesday', 'weekday_is_wednesday', 'weekday_is_saturday',\n",
    "       'weekday_is_sunday', 'data_channel_is_entertainment',\n",
    "       'data_channel_is_bus', 'data_channel_is_socmed', 'data_channel_is_tech']\n",
    "for i in le:\n",
    "    X1[i] = lb_class.fit_transform(X1[i])"
   ]
  },
  {
   "cell_type": "code",
   "execution_count": 147,
   "metadata": {},
   "outputs": [],
   "source": [
    "from sklearn.model_selection import train_test_split\n",
    "X_train, X_test, y_train, y_test = train_test_split(X1,y,test_size = 0.3, random_state = 42, stratify = y)"
   ]
  },
  {
   "cell_type": "code",
   "execution_count": 148,
   "metadata": {
    "collapsed": true,
    "jupyter": {
     "outputs_hidden": true
    }
   },
   "outputs": [
    {
     "data": {
      "text/plain": [
       "(0.8500655836948845, 0.8475702034639314)"
      ]
     },
     "execution_count": 148,
     "metadata": {},
     "output_type": "execute_result"
    }
   ],
   "source": [
    "import sklearn.linear_model as lm\n",
    "from sklearn.metrics import accuracy_score, confusion_matrix, roc_auc_score, f1_score\n",
    "lr = lm.LogisticRegression(max_iter= 4000)\n",
    "lr.fit(X_train,y_train)\n",
    "y_train_pred = lr.predict(X_train)\n",
    "y_train_prob = lr.predict_proba(X_train)[:,1]\n",
    "y_test_pred = lr.predict(X_test)\n",
    "y_test_prob = lr.predict_proba(X_test)[:,1]\n",
    "\n",
    "lr.score(X1,y),lr.score(X_test,y_test)"
   ]
  },
  {
   "cell_type": "code",
   "execution_count": 149,
   "metadata": {
    "collapsed": true,
    "jupyter": {
     "outputs_hidden": true
    }
   },
   "outputs": [
    {
     "name": "stdout",
     "output_type": "stream",
     "text": [
      "Accuracy 0.8511351351351352\n",
      "AUC train 0.9303295854861825\n",
      "F1 train 0.8438480438480439\n",
      "recall 0.8623966622884958\n",
      "Precision 0.826080521018354\n",
      "\n",
      "\n",
      "Accuracy 0.8475702034639314\n",
      "AUC test 0.9293154628128895\n",
      "F1 test 0.840193918025562\n",
      "recall 0.8592031728862448\n",
      "Precision 0.8220075888237324\n"
     ]
    }
   ],
   "source": [
    "from sklearn.metrics import classification_report, recall_score, precision_score, f1_score\n",
    "print(\"Accuracy\",accuracy_score(y_train,y_train_pred))\n",
    "print(\"AUC train\", roc_auc_score(y_train,y_train_prob))\n",
    "print(\"F1 train\", f1_score(y_train,y_train_pred))\n",
    "print(\"recall\",recall_score(y_train,y_train_pred))\n",
    "print(\"Precision\",precision_score(y_train,y_train_pred))\n",
    "\n",
    "print(\"\\n\")\n",
    "print(\"Accuracy\",accuracy_score(y_test,y_test_pred))\n",
    "print(\"AUC test\",roc_auc_score(y_test,y_test_prob))\n",
    "print(\"F1 test\",f1_score(y_test,y_test_pred))\n",
    "print(\"recall\",recall_score(y_test,y_test_pred))\n",
    "print(\"Precision\",precision_score(y_test,y_test_pred))"
   ]
  },
  {
   "cell_type": "code",
   "execution_count": null,
   "metadata": {},
   "outputs": [],
   "source": []
  },
  {
   "cell_type": "markdown",
   "metadata": {},
   "source": [
    "### Standard Scaler"
   ]
  },
  {
   "cell_type": "code",
   "execution_count": 298,
   "metadata": {},
   "outputs": [],
   "source": [
    "from sklearn.preprocessing import StandardScaler\n",
    "sc = StandardScaler()\n",
    "#for i not in \n",
    "X_std = sc.fit_transform(X)\n",
    "X1 = pd.DataFrame(X_std,columns = X.columns)"
   ]
  },
  {
   "cell_type": "code",
   "execution_count": 299,
   "metadata": {},
   "outputs": [],
   "source": [
    "lb_class = LabelEncoder()\n",
    "le = ['weekday_is_monday', 'weekday_is_tuesday', 'weekday_is_wednesday',\n",
    "       'weekday_is_thursday', 'weekday_is_friday', 'weekday_is_saturday',\n",
    "       'weekday_is_sunday','data_channel_is_lifestyle', 'data_channel_is_entertainment',\n",
    "       'data_channel_is_bus', 'data_channel_is_socmed', 'data_channel_is_tech',\n",
    "       'data_channel_is_world']\n",
    "for i in le:\n",
    "    X1[i] = lb_class.fit_transform(X1[i])"
   ]
  },
  {
   "cell_type": "code",
   "execution_count": 281,
   "metadata": {},
   "outputs": [],
   "source": [
    "from sklearn.model_selection import train_test_split\n",
    "X_train, X_test, y_train, y_test = train_test_split(X1,y,test_size = 0.3, random_state = 42, stratify = y)"
   ]
  },
  {
   "cell_type": "markdown",
   "metadata": {},
   "source": [
    "### Kbest"
   ]
  },
  {
   "cell_type": "code",
   "execution_count": 328,
   "metadata": {},
   "outputs": [
    {
     "data": {
      "text/plain": [
       "Index(['timedelta', 'n_unique_tokens', 'n_non_stop_unique_tokens',\n",
       "       'num_videos', 'average_token_length', 'data_channel_is_entertainment',\n",
       "       'data_channel_is_bus', 'data_channel_is_socmed', 'data_channel_is_tech',\n",
       "       'data_channel_is_world', 'kw_min_min', 'kw_max_min', 'kw_avg_min',\n",
       "       'kw_min_max', 'kw_max_max', 'kw_avg_max', 'kw_min_avg', 'kw_max_avg',\n",
       "       'kw_avg_avg', 'self_reference_min_shares', 'self_reference_max_shares',\n",
       "       'self_reference_avg_sharess', 'weekday_is_thursday',\n",
       "       'weekday_is_saturday', 'weekday_is_sunday', 'LDA_00', 'LDA_01',\n",
       "       'LDA_02', 'LDA_03', 'LDA_04', 'global_subjectivity',\n",
       "       'global_sentiment_polarity', 'global_rate_positive_words',\n",
       "       'global_rate_negative_words', 'rate_positive_words',\n",
       "       'rate_negative_words', 'avg_positive_polarity', 'min_positive_polarity',\n",
       "       'max_positive_polarity', 'avg_negative_polarity',\n",
       "       'max_negative_polarity', 'title_subjectivity',\n",
       "       'title_sentiment_polarity', 'abs_title_sentiment_polarity',\n",
       "       'n_tokens_content_class_low', 'num_hrefs_class_Medium',\n",
       "       'num_self_hrefs_class_low', 'num_imgs_class_Medium',\n",
       "       'num_imgs_class_high', 'num_imgs_class_low'],\n",
       "      dtype='object')"
      ]
     },
     "execution_count": 328,
     "metadata": {},
     "output_type": "execute_result"
    }
   ],
   "source": [
    "X2 = X1.copy(deep=True)\n",
    "selector = SelectKBest(mutual_info_classif, k=50)\n",
    "selector.fit(X2, y)\n",
    "# Get columns to keep and create new dataframe with those only\n",
    "cols = selector.get_support(indices=True)\n",
    "features_df_new = X2.iloc[:,cols]\n",
    "features_df_new.columns"
   ]
  },
  {
   "cell_type": "code",
   "execution_count": 329,
   "metadata": {},
   "outputs": [],
   "source": [
    "\n",
    "X5 = features_df_new.drop(['n_tokens_content_class_low', 'num_hrefs_class_Medium',\n",
    "       'num_self_hrefs_class_low', 'num_imgs_class_Medium',\n",
    "       'num_imgs_class_high', 'num_imgs_class_low','data_channel_is_entertainment',\n",
    "       'data_channel_is_bus', 'data_channel_is_socmed', 'data_channel_is_tech',\n",
    "       'data_channel_is_world','weekday_is_thursday',\n",
    "       'weekday_is_saturday', 'weekday_is_sunday'],axis = 1)"
   ]
  },
  {
   "cell_type": "code",
   "execution_count": 330,
   "metadata": {},
   "outputs": [
    {
     "data": {
      "text/plain": [
       "Index(['timedelta', 'n_unique_tokens', 'n_non_stop_unique_tokens',\n",
       "       'num_videos', 'average_token_length', 'kw_min_min', 'kw_max_min',\n",
       "       'kw_avg_min', 'kw_min_max', 'kw_max_max', 'kw_avg_max', 'kw_min_avg',\n",
       "       'kw_max_avg', 'kw_avg_avg', 'self_reference_min_shares',\n",
       "       'self_reference_max_shares', 'self_reference_avg_sharess', 'LDA_00',\n",
       "       'LDA_01', 'LDA_02', 'LDA_03', 'LDA_04', 'global_subjectivity',\n",
       "       'global_sentiment_polarity', 'global_rate_positive_words',\n",
       "       'global_rate_negative_words', 'rate_positive_words',\n",
       "       'rate_negative_words', 'avg_positive_polarity', 'min_positive_polarity',\n",
       "       'max_positive_polarity', 'avg_negative_polarity',\n",
       "       'max_negative_polarity', 'title_subjectivity',\n",
       "       'title_sentiment_polarity', 'abs_title_sentiment_polarity'],\n",
       "      dtype='object')"
      ]
     },
     "execution_count": 330,
     "metadata": {},
     "output_type": "execute_result"
    }
   ],
   "source": [
    "X5.columns\n"
   ]
  },
  {
   "cell_type": "code",
   "execution_count": 337,
   "metadata": {},
   "outputs": [],
   "source": [
    "X2 = X1[['timedelta', 'n_unique_tokens', 'n_non_stop_unique_tokens',\n",
    "       'num_videos', 'average_token_length', 'kw_min_min', 'kw_max_min',\n",
    "       'kw_avg_min', 'kw_min_max', 'kw_max_max', 'kw_avg_max', 'kw_min_avg',\n",
    "       'kw_max_avg', 'kw_avg_avg', 'self_reference_min_shares',\n",
    "       'self_reference_max_shares', 'self_reference_avg_sharess', 'LDA_00',\n",
    "       'LDA_01', 'LDA_02', 'LDA_03', 'LDA_04', 'global_subjectivity',\n",
    "       'global_sentiment_polarity', 'global_rate_positive_words',\n",
    "       'global_rate_negative_words', 'rate_positive_words',\n",
    "       'rate_negative_words', 'avg_positive_polarity', 'min_positive_polarity',\n",
    "       'max_positive_polarity', 'avg_negative_polarity',\n",
    "       'max_negative_polarity', 'title_subjectivity',\n",
    "       'title_sentiment_polarity', 'abs_title_sentiment_polarity','data_channel_is_lifestyle',\n",
    "       'data_channel_is_entertainment', 'data_channel_is_bus',\n",
    "       'data_channel_is_socmed', 'data_channel_is_tech',\n",
    "       'data_channel_is_world','weekday_is_monday', 'weekday_is_tuesday',\n",
    "       'weekday_is_wednesday', 'weekday_is_thursday', 'weekday_is_friday',\n",
    "       'weekday_is_saturday', 'weekday_is_sunday','n_tokens_content_class_Medium',\n",
    "       'n_tokens_content_class_high', 'n_tokens_content_class_low',\n",
    "       'n_tokens_title_class_Medium', 'n_tokens_title_class_high',\n",
    "       'n_tokens_title_class_low', 'num_hrefs_class_Medium',\n",
    "       'num_hrefs_class_high', 'num_hrefs_class_low',\n",
    "       'num_self_hrefs_class_Medium', 'num_self_hrefs_class_high',\n",
    "       'num_self_hrefs_class_low', 'num_imgs_class_Medium',\n",
    "       'num_imgs_class_high', 'num_imgs_class_low']]"
   ]
  },
  {
   "cell_type": "raw",
   "metadata": {},
   "source": [
    "\n",
    "X5 = features_df_new.drop(['n_tokens_title_class_Medium', 'n_tokens_title_class_high',\n",
    "       'num_hrefs_class_Medium', 'num_imgs_class_Medium',\n",
    "       'num_imgs_class_high', 'num_imgs_class_low', 'data_channel_is_entertainment',\n",
    "       'data_channel_is_bus', 'data_channel_is_socmed',\n",
    "       'data_channel_is_world', 'n_tokens_title_class_Medium', 'n_tokens_title_class_high',\n",
    "       'num_hrefs_class_Medium', 'num_imgs_class_Medium',\n",
    "       'num_imgs_class_high', 'num_imgs_class_low','weekday_is_saturday','weekday_is_tuesday'],axis = 1)"
   ]
  },
  {
   "cell_type": "raw",
   "metadata": {},
   "source": [
    "X5.columns\n"
   ]
  },
  {
   "cell_type": "raw",
   "metadata": {},
   "source": [
    "X2 = X1[['timedelta', 'n_unique_tokens', 'n_non_stop_unique_tokens',\n",
    "       'num_videos', 'average_token_length', 'kw_max_min', 'kw_avg_min',\n",
    "       'kw_min_max', 'kw_max_max', 'kw_avg_max', 'kw_min_avg', 'kw_max_avg',\n",
    "       'kw_avg_avg', 'self_reference_min_shares', 'self_reference_max_shares',\n",
    "       'self_reference_avg_sharess', 'LDA_00', 'LDA_01', 'LDA_02', 'LDA_03',\n",
    "       'LDA_04', 'global_subjectivity', 'global_sentiment_polarity',\n",
    "       'global_rate_positive_words', 'global_rate_negative_words',\n",
    "       'rate_positive_words', 'rate_negative_words', 'avg_positive_polarity',\n",
    "       'min_positive_polarity', 'avg_negative_polarity', 'title_subjectivity',\n",
    "       'title_sentiment_polarity', 'abs_title_sentiment_polarity','data_channel_is_lifestyle',\n",
    "       'data_channel_is_entertainment', 'data_channel_is_bus',\n",
    "       'data_channel_is_socmed', 'data_channel_is_tech',\n",
    "       'data_channel_is_world','weekday_is_monday', 'weekday_is_tuesday',\n",
    "       'weekday_is_wednesday', 'weekday_is_thursday', 'weekday_is_friday',\n",
    "       'weekday_is_saturday', 'weekday_is_sunday','n_tokens_content_class_Medium',\n",
    "       'n_tokens_content_class_high', 'n_tokens_content_class_low',\n",
    "       'n_tokens_title_class_Medium', 'n_tokens_title_class_high',\n",
    "       'n_tokens_title_class_low', 'num_hrefs_class_Medium',\n",
    "       'num_hrefs_class_high', 'num_hrefs_class_low',\n",
    "       'num_self_hrefs_class_Medium', 'num_self_hrefs_class_high',\n",
    "       'num_self_hrefs_class_low', 'num_imgs_class_Medium',\n",
    "       'num_imgs_class_high', 'num_imgs_class_low']]"
   ]
  },
  {
   "cell_type": "code",
   "execution_count": 339,
   "metadata": {},
   "outputs": [],
   "source": [
    "from sklearn.model_selection import train_test_split\n",
    "X_train, X_test, y_train, y_test = train_test_split(X2,y,test_size = 0.3, random_state = 42, stratify = y)"
   ]
  },
  {
   "cell_type": "code",
   "execution_count": 336,
   "metadata": {},
   "outputs": [
    {
     "name": "stdout",
     "output_type": "stream",
     "text": [
      "Accuracy 0.860936936936937\n",
      "Accuracy 0.8564822599630065\n"
     ]
    }
   ],
   "source": [
    "lr = lm.LogisticRegression(max_iter= 4000)\n",
    "lr.fit(X_train2,y_train2)\n",
    "y_train_pred2 = lr.predict(X_train2)\n",
    "\n",
    "y_test_pred2 = lr.predict(X_test2)\n",
    "\n",
    "\n",
    "print(\"Accuracy\",accuracy_score(y_train2,y_train_pred2))\n",
    "print(\"Accuracy\",accuracy_score(y_test2,y_test_pred2))"
   ]
  },
  {
   "cell_type": "code",
   "execution_count": 290,
   "metadata": {},
   "outputs": [
    {
     "name": "stdout",
     "output_type": "stream",
     "text": [
      "Accuracy 0.8597837837837838\n",
      "Accuracy 0.8558096519253405\n"
     ]
    }
   ],
   "source": [
    "X_new = SelectKBest(mutual_info_classif, k=44).fit_transform(X1, y)\n",
    "from sklearn.model_selection import train_test_split\n",
    "X_train1, X_test1, y_train1, y_test1 = train_test_split(X_new,y,test_size = 0.3, random_state = 42, stratify = y)\n",
    "import sklearn.linear_model as lm\n",
    "from sklearn.metrics import accuracy_score, confusion_matrix, roc_auc_score, f1_score\n",
    "lr = lm.LogisticRegression(max_iter= 4000)\n",
    "lr.fit(X_train1,y_train1)\n",
    "y_train_pred1 = lr.predict(X_train1)\n",
    "\n",
    "y_test_pred1 = lr.predict(X_test1)\n",
    "\n",
    "\n",
    "print(\"Accuracy\",accuracy_score(y_train1,y_train_pred1))\n",
    "print(\"Accuracy\",accuracy_score(y_test1,y_test_pred1))"
   ]
  },
  {
   "cell_type": "code",
   "execution_count": 292,
   "metadata": {},
   "outputs": [
    {
     "data": {
      "text/plain": [
       "(39644, 44)"
      ]
     },
     "execution_count": 292,
     "metadata": {},
     "output_type": "execute_result"
    }
   ],
   "source": [
    "X_new.shape"
   ]
  },
  {
   "cell_type": "markdown",
   "metadata": {},
   "source": [
    "### Logistic Regression"
   ]
  },
  {
   "cell_type": "code",
   "execution_count": 340,
   "metadata": {},
   "outputs": [
    {
     "name": "stdout",
     "output_type": "stream",
     "text": [
      "Accuracy 0.8621621621621621\n",
      "Accuracy 0.8575752480242139\n"
     ]
    }
   ],
   "source": [
    "import sklearn.linear_model as lm\n",
    "from sklearn.metrics import accuracy_score, confusion_matrix, roc_auc_score, f1_score\n",
    "lr = lm.LogisticRegression(max_iter= 4000)\n",
    "lr.fit(X_train,y_train)\n",
    "y_train_pred = lr.predict(X_train)\n",
    "y_train_prob = lr.predict_proba(X_train)[:,1]\n",
    "y_test_pred = lr.predict(X_test)\n",
    "y_test_prob = lr.predict_proba(X_test)[:,1]\n",
    "\n",
    "print(\"Accuracy\",accuracy_score(y_train,y_train_pred))\n",
    "print(\"Accuracy\",accuracy_score(y_test,y_test_pred))"
   ]
  },
  {
   "cell_type": "code",
   "execution_count": 341,
   "metadata": {},
   "outputs": [
    {
     "name": "stdout",
     "output_type": "stream",
     "text": [
      "Accuracy 0.8621621621621621\n",
      "AUC train 0.9389033851878539\n",
      "F1 train 0.8549982940975775\n",
      "recall 0.871281773931855\n",
      "Precision 0.8393122953259898\n",
      "\n",
      "\n",
      "Accuracy 0.8575752480242139\n",
      "AUC test 0.9370484555984612\n",
      "F1 test 0.850115023889577\n",
      "recall 0.8660537227330088\n",
      "Precision 0.8347523892267593\n"
     ]
    }
   ],
   "source": [
    "from sklearn.metrics import classification_report, recall_score, precision_score, f1_score\n",
    "print(\"Accuracy\",accuracy_score(y_train,y_train_pred))\n",
    "print(\"AUC train\", roc_auc_score(y_train,y_train_prob))\n",
    "print(\"F1 train\", f1_score(y_train,y_train_pred))\n",
    "print(\"recall\",recall_score(y_train,y_train_pred))\n",
    "print(\"Precision\",precision_score(y_train,y_train_pred))\n",
    "\n",
    "print(\"\\n\")\n",
    "print(\"Accuracy\",accuracy_score(y_test,y_test_pred))\n",
    "print(\"AUC test\",roc_auc_score(y_test,y_test_prob))\n",
    "print(\"F1 test\",f1_score(y_test,y_test_pred))\n",
    "print(\"recall\",recall_score(y_test,y_test_pred))\n",
    "print(\"Precision\",precision_score(y_test,y_test_pred))"
   ]
  },
  {
   "cell_type": "code",
   "execution_count": 357,
   "metadata": {},
   "outputs": [
    {
     "data": {
      "image/png": "[encoded data removed]",
      "text/plain": [
       "<Figure size 864x360 with 4 Axes>"
      ]
     },
     "metadata": {
      "needs_background": "light"
     },
     "output_type": "display_data"
    }
   ],
   "source": [
    "fig,axes = plt.subplots(1,2,figsize = (12,5))\n",
    "sns.heatmap(confusion_matrix(y_test,y_test_pred),fmt = 'd',annot = True, ax = axes[0])\n",
    "sns.heatmap(confusion_matrix(y_train,y_train_pred),fmt = 'd',annot = True,ax = axes[1])\n",
    "plt.savefig(\"Logistic CM.png\")\n",
    "plt.show()"
   ]
  },
  {
   "cell_type": "code",
   "execution_count": 358,
   "metadata": {},
   "outputs": [
    {
     "data": {
      "image/png": "[encoded data removed]",
      "text/plain": [
       "<Figure size 432x288 with 1 Axes>"
      ]
     },
     "metadata": {
      "needs_background": "light"
     },
     "output_type": "display_data"
    }
   ],
   "source": [
    "fpr, tpr, thresholds =roc_curve(y_train,y_train_prob)\n",
    "plt.plot(fpr,tpr,\"r\")\n",
    "plt.plot(fpr,fpr,\"g\")\n",
    "plt.xlabel(\"fpr\")\n",
    "plt.ylabel(\"tpr\")\n",
    "plt.title(\"ROC Curve fot Logistic Regression\")\n",
    "plt.savefig('ROC Curve fot Logistic Regression.png')\n",
    "plt.show()"
   ]
  },
  {
   "cell_type": "code",
   "execution_count": 436,
   "metadata": {},
   "outputs": [
    {
     "name": "stdout",
     "output_type": "stream",
     "text": [
      "Accuracy: 0.85 (+/- 0.13)\n"
     ]
    }
   ],
   "source": [
    "from sklearn.model_selection import StratifiedKFold\n",
    "from sklearn.model_selection import cross_validate\n",
    "from sklearn.metrics import f1_score, make_scorer, roc_auc_score\n",
    "scoring = {'accuracy' : make_scorer(accuracy_score)}\n",
    "\n",
    "model_lr = lm.LogisticRegression(max_iter= 4000)\n",
    "results_lr = cross_validate(model_lr, X2, y, cv=10, scoring = scoring)\n",
    "print(\"Accuracy: %0.2f (+/- %0.2f)\" % (np.mean(results_lr['test_accuracy']), np.std(results_lr['test_accuracy']) * 2))"
   ]
  },
  {
   "cell_type": "code",
   "execution_count": 432,
   "metadata": {},
   "outputs": [
    {
     "data": {
      "text/plain": [
       "{'fit_time': array([1.12710309, 0.60337019, 0.91306186, 0.48380303, 0.76457596]),\n",
       " 'score_time': array([0.01495409, 0.00486183, 0.00499129, 0.00573993, 0.00586486]),\n",
       " 'test_accuracy': array([0.95371421, 0.80476731, 0.82645983, 0.81624417, 0.80045409])}"
      ]
     },
     "execution_count": 432,
     "metadata": {},
     "output_type": "execute_result"
    }
   ],
   "source": [
    "results_lr"
   ]
  },
  {
   "cell_type": "markdown",
   "metadata": {},
   "source": [
    "# RB BOX"
   ]
  },
  {
   "cell_type": "code",
   "execution_count": 455,
   "metadata": {},
   "outputs": [],
   "source": [
    "rb = []\n",
    "rb.append(results_lr['test_accuracy'])\n",
    "rb.append(results_dt['test_accuracy'])\n",
    "rb.append(results_rf['test_accuracy'])\n",
    "rb.append(results['test_accuracy'])"
   ]
  },
  {
   "cell_type": "code",
   "execution_count": 456,
   "metadata": {},
   "outputs": [
    {
     "data": {
      "text/plain": [
       "[array([0.98587642, 0.96216898, 0.87213115, 0.79016393, 0.8191221 ,\n",
       "        0.83602422, 0.82542886, 0.80978809, 0.81937437, 0.80398587]),\n",
       " array([0.94882883, 0.95387387, 0.95387387, 0.95099099, 0.94486486,\n",
       "        0.94630631, 0.94954955, 0.95459459, 0.94558559, 0.9445045 ]),\n",
       " array([0.99773014, 0.99747793, 0.93190416, 0.9001261 , 0.90363269,\n",
       "        0.89278507, 0.8993441 , 0.89202825, 0.89101917, 0.87083754]),\n",
       " array([1.        , 1.        , 0.94249685, 0.95636822, 0.96442987,\n",
       "        0.96241171, 0.96720484, 0.96947528, 0.96266398, 0.94576186])]"
      ]
     },
     "execution_count": 456,
     "metadata": {},
     "output_type": "execute_result"
    }
   ],
   "source": [
    "rb"
   ]
  },
  {
   "cell_type": "code",
   "execution_count": 461,
   "metadata": {},
   "outputs": [
    {
     "data": {
      "image/png": "[encoded data removed]",
      "text/plain": [
       "<Figure size 936x360 with 1 Axes>"
      ]
     },
     "metadata": {
      "needs_background": "light"
     },
     "output_type": "display_data"
    }
   ],
   "source": [
    "names = [\"Logistic Regression\", \"Decision Tree\", \"Random Forest\", \"XGB Boost\"]\n",
    "fig = plt.figure(figsize = (13,5))\n",
    "fig.suptitle('Algorithm Comparison')\n",
    "ax = fig.add_subplot(111)\n",
    "plt.boxplot(rb,showfliers=False)\n",
    "ax.set_xticklabels(names)\n",
    "plt.savefig('2 BOX.png')\n",
    "plt.show()"
   ]
  },
  {
   "cell_type": "markdown",
   "metadata": {},
   "source": [
    "### Logistic Regression with Gredisearch"
   ]
  },
  {
   "cell_type": "code",
   "execution_count": 106,
   "metadata": {},
   "outputs": [
    {
     "name": "stdout",
     "output_type": "stream",
     "text": [
      "tuned hpyerparameters :(best parameters)  {'C': 1000.0, 'penalty': 'l2'}\n",
      "accuracy : 0.8191100484435582\n"
     ]
    }
   ],
   "source": [
    "from sklearn.model_selection import GridSearchCV\n",
    "from sklearn.linear_model import LogisticRegression\n",
    "grid={\"C\":np.logspace(-3,3,7), \"penalty\":[\"l2\"]}# l1 lasso l2 ridge\n",
    "logreg=LogisticRegression(max_iter = 4000)\n",
    "logreg_cv=GridSearchCV(logreg,grid,cv=10)\n",
    "logreg_cv.fit(X1,y)\n",
    "\n",
    "print(\"tuned hpyerparameters :(best parameters) \",logreg_cv.best_params_)\n",
    "print(\"accuracy :\",logreg_cv.best_score_)"
   ]
  },
  {
   "cell_type": "code",
   "execution_count": 107,
   "metadata": {},
   "outputs": [
    {
     "name": "stdout",
     "output_type": "stream",
     "text": [
      "Accuracy 0.830018018018018\n",
      "AUC train 0.9188395387413342\n",
      "F1 train 0.81648056647084\n",
      "recall 0.8107084910762574\n",
      "Precision 0.8223354231974922\n",
      "\n",
      "\n",
      "Accuracy 0.8276441903480747\n",
      "AUC test 0.9178809133199206\n",
      "F1 test 0.8134328358208955\n",
      "recall 0.8056607175049576\n",
      "Precision 0.8213563683146481\n"
     ]
    }
   ],
   "source": [
    "logreg_C = LogisticRegression(**logreg_cv.best_params_,max_iter = 3000)\n",
    "logreg_C.fit(X_train,y_train)\n",
    "y_train_pred = logreg_C.predict(X_train)\n",
    "y_train_prob = logreg_C.predict_proba(X_train)[:,1]\n",
    "y_test_pred = logreg_C.predict(X_test)\n",
    "y_test_prob = logreg_C.predict_proba(X_test)[:,1]\n",
    "#Scores\n",
    "print(\"Accuracy\",accuracy_score(y_train,y_train_pred))\n",
    "print(\"AUC train\", roc_auc_score(y_train,y_train_prob))\n",
    "print(\"F1 train\", f1_score(y_train,y_train_pred))\n",
    "print(\"recall\",recall_score(y_train,y_train_pred))\n",
    "print(\"Precision\",precision_score(y_train,y_train_pred))\n",
    "\n",
    "print(\"\\n\")\n",
    "print(\"Accuracy\",accuracy_score(y_test,y_test_pred))\n",
    "print(\"AUC test\",roc_auc_score(y_test,y_test_prob))\n",
    "print(\"F1 test\",f1_score(y_test,y_test_pred))\n",
    "print(\"recall\",recall_score(y_test,y_test_pred))\n",
    "print(\"Precision\",precision_score(y_test,y_test_pred))"
   ]
  },
  {
   "cell_type": "code",
   "execution_count": 108,
   "metadata": {},
   "outputs": [
    {
     "data": {
      "image/png": "[encoded data removed]",
      "text/plain": [
       "<Figure size 864x360 with 4 Axes>"
      ]
     },
     "metadata": {
      "needs_background": "light"
     },
     "output_type": "display_data"
    }
   ],
   "source": [
    "fig,axes = plt.subplots(1,2,figsize = (12,5))\n",
    "sns.heatmap(confusion_matrix(y_test,y_test_pred),fmt = 'd',annot = True, ax = axes[0])\n",
    "sns.heatmap(confusion_matrix(y_train,y_train_pred),fmt = 'd',annot = True,ax = axes[1])\n",
    "#plt.savefig(\"Logistic median.png\")\n",
    "plt.show()"
   ]
  },
  {
   "cell_type": "markdown",
   "metadata": {},
   "source": [
    "### Decision Tree"
   ]
  },
  {
   "cell_type": "code",
   "execution_count": 77,
   "metadata": {},
   "outputs": [
    {
     "name": "stdout",
     "output_type": "stream",
     "text": [
      "Accuracy 1.0\n",
      "AUC train 1.0\n",
      "F1 train 1.0\n",
      "recall 1.0\n",
      "Precision 1.0\n",
      "\n",
      "\n",
      "Accuracy 0.9421557087607197\n",
      "AUC test 0.9420632525941217\n",
      "F1 test 0.9381517439769868\n",
      "recall 0.9406886605372273\n",
      "Precision 0.9356284740900126\n"
     ]
    }
   ],
   "source": [
    "from sklearn.tree import DecisionTreeClassifier as dct\n",
    "\n",
    "dt = dct()\n",
    "dt.fit(X_train,y_train)\n",
    "y_train_pred = dt.predict(X_train)\n",
    "y_train_prob = dt.predict_proba(X_train)[::,1]\n",
    "y_test_pred = dt.predict(X_test)\n",
    "y_test_prob = dt.predict_proba(X_test)[::,1]\n",
    "print(\"Accuracy\",accuracy_score(y_train,y_train_pred))\n",
    "print(\"AUC train\", roc_auc_score(y_train,y_train_prob))\n",
    "print(\"F1 train\", f1_score(y_train,y_train_pred))\n",
    "print(\"recall\",recall_score(y_train,y_train_pred))\n",
    "print(\"Precision\",precision_score(y_train,y_train_pred))\n",
    "\n",
    "print(\"\\n\")\n",
    "print(\"Accuracy\",accuracy_score(y_test,y_test_pred))\n",
    "print(\"AUC test\",roc_auc_score(y_test,y_test_prob))\n",
    "print(\"F1 test\",f1_score(y_test,y_test_pred))\n",
    "print(\"recall\",recall_score(y_test,y_test_pred))\n",
    "print(\"Precision\",precision_score(y_test,y_test_pred))"
   ]
  },
  {
   "cell_type": "code",
   "execution_count": 110,
   "metadata": {},
   "outputs": [
    {
     "data": {
      "image/png": "[encoded data removed]",
      "text/plain": [
       "<Figure size 864x360 with 4 Axes>"
      ]
     },
     "metadata": {
      "needs_background": "light"
     },
     "output_type": "display_data"
    }
   ],
   "source": [
    "fig,axes = plt.subplots(1,2,figsize = (12,5))\n",
    "sns.heatmap(confusion_matrix(y_test,y_test_pred),fmt = 'd',annot = True, ax = axes[0])\n",
    "sns.heatmap(confusion_matrix(y_train,y_train_pred),fmt = 'd',annot = True,ax = axes[1])\n",
    "#plt.savefig(\"Logistic median.png\")\n",
    "plt.show()"
   ]
  },
  {
   "cell_type": "markdown",
   "metadata": {},
   "source": [
    "### Decision Tree with Grid search"
   ]
  },
  {
   "cell_type": "code",
   "execution_count": 343,
   "metadata": {},
   "outputs": [
    {
     "data": {
      "text/plain": [
       "{'max_depth': 16, 'min_samples_leaf': 10, 'min_samples_split': 2}"
      ]
     },
     "execution_count": 343,
     "metadata": {},
     "output_type": "execute_result"
    }
   ],
   "source": [
    "from sklearn.model_selection import GridSearchCV\n",
    "from sklearn.model_selection import StratifiedKFold\n",
    "\n",
    "dt = dct(random_state = 3)\n",
    "params = {\"max_depth\": [2,3,4,5,6,8,10,12,14,16], 'min_samples_split':[2,4,6,8,10,12,14,16],'min_samples_leaf':[1,2,4,6,8,10]}\n",
    "skf = StratifiedKFold(n_splits=5, shuffle = True)\n",
    "gsearch = GridSearchCV(dt,param_grid=params, cv = skf, scoring = 'roc_auc',return_train_score=True,n_jobs = -1)\n",
    "\n",
    "gsearch.fit(X2,y)\n",
    "gsearch.best_params_"
   ]
  },
  {
   "cell_type": "code",
   "execution_count": 244,
   "metadata": {},
   "outputs": [
    {
     "data": {
      "text/plain": [
       "{'max_depth': 16, 'min_samples_leaf': 10, 'min_samples_split': 2}"
      ]
     },
     "execution_count": 244,
     "metadata": {},
     "output_type": "execute_result"
    }
   ],
   "source": [
    "gsearch.best_params_"
   ]
  },
  {
   "cell_type": "code",
   "execution_count": 344,
   "metadata": {},
   "outputs": [
    {
     "name": "stdout",
     "output_type": "stream",
     "text": [
      "Accuracy 0.9634954954954955\n",
      "AUC train 0.9950009027274056\n",
      "F1 train 0.9616882871298362\n",
      "recall 0.9823070385536583\n",
      "Precision 0.9419173210846051\n",
      "\n",
      "\n",
      "Accuracy 0.949470321170338\n",
      "AUC test 0.9824469039497445\n",
      "F1 test 0.9469970896904488\n",
      "recall 0.967910582296737\n",
      "Precision 0.9269682320441989\n"
     ]
    }
   ],
   "source": [
    "dt = dct(**gsearch.best_params_)\n",
    "dt.fit(X_train,y_train)\n",
    "y_train_pred_dt = dt.predict(X_train)\n",
    "y_train_prob_dt = dt.predict_proba(X_train)[::,1]\n",
    "y_test_pred_dt = dt.predict(X_test)\n",
    "y_test_prob_dt = dt.predict_proba(X_test)[::,1]\n",
    "print(\"Accuracy\",accuracy_score(y_train,y_train_pred_dt))\n",
    "print(\"AUC train\", roc_auc_score(y_train,y_train_prob_dt))\n",
    "print(\"F1 train\", f1_score(y_train,y_train_pred_dt))\n",
    "print(\"recall\",recall_score(y_train,y_train_pred_dt))\n",
    "print(\"Precision\",precision_score(y_train,y_train_pred_dt))\n",
    "\n",
    "print(\"\\n\")\n",
    "print(\"Accuracy\",accuracy_score(y_test,y_test_pred_dt))\n",
    "print(\"AUC test\",roc_auc_score(y_test,y_test_prob_dt))\n",
    "print(\"F1 test\",f1_score(y_test,y_test_pred_dt))\n",
    "print(\"recall\",recall_score(y_test,y_test_pred_dt))\n",
    "print(\"Precision\",precision_score(y_test,y_test_pred_dt))"
   ]
  },
  {
   "cell_type": "code",
   "execution_count": 345,
   "metadata": {},
   "outputs": [
    {
     "data": {
      "image/png": "[encoded data removed]",
      "text/plain": [
       "<Figure size 864x360 with 4 Axes>"
      ]
     },
     "metadata": {
      "needs_background": "light"
     },
     "output_type": "display_data"
    }
   ],
   "source": [
    "fig,axes = plt.subplots(1,2,figsize = (12,5))\n",
    "sns.heatmap(confusion_matrix(y_test,y_test_pred_dt),fmt = 'd',annot = True, ax = axes[0])\n",
    "sns.heatmap(confusion_matrix(y_train,y_train_pred_dt),fmt = 'd',annot = True,ax = axes[1])\n",
    "plt.savefig(\"DT CM.png\")\n",
    "plt.show()"
   ]
  },
  {
   "cell_type": "code",
   "execution_count": 356,
   "metadata": {},
   "outputs": [
    {
     "data": {
      "image/png": "[encoded data removed]",
      "text/plain": [
       "<Figure size 432x288 with 1 Axes>"
      ]
     },
     "metadata": {
      "needs_background": "light"
     },
     "output_type": "display_data"
    }
   ],
   "source": [
    "fpr, tpr, thresholds =roc_curve(y_train,y_train_prob_dt)\n",
    "plt.plot(fpr,tpr,\"r\")\n",
    "plt.plot(fpr,fpr,\"g\")\n",
    "plt.xlabel(\"fpr\")\n",
    "plt.ylabel(\"tpr\")\n",
    "plt.title(\"ROC Curve fot DecisionTree\")\n",
    "plt.savefig('ROC Curve fot DecisionTree.png')\n",
    "plt.show()"
   ]
  },
  {
   "cell_type": "code",
   "execution_count": 453,
   "metadata": {},
   "outputs": [
    {
     "name": "stdout",
     "output_type": "stream",
     "text": [
      "Accuracy: 0.95 (+/- 0.01)\n"
     ]
    }
   ],
   "source": [
    "from sklearn.model_selection import StratifiedKFold\n",
    "from sklearn.model_selection import cross_validate\n",
    "from sklearn.metrics import f1_score, make_scorer, roc_auc_score\n",
    "scoring = {'accuracy' : make_scorer(accuracy_score)}\n",
    "\n",
    "model_dt = dct(**gsearch.best_params_)\n",
    "results_dt = cross_validate(model_dt, X_train, y_train, cv=10, scoring = scoring)\n",
    "print(\"Accuracy: %0.2f (+/- %0.2f)\" % (np.mean(results_dt['test_accuracy']), np.std(results_dt['test_accuracy']) * 2))"
   ]
  },
  {
   "cell_type": "code",
   "execution_count": null,
   "metadata": {},
   "outputs": [],
   "source": []
  },
  {
   "cell_type": "code",
   "execution_count": 454,
   "metadata": {},
   "outputs": [
    {
     "data": {
      "text/plain": [
       "{'fit_time': array([0.855232  , 0.78708005, 0.79365206, 0.79297376, 0.84193993,\n",
       "        0.91700697, 1.09190392, 0.93042302, 0.89260507, 0.77008104]),\n",
       " 'score_time': array([0.00589013, 0.00721979, 0.00377893, 0.00379896, 0.00662303,\n",
       "        0.00377989, 0.00455594, 0.0037148 , 0.00379515, 0.00380778]),\n",
       " 'test_accuracy': array([0.94882883, 0.95387387, 0.95387387, 0.95099099, 0.94486486,\n",
       "        0.94630631, 0.94954955, 0.95459459, 0.94558559, 0.9445045 ])}"
      ]
     },
     "execution_count": 454,
     "metadata": {},
     "output_type": "execute_result"
    }
   ],
   "source": [
    "results_dt"
   ]
  },
  {
   "cell_type": "code",
   "execution_count": null,
   "metadata": {},
   "outputs": [],
   "source": []
  },
  {
   "cell_type": "code",
   "execution_count": null,
   "metadata": {},
   "outputs": [],
   "source": []
  },
  {
   "cell_type": "markdown",
   "metadata": {},
   "source": [
    "### RandomForest"
   ]
  },
  {
   "cell_type": "code",
   "execution_count": 114,
   "metadata": {},
   "outputs": [
    {
     "name": "stdout",
     "output_type": "stream",
     "text": [
      "f1_score 1.0\n",
      "recall_score: 1.0\n",
      "precision_score: 1.0\n",
      "Accuracy on Train:  1.0\n",
      "AUC on Train:  1.0\n",
      "\n",
      "\n",
      "f1_score: 0.9650362318840578\n",
      "recall_score: 0.9603389219397873\n",
      "precision_score: 0.9697797196431822\n",
      "Accuracy on Test:  0.9675466621826131\n",
      "AUC on Test:  0.9962905044873565\n"
     ]
    }
   ],
   "source": [
    "from sklearn.ensemble import RandomForestClassifier\n",
    "\n",
    "rf = RandomForestClassifier(random_state=3)\n",
    "\n",
    "rf.fit(X_train, y_train)\n",
    "y_train_pred = rf.predict(X_train)\n",
    "y_train_prob = rf.predict_proba(X_train)[:,1]\n",
    "\n",
    "print('f1_score', f1_score(y_train, y_train_pred))\n",
    "print('recall_score:', recall_score(y_train, y_train_pred))\n",
    "print('precision_score:', precision_score(y_train, y_train_pred))\n",
    "print('Accuracy on Train: ', accuracy_score(y_train, y_train_pred))\n",
    "print('AUC on Train: ',  roc_auc_score(y_train, y_train_prob))\n",
    "\n",
    "y_test_pred = rf.predict(X_test)\n",
    "y_test_prob = rf.predict_proba(X_test)[:,1] \n",
    "\n",
    "print('\\n')\n",
    "print('f1_score:', f1_score(y_test, y_test_pred))\n",
    "print('recall_score:', recall_score(y_test, y_test_pred))\n",
    "print('precision_score:', precision_score(y_test, y_test_pred))\n",
    "print('Accuracy on Test: ', accuracy_score(y_test, y_test_pred))\n",
    "print('AUC on Test: ', roc_auc_score(y_test, y_test_prob))"
   ]
  },
  {
   "cell_type": "code",
   "execution_count": 115,
   "metadata": {},
   "outputs": [
    {
     "data": {
      "image/png": "[encoded data removed]",
      "text/plain": [
       "<Figure size 864x360 with 4 Axes>"
      ]
     },
     "metadata": {
      "needs_background": "light"
     },
     "output_type": "display_data"
    }
   ],
   "source": [
    "fig,axes = plt.subplots(1,2,figsize = (12,5))\n",
    "sns.heatmap(confusion_matrix(y_test,y_test_pred),fmt = 'd',annot = True, ax = axes[0])\n",
    "sns.heatmap(confusion_matrix(y_train,y_train_pred),fmt = 'd',annot = True,ax = axes[1])\n",
    "#plt.savefig(\"Logistic median.png\")\n",
    "plt.show()"
   ]
  },
  {
   "cell_type": "markdown",
   "metadata": {},
   "source": [
    "### RandomForest with gridsearch"
   ]
  },
  {
   "cell_type": "code",
   "execution_count": 346,
   "metadata": {},
   "outputs": [
    {
     "data": {
      "text/plain": [
       "RandomizedSearchCV(cv=StratifiedKFold(n_splits=6, random_state=None, shuffle=True),\n",
       "                   estimator=RandomForestClassifier(random_state=3), n_iter=100,\n",
       "                   n_jobs=-1,\n",
       "                   param_distributions={'max_depth': <scipy.stats._distn_infrastructure.rv_frozen object at 0x130979e90>,\n",
       "                                        'max_features': <scipy.stats._distn_infrastructure.rv_frozen object at 0x131815fd0>,\n",
       "                                        'min_samples_leaf': <scipy.stats._distn_infrastructure.rv_frozen object at 0x130979090>,\n",
       "                                        'min_samples_split': <scipy.stats._distn_infrastructure.rv_frozen object at 0x130979c50>,\n",
       "                                        'n_estimators': <scipy.stats._distn_infrastructure.rv_frozen object at 0x145a02350>},\n",
       "                   random_state=3, return_train_score=True, scoring='roc_auc')"
      ]
     },
     "execution_count": 346,
     "metadata": {},
     "output_type": "execute_result"
    }
   ],
   "source": [
    "from sklearn.model_selection import RandomizedSearchCV\n",
    "from sklearn.ensemble import RandomForestClassifier\n",
    "from scipy.stats import randint as sp_randint\n",
    "\n",
    "rf = RandomForestClassifier(random_state=3)\n",
    "skf = StratifiedKFold(n_splits=6, shuffle = True)\n",
    "params = {\n",
    "    'n_estimators': sp_randint(50, 200),\n",
    "    'max_features': sp_randint(1, 14),\n",
    "    'max_depth': sp_randint(2, 10),\n",
    "    'min_samples_leaf': sp_randint(1, 20),\n",
    "    'min_samples_split': sp_randint(2, 20)}\n",
    "\n",
    "rsearch = RandomizedSearchCV(rf, param_distributions=params, scoring='roc_auc', n_iter=100,\n",
    "                            cv=skf, random_state=3, n_jobs=-1, return_train_score=True)\n",
    "\n",
    "rsearch.fit(X2, y)"
   ]
  },
  {
   "cell_type": "code",
   "execution_count": 35,
   "metadata": {},
   "outputs": [
    {
     "data": {
      "text/plain": [
       "{'max_depth': 9,\n",
       " 'max_features': 8,\n",
       " 'min_samples_leaf': 12,\n",
       " 'min_samples_split': 12,\n",
       " 'n_estimators': 162}"
      ]
     },
     "execution_count": 35,
     "metadata": {},
     "output_type": "execute_result"
    }
   ],
   "source": [
    "rsearch.best_params_"
   ]
  },
  {
   "cell_type": "code",
   "execution_count": 347,
   "metadata": {},
   "outputs": [
    {
     "data": {
      "text/plain": [
       "{'max_depth': 9,\n",
       " 'max_features': 11,\n",
       " 'min_samples_leaf': 10,\n",
       " 'min_samples_split': 7,\n",
       " 'n_estimators': 109}"
      ]
     },
     "execution_count": 347,
     "metadata": {},
     "output_type": "execute_result"
    }
   ],
   "source": [
    "rsearch.best_params_"
   ]
  },
  {
   "cell_type": "code",
   "execution_count": 348,
   "metadata": {},
   "outputs": [
    {
     "name": "stdout",
     "output_type": "stream",
     "text": [
      "f1_score: 0.9231795936526769\n",
      "recall_score: 0.9619099126941204\n",
      "precision_score: 0.8874474303229025\n",
      "Accuracy on Train:  0.9253333333333333\n",
      "AUC on Train:  0.9878464703968939\n",
      "\n",
      "\n",
      "f1_score: 0.9223284100781929\n",
      "recall_score: 0.9569136470164052\n",
      "precision_score: 0.8901559617642126\n",
      "Accuracy on Test:  0.9248360517908188\n",
      "AUC on Test:  0.985422720360712\n"
     ]
    }
   ],
   "source": [
    "rf = RandomForestClassifier(**rsearch.best_params_, oob_score=True,  random_state=3)\n",
    "\n",
    "rf.fit(X_train, y_train)\n",
    "y_train_pred_rf = rf.predict(X_train)\n",
    "y_train_prob_rf = rf.predict_proba(X_train)[:,1]\n",
    "\n",
    "print('f1_score:', f1_score(y_train, y_train_pred_rf))\n",
    "print('recall_score:', recall_score(y_train, y_train_pred_rf))\n",
    "print('precision_score:', precision_score(y_train, y_train_pred_rf))\n",
    "print('Accuracy on Train: ', accuracy_score(y_train, y_train_pred_rf))\n",
    "print('AUC on Train: ',  roc_auc_score(y_train, y_train_prob_rf))\n",
    "\n",
    "y_test_pred_rf = rf.predict(X_test)\n",
    "y_test_prob_rf = rf.predict_proba(X_test)[:,1] \n",
    "\n",
    "print('\\n')\n",
    "print('f1_score:', f1_score(y_test, y_test_pred_rf))\n",
    "print('recall_score:', recall_score(y_test, y_test_pred_rf))\n",
    "print('precision_score:', precision_score(y_test, y_test_pred_rf))\n",
    "print('Accuracy on Test: ', accuracy_score(y_test, y_test_pred_rf))\n",
    "print('AUC on Test: ', roc_auc_score(y_test, y_test_prob_rf))"
   ]
  },
  {
   "cell_type": "code",
   "execution_count": 359,
   "metadata": {},
   "outputs": [
    {
     "data": {
      "image/png": "[encoded data removed]",
      "text/plain": [
       "<Figure size 864x360 with 4 Axes>"
      ]
     },
     "metadata": {
      "needs_background": "light"
     },
     "output_type": "display_data"
    }
   ],
   "source": [
    "fig,axes = plt.subplots(1,2,figsize = (12,5))\n",
    "sns.heatmap(confusion_matrix(y_test,y_test_pred_rf),fmt = 'd',annot = True, ax = axes[0])\n",
    "sns.heatmap(confusion_matrix(y_train,y_train_pred_rf),fmt = 'd',annot = True,ax = axes[1])\n",
    "plt.savefig(\"RF CM.png\")\n",
    "plt.show()"
   ]
  },
  {
   "cell_type": "code",
   "execution_count": 360,
   "metadata": {},
   "outputs": [
    {
     "data": {
      "image/png": "[encoded data removed]",
      "text/plain": [
       "<Figure size 432x288 with 1 Axes>"
      ]
     },
     "metadata": {
      "needs_background": "light"
     },
     "output_type": "display_data"
    }
   ],
   "source": [
    "fpr, tpr, thresholds =roc_curve(y_train,y_train_prob_rf)\n",
    "plt.plot(fpr,tpr,\"r\")\n",
    "plt.plot(fpr,fpr,\"g\")\n",
    "plt.xlabel(\"fpr\")\n",
    "plt.ylabel(\"tpr\")\n",
    "plt.title(\"ROC Curve fot RandomForest\")\n",
    "plt.savefig('ROC Curve fot RF.png')\n",
    "plt.show()"
   ]
  },
  {
   "cell_type": "code",
   "execution_count": 420,
   "metadata": {},
   "outputs": [
    {
     "name": "stdout",
     "output_type": "stream",
     "text": [
      "Accuracy: 0.92 (+/- 0.08)\n"
     ]
    }
   ],
   "source": [
    "from sklearn.model_selection import StratifiedKFold\n",
    "from sklearn.model_selection import cross_validate\n",
    "from sklearn.metrics import f1_score, make_scorer, roc_auc_score\n",
    "scoring = {'accuracy' : make_scorer(accuracy_score), \n",
    "           'precision' : make_scorer(precision_score),\n",
    "           'recall' : make_scorer(recall_score), \n",
    "           'f1_score' : make_scorer(f1_score),\n",
    "           'AUC' : make_scorer(roc_auc_score)}\n",
    "\n",
    "model_rf = RandomForestClassifier(**rsearch.best_params_, oob_score=True,  random_state=3)\n",
    "results_rf = cross_validate(model_rf, X2, y, cv=10, scoring = scoring)\n",
    "print(\"Accuracy: %0.2f (+/- %0.2f)\" % (np.mean(results_rf['test_accuracy']), np.std(results_rf['test_accuracy']) * 2))"
   ]
  },
  {
   "cell_type": "code",
   "execution_count": null,
   "metadata": {},
   "outputs": [],
   "source": []
  },
  {
   "cell_type": "code",
   "execution_count": null,
   "metadata": {},
   "outputs": [],
   "source": []
  },
  {
   "cell_type": "code",
   "execution_count": null,
   "metadata": {},
   "outputs": [],
   "source": []
  },
  {
   "cell_type": "code",
   "execution_count": null,
   "metadata": {},
   "outputs": [],
   "source": []
  },
  {
   "cell_type": "code",
   "execution_count": null,
   "metadata": {},
   "outputs": [],
   "source": []
  },
  {
   "cell_type": "code",
   "execution_count": null,
   "metadata": {},
   "outputs": [],
   "source": []
  },
  {
   "cell_type": "code",
   "execution_count": null,
   "metadata": {},
   "outputs": [],
   "source": []
  },
  {
   "cell_type": "code",
   "execution_count": null,
   "metadata": {},
   "outputs": [],
   "source": []
  },
  {
   "cell_type": "code",
   "execution_count": null,
   "metadata": {},
   "outputs": [],
   "source": []
  },
  {
   "cell_type": "code",
   "execution_count": null,
   "metadata": {},
   "outputs": [],
   "source": [
    "for name, importance in zip(X2.columns, rf.feature_importances_):\n",
    "    print(name, \"=\", importance)"
   ]
  },
  {
   "cell_type": "code",
   "execution_count": 355,
   "metadata": {},
   "outputs": [],
   "source": [
    "pd.DataFrame(zip(X2.columns, rf.feature_importances_)).to_csv(r\"/Users/anupbanerjee/Downloads/Project 3/OnlineNewsPopularity/FI.csv\")\n"
   ]
  },
  {
   "cell_type": "code",
   "execution_count": 119,
   "metadata": {},
   "outputs": [
    {
     "data": {
      "image/png": "[encoded data removed]",
      "text/plain": [
       "<Figure size 864x360 with 4 Axes>"
      ]
     },
     "metadata": {
      "needs_background": "light"
     },
     "output_type": "display_data"
    }
   ],
   "source": [
    "fig,axes = plt.subplots(1,2,figsize = (12,5))\n",
    "sns.heatmap(confusion_matrix(y_test,y_test_pred),fmt = 'd',annot = True, ax = axes[0])\n",
    "sns.heatmap(confusion_matrix(y_train,y_train_pred),fmt = 'd',annot = True,ax = axes[1])\n",
    "#plt.savefig(\"Logistic mean.png\")\n",
    "plt.show()"
   ]
  },
  {
   "cell_type": "code",
   "execution_count": null,
   "metadata": {},
   "outputs": [],
   "source": [
    "### KNN"
   ]
  },
  {
   "cell_type": "code",
   "execution_count": 120,
   "metadata": {},
   "outputs": [
    {
     "name": "stdout",
     "output_type": "stream",
     "text": [
      "Accuracy 0.8888648648648648\n",
      "AUC train 0.9592670250029115\n",
      "F1 train 0.8857185207144447\n",
      "recall 0.9233562543459786\n",
      "Precision 0.8510289824111658\n",
      "\n",
      "\n",
      "Accuracy 0.8188162098537077\n",
      "AUC test 0.8994539522170271\n",
      "F1 test 0.8158591814064771\n",
      "recall 0.8606453939066162\n",
      "Precision 0.7755035737491878\n"
     ]
    }
   ],
   "source": [
    "from sklearn.neighbors import KNeighborsClassifier\n",
    "knn = KNeighborsClassifier()\n",
    "knn.fit(X_train,y_train)\n",
    "y_train_pred = knn.predict(X_train)\n",
    "y_train_prob = knn.predict_proba(X_train)[:,1]\n",
    "y_test_pred = knn.predict(X_test)\n",
    "y_test_prob = knn.predict_proba(X_test)[:,1] \n",
    "\n",
    "print(\"Accuracy\",accuracy_score(y_train,y_train_pred))\n",
    "print(\"AUC train\", roc_auc_score(y_train,y_train_prob))\n",
    "print(\"F1 train\", f1_score(y_train,y_train_pred))\n",
    "print(\"recall\",recall_score(y_train,y_train_pred))\n",
    "print(\"Precision\",precision_score(y_train,y_train_pred))\n",
    "\n",
    "print(\"\\n\")\n",
    "print(\"Accuracy\",accuracy_score(y_test,y_test_pred))\n",
    "print(\"AUC test\",roc_auc_score(y_test,y_test_prob))\n",
    "print(\"F1 test\",f1_score(y_test,y_test_pred))\n",
    "print(\"recall\",recall_score(y_test,y_test_pred))\n",
    "print(\"Precision\",precision_score(y_test,y_test_pred))"
   ]
  },
  {
   "cell_type": "code",
   "execution_count": 138,
   "metadata": {},
   "outputs": [
    {
     "data": {
      "image/png": "[encoded data removed]",
      "text/plain": [
       "<Figure size 864x360 with 4 Axes>"
      ]
     },
     "metadata": {
      "needs_background": "light"
     },
     "output_type": "display_data"
    }
   ],
   "source": [
    "fig,axes = plt.subplots(1,2,figsize = (12,5))\n",
    "sns.heatmap(confusion_matrix(y_test,y_test_pred),fmt = 'd',annot = True, ax = axes[0])\n",
    "sns.heatmap(confusion_matrix(y_train,y_train_pred),fmt = 'd',annot = True,ax = axes[1])\n",
    "plt.savefig(\"Logistic mean.png\")\n",
    "plt.show()"
   ]
  },
  {
   "cell_type": "code",
   "execution_count": null,
   "metadata": {},
   "outputs": [],
   "source": []
  },
  {
   "cell_type": "code",
   "execution_count": null,
   "metadata": {},
   "outputs": [],
   "source": [
    "fig,axes = plt.subplots(1,2,figsize = (12,5))\n",
    "sns.heatmap(confusion_matrix(y_test,y_test_pred),fmt = 'd',annot = True, ax = axes[0])\n",
    "sns.heatmap(confusion_matrix(y_train,y_train_pred),fmt = 'd',annot = True,ax = axes[1])\n",
    "#plt.savefig(\"Logistic mean.png\")\n",
    "plt.show()"
   ]
  },
  {
   "cell_type": "code",
   "execution_count": 361,
   "metadata": {},
   "outputs": [
    {
     "name": "stdout",
     "output_type": "stream",
     "text": [
      "Accuracy 0.9990990990990991\n",
      "AUC train 0.9999935193350612\n",
      "F1 train 0.9990347117649331\n",
      "recall 0.9995364289577378\n",
      "Precision 0.9985334979932078\n",
      "\n",
      "\n",
      "Accuracy 0.9759542626534387\n",
      "AUC test 0.998209153235103\n",
      "F1 test 0.9742852005035065\n",
      "recall 0.9767441860465116\n",
      "Precision 0.9718385650224215\n"
     ]
    }
   ],
   "source": [
    "from xgboost import XGBClassifier\n",
    "\n",
    "XGB = XGBClassifier()\n",
    "XGB.fit(X_train, y_train)\n",
    "\n",
    "\n",
    "y_train_predx = XGB.predict(X_train)\n",
    "y_train_probx = XGB.predict_proba(X_train)[:,1]\n",
    "\n",
    "y_test_predx = XGB.predict(X_test)\n",
    "y_test_probx = XGB.predict_proba(X_test)[:,1]\n",
    "\n",
    "\n",
    "print(\"Accuracy\",accuracy_score(y_train,y_train_predx))\n",
    "print(\"AUC train\", roc_auc_score(y_train,y_train_probx))\n",
    "print(\"F1 train\", f1_score(y_train,y_train_predx))\n",
    "print(\"recall\",recall_score(y_train,y_train_predx))\n",
    "print(\"Precision\",precision_score(y_train,y_train_predx))\n",
    "\n",
    "print(\"\\n\")\n",
    "print(\"Accuracy\",accuracy_score(y_test,y_test_predx))\n",
    "print(\"AUC test\",roc_auc_score(y_test,y_test_probx))\n",
    "print(\"F1 test\",f1_score(y_test,y_test_predx))\n",
    "print(\"recall\",recall_score(y_test,y_test_predx))\n",
    "print(\"Precision\",precision_score(y_test,y_test_predx))"
   ]
  },
  {
   "cell_type": "code",
   "execution_count": 393,
   "metadata": {},
   "outputs": [
    {
     "name": "stdout",
     "output_type": "stream",
     "text": [
      "Fitting 5 folds for each of 5 candidates, totalling 25 fits\n"
     ]
    },
    {
     "name": "stderr",
     "output_type": "stream",
     "text": [
      "[Parallel(n_jobs=-1)]: Using backend LokyBackend with 4 concurrent workers.\n",
      "[Parallel(n_jobs=-1)]: Done  25 out of  25 | elapsed: 10.6min finished\n"
     ]
    },
    {
     "name": "stdout",
     "output_type": "stream",
     "text": [
      "[12:22:11] WARNING: /Users/travis/build/dmlc/xgboost/src/learner.cc:516: \n",
      "Parameters: { silent } might not be used.\n",
      "\n",
      "  This may not be accurate due to some parameters are only used in language bindings but\n",
      "  passed down to XGBoost core.  Or some parameters are not used but slip through this\n",
      "  verification. Please open an issue if you find above cases.\n",
      "\n",
      "\n"
     ]
    },
    {
     "data": {
      "text/plain": [
       "RandomizedSearchCV(cv=<generator object _BaseKFold.split at 0x143005ed0>,\n",
       "                   estimator=XGBClassifier(base_score=None, booster=None,\n",
       "                                           colsample_bylevel=None,\n",
       "                                           colsample_bynode=None,\n",
       "                                           colsample_bytree=None, gamma=None,\n",
       "                                           gpu_id=None, importance_type='gain',\n",
       "                                           interaction_constraints=None,\n",
       "                                           learning_rate=0.02,\n",
       "                                           max_delta_step=None, max_depth=None,\n",
       "                                           min_child_weight=None, missing=na...\n",
       "                                           reg_lambda=None,\n",
       "                                           scale_pos_weight=None, silent=True,\n",
       "                                           subsample=None, tree_method=None,\n",
       "                                           validate_parameters=None,\n",
       "                                           verbosity=None),\n",
       "                   n_iter=5, n_jobs=-1,\n",
       "                   param_distributions={'colsample_bytree': [0.6, 0.8, 1.0],\n",
       "                                        'gamma': [0.5, 1, 1.5, 2, 5],\n",
       "                                        'max_depth': [3, 4, 5],\n",
       "                                        'min_child_weight': [1, 5, 10],\n",
       "                                        'subsample': [0.6, 0.8, 1.0]},\n",
       "                   refit='f1_macro', scoring=['f1_macro', 'precision_macro'],\n",
       "                   verbose=3)"
      ]
     },
     "execution_count": 393,
     "metadata": {},
     "output_type": "execute_result"
    }
   ],
   "source": [
    "from sklearn.model_selection import RandomizedSearchCV, GridSearchCV\n",
    "from sklearn.metrics import roc_auc_score\n",
    "from sklearn.metrics import precision_recall_fscore_support as score\n",
    "from sklearn.model_selection import StratifiedKFold\n",
    "from xgboost import XGBClassifier\n",
    "import time\n",
    "\n",
    "params = {\n",
    "    'min_child_weight': [1, 5, 10],\n",
    "    'gamma': [0.5, 1, 1.5, 2, 5],\n",
    "    'subsample': [0.6, 0.8, 1.0],\n",
    "    'colsample_bytree': [0.6, 0.8, 1.0],\n",
    "    'max_depth': [3, 4, 5]\n",
    "    }\n",
    "\n",
    "\n",
    "\n",
    "xgb = XGBClassifier(learning_rate=0.02, n_estimators=600,\n",
    "                silent=True, nthread=1)\n",
    "\n",
    "folds = 5\n",
    "param_comb = 5\n",
    "\n",
    "skf = StratifiedKFold(n_splits=folds, shuffle = True, random_state = 1001)\n",
    "\n",
    "random_search = RandomizedSearchCV(xgb, param_distributions=params, n_iter=param_comb, \n",
    "                                   scoring=['f1_macro','precision_macro'],\n",
    "                                   n_jobs=-1, cv=skf.split(X2,y), verbose=3, refit = 'f1_macro')\n",
    "\n",
    "\n",
    "random_search.fit(X2, y)"
   ]
  },
  {
   "cell_type": "code",
   "execution_count": 417,
   "metadata": {},
   "outputs": [
    {
     "data": {
      "text/plain": [
       "{'subsample': 0.6,\n",
       " 'min_child_weight': 1,\n",
       " 'max_depth': 5,\n",
       " 'gamma': 2,\n",
       " 'colsample_bytree': 0.6}"
      ]
     },
     "execution_count": 417,
     "metadata": {},
     "output_type": "execute_result"
    }
   ],
   "source": [
    "random_search.best_params_"
   ]
  },
  {
   "cell_type": "code",
   "execution_count": 396,
   "metadata": {},
   "outputs": [
    {
     "name": "stdout",
     "output_type": "stream",
     "text": [
      "[12:36:04] WARNING: /Users/travis/build/dmlc/xgboost/src/learner.cc:516: \n",
      "Parameters: { silent } might not be used.\n",
      "\n",
      "  This may not be accurate due to some parameters are only used in language bindings but\n",
      "  passed down to XGBoost core.  Or some parameters are not used but slip through this\n",
      "  verification. Please open an issue if you find above cases.\n",
      "\n",
      "\n",
      "Accuracy 0.9795315315315315\n",
      "AUC train 0.9987981810370202\n",
      "F1 train 0.9783023913209566\n",
      "recall 0.9893378660279688\n",
      "Precision 0.9675103891197582\n",
      "\n",
      "\n",
      "Accuracy 0.9744408945686901\n",
      "AUC test 0.997905518787573\n",
      "F1 test 0.972876516773733\n",
      "recall 0.98287362538309\n",
      "Precision 0.9630807277866101\n"
     ]
    }
   ],
   "source": [
    "xgb = XGBClassifier(**random_search.best_params_,learning_rate=0.02, n_estimators=600,\n",
    "                silent=True, nthread=1)\n",
    "xgb.fit(X_train,y_train)\n",
    "y_train_predX = xgb.predict(X_train)\n",
    "y_train_probX = xgb.predict_proba(X_train)[:,1]\n",
    "\n",
    "y_test_predX = xgb.predict(X_test)\n",
    "y_test_probX = xgb.predict_proba(X_test)[:,1]\n",
    "\n",
    "print(\"Accuracy\",accuracy_score(y_train,y_train_predX))\n",
    "print(\"AUC train\", roc_auc_score(y_train,y_train_probX))\n",
    "print(\"F1 train\", f1_score(y_train,y_train_predX))\n",
    "print(\"recall\",recall_score(y_train,y_train_predX))\n",
    "print(\"Precision\",precision_score(y_train,y_train_predX))\n",
    "\n",
    "print(\"\\n\")\n",
    "print(\"Accuracy\",accuracy_score(y_test,y_test_predX))\n",
    "print(\"AUC test\",roc_auc_score(y_test,y_test_probX))\n",
    "print(\"F1 test\",f1_score(y_test,y_test_predX))\n",
    "print(\"recall\",recall_score(y_test,y_test_predX))\n",
    "print(\"Precision\",precision_score(y_test,y_test_predX))"
   ]
  },
  {
   "cell_type": "code",
   "execution_count": null,
   "metadata": {},
   "outputs": [],
   "source": []
  },
  {
   "cell_type": "code",
   "execution_count": 397,
   "metadata": {},
   "outputs": [
    {
     "data": {
      "image/png": "[encoded data removed]",
      "text/plain": [
       "<Figure size 864x360 with 4 Axes>"
      ]
     },
     "metadata": {
      "needs_background": "light"
     },
     "output_type": "display_data"
    }
   ],
   "source": [
    "fig,axes = plt.subplots(1,2,figsize = (12,5))\n",
    "sns.heatmap(confusion_matrix(y_test,y_test_predx),fmt = 'd',annot = True, ax = axes[0])\n",
    "sns.heatmap(confusion_matrix(y_train,y_train_predx),fmt = 'd',annot = True,ax = axes[1])\n",
    "plt.savefig(\"XGB CM.png\")\n",
    "plt.show()"
   ]
  },
  {
   "cell_type": "code",
   "execution_count": 398,
   "metadata": {},
   "outputs": [
    {
     "data": {
      "image/png": "[encoded data removed]",
      "text/plain": [
       "<Figure size 432x288 with 1 Axes>"
      ]
     },
     "metadata": {
      "needs_background": "light"
     },
     "output_type": "display_data"
    }
   ],
   "source": [
    "fpr, tpr, thresholds =roc_curve(y_train,y_train_probx)\n",
    "plt.plot(fpr,tpr,\"r\")\n",
    "plt.plot(fpr,fpr,\"g\")\n",
    "plt.xlabel(\"fpr\")\n",
    "plt.ylabel(\"tpr\")\n",
    "plt.title(\"ROC Curve fot XGB Boost\")\n",
    "plt.savefig('ROC Curve fot XGB.png')\n",
    "plt.show()"
   ]
  },
  {
   "cell_type": "code",
   "execution_count": 201,
   "metadata": {},
   "outputs": [],
   "source": [
    "from sklearn.model_selection import StratifiedKFold\n",
    "from sklearn.model_selection import cross_validate\n",
    "from sklearn.metrics import f1_score, make_scorer, roc_auc_score\n",
    "scoring = {'accuracy' : make_scorer(accuracy_score), \n",
    "           'precision' : make_scorer(precision_score),\n",
    "           'recall' : make_scorer(recall_score), \n",
    "           'f1_score' : make_scorer(f1_score),\n",
    "           'AUC' : make_scorer(roc_auc_score)}\n",
    "\n",
    "model = XGBClassifier()\n",
    "kfold = StratifiedKFold(n_splits=10)\n",
    "results = cross_validate(model, X1, y, cv=kfold, scoring = scoring)\n",
    "\n",
    "from sklearn.model_selection import cross_val_predict\n",
    "y_train_pred=cross_val_predict(model, X_train,y_train ,cv=kfold)\n",
    "y_test_pred=cross_val_predict(model, X_test,y_test ,cv=kfold)\n",
    "y_train_proba=cross_val_predict(model, X_train,y_train ,cv=kfold, method = 'predict_proba')\n",
    "y_test_proba=cross_val_predict(model, X_test,y_test ,cv=kfold,method = 'predict_proba')\n"
   ]
  },
  {
   "cell_type": "code",
   "execution_count": 403,
   "metadata": {},
   "outputs": [
    {
     "name": "stdout",
     "output_type": "stream",
     "text": [
      "[15:13:01] WARNING: /Users/travis/build/dmlc/xgboost/src/learner.cc:516: \n",
      "Parameters: { silent } might not be used.\n",
      "\n",
      "  This may not be accurate due to some parameters are only used in language bindings but\n",
      "  passed down to XGBoost core.  Or some parameters are not used but slip through this\n",
      "  verification. Please open an issue if you find above cases.\n",
      "\n",
      "\n",
      "[15:14:10] WARNING: /Users/travis/build/dmlc/xgboost/src/learner.cc:516: \n",
      "Parameters: { silent } might not be used.\n",
      "\n",
      "  This may not be accurate due to some parameters are only used in language bindings but\n",
      "  passed down to XGBoost core.  Or some parameters are not used but slip through this\n",
      "  verification. Please open an issue if you find above cases.\n",
      "\n",
      "\n",
      "[15:15:16] WARNING: /Users/travis/build/dmlc/xgboost/src/learner.cc:516: \n",
      "Parameters: { silent } might not be used.\n",
      "\n",
      "  This may not be accurate due to some parameters are only used in language bindings but\n",
      "  passed down to XGBoost core.  Or some parameters are not used but slip through this\n",
      "  verification. Please open an issue if you find above cases.\n",
      "\n",
      "\n",
      "[15:16:26] WARNING: /Users/travis/build/dmlc/xgboost/src/learner.cc:516: \n",
      "Parameters: { silent } might not be used.\n",
      "\n",
      "  This may not be accurate due to some parameters are only used in language bindings but\n",
      "  passed down to XGBoost core.  Or some parameters are not used but slip through this\n",
      "  verification. Please open an issue if you find above cases.\n",
      "\n",
      "\n",
      "[15:17:30] WARNING: /Users/travis/build/dmlc/xgboost/src/learner.cc:516: \n",
      "Parameters: { silent } might not be used.\n",
      "\n",
      "  This may not be accurate due to some parameters are only used in language bindings but\n",
      "  passed down to XGBoost core.  Or some parameters are not used but slip through this\n",
      "  verification. Please open an issue if you find above cases.\n",
      "\n",
      "\n",
      "[15:18:32] WARNING: /Users/travis/build/dmlc/xgboost/src/learner.cc:516: \n",
      "Parameters: { silent } might not be used.\n",
      "\n",
      "  This may not be accurate due to some parameters are only used in language bindings but\n",
      "  passed down to XGBoost core.  Or some parameters are not used but slip through this\n",
      "  verification. Please open an issue if you find above cases.\n",
      "\n",
      "\n",
      "[15:19:35] WARNING: /Users/travis/build/dmlc/xgboost/src/learner.cc:516: \n",
      "Parameters: { silent } might not be used.\n",
      "\n",
      "  This may not be accurate due to some parameters are only used in language bindings but\n",
      "  passed down to XGBoost core.  Or some parameters are not used but slip through this\n",
      "  verification. Please open an issue if you find above cases.\n",
      "\n",
      "\n",
      "[15:20:41] WARNING: /Users/travis/build/dmlc/xgboost/src/learner.cc:516: \n",
      "Parameters: { silent } might not be used.\n",
      "\n",
      "  This may not be accurate due to some parameters are only used in language bindings but\n",
      "  passed down to XGBoost core.  Or some parameters are not used but slip through this\n",
      "  verification. Please open an issue if you find above cases.\n",
      "\n",
      "\n",
      "[15:21:48] WARNING: /Users/travis/build/dmlc/xgboost/src/learner.cc:516: \n",
      "Parameters: { silent } might not be used.\n",
      "\n",
      "  This may not be accurate due to some parameters are only used in language bindings but\n",
      "  passed down to XGBoost core.  Or some parameters are not used but slip through this\n",
      "  verification. Please open an issue if you find above cases.\n",
      "\n",
      "\n",
      "[15:22:50] WARNING: /Users/travis/build/dmlc/xgboost/src/learner.cc:516: \n",
      "Parameters: { silent } might not be used.\n",
      "\n",
      "  This may not be accurate due to some parameters are only used in language bindings but\n",
      "  passed down to XGBoost core.  Or some parameters are not used but slip through this\n",
      "  verification. Please open an issue if you find above cases.\n",
      "\n",
      "\n"
     ]
    }
   ],
   "source": [
    "from sklearn.model_selection import StratifiedKFold\n",
    "from sklearn.model_selection import cross_validate\n",
    "from sklearn.metrics import f1_score, make_scorer, roc_auc_score\n",
    "scoring = {'accuracy' : make_scorer(accuracy_score), \n",
    "           'precision' : make_scorer(precision_score),\n",
    "           'recall' : make_scorer(recall_score), \n",
    "           'f1_score' : make_scorer(f1_score),\n",
    "           'AUC' : make_scorer(roc_auc_score)}\n",
    "\n",
    "model = XGBClassifier(**random_search.best_params_,learning_rate=0.02, n_estimators=600,silent=True, nthread=1)\n",
    "results = cross_validate(model, X2, y, cv=10, scoring = scoring)\n",
    "print(\"Accuracy: %0.2f (+/- %0.2f)\" % (np.mean(results['test_accuracy']), np.std(results['test_accuracy']) * 2))"
   ]
  },
  {
   "cell_type": "code",
   "execution_count": 439,
   "metadata": {},
   "outputs": [
    {
     "data": {
      "text/plain": [
       "{'fit_time': array([69.25101209, 66.2053051 , 69.17872572, 63.73793197, 62.39188814,\n",
       "        63.07755423, 65.52575803, 66.41166282, 62.42427611, 61.79299593]),\n",
       " 'score_time': array([0.12114286, 0.14272213, 0.23449612, 0.12527204, 0.12439489,\n",
       "        0.12595487, 0.14360213, 0.12520695, 0.12501788, 0.12081981]),\n",
       " 'test_accuracy': array([1.        , 1.        , 0.94249685, 0.95636822, 0.96442987,\n",
       "        0.96241171, 0.96720484, 0.96947528, 0.96266398, 0.94576186]),\n",
       " 'test_precision': array([1.        , 1.        , 0.93834505, 0.92195368, 0.94994731,\n",
       "        0.94736842, 0.95213046, 0.95859873, 0.94598846, 0.89892578]),\n",
       " 'test_recall': array([1.        , 1.        , 0.93834505, 0.99026501, 0.97512169,\n",
       "        0.97349919, 0.97890752, 0.97674419, 0.97566252, 0.99567334]),\n",
       " 'test_f1_score': array([1.        , 1.        , 0.93834505, 0.95488918, 0.9623699 ,\n",
       "        0.96025607, 0.96533333, 0.96758639, 0.96059638, 0.94482936]),\n",
       " 'test_AUC': array([1.        , 1.        , 0.94223491, 0.9585068 , 0.96510221,\n",
       "        0.96310893, 0.96794076, 0.96993238, 0.96348138, 0.9489005 ])}"
      ]
     },
     "execution_count": 439,
     "metadata": {},
     "output_type": "execute_result"
    }
   ],
   "source": [
    "results"
   ]
  },
  {
   "cell_type": "code",
   "execution_count": 440,
   "metadata": {},
   "outputs": [
    {
     "name": "stdout",
     "output_type": "stream",
     "text": [
      "Accuracy: 0.97 (+/- 0.04)\n"
     ]
    }
   ],
   "source": [
    "print(\"Accuracy: %0.2f (+/- %0.2f)\" % (np.mean(results['test_accuracy']), np.std(results['test_accuracy']) * 2))"
   ]
  },
  {
   "cell_type": "code",
   "execution_count": 173,
   "metadata": {},
   "outputs": [],
   "source": [
    "from sklearn.model_selection import cross_validate"
   ]
  },
  {
   "cell_type": "code",
   "execution_count": 202,
   "metadata": {},
   "outputs": [
    {
     "name": "stdout",
     "output_type": "stream",
     "text": [
      "Accuracy 0.9754234234234235\n",
      "AUC train 0.9999961804776689\n",
      "F1 train 0.9737571186701555\n",
      "recall 0.977594066290659\n",
      "Precision 0.9699501724798774\n",
      "\n",
      "\n",
      "Accuracy 0.9733479065074828\n",
      "AUC test 0.9982050063100011\n",
      "F1 test 0.9715414310081695\n",
      "recall 0.9754822426536867\n",
      "Precision 0.9676323319027181\n"
     ]
    }
   ],
   "source": [
    "print(\"Accuracy\",accuracy_score(y_train,y_train_pred))\n",
    "print(\"AUC train\", roc_auc_score(y_train,y_train_prob))\n",
    "print(\"F1 train\", f1_score(y_train,y_train_pred))\n",
    "print(\"recall\",recall_score(y_train,y_train_pred))\n",
    "print(\"Precision\",precision_score(y_train,y_train_pred))\n",
    "\n",
    "print(\"\\n\")\n",
    "print(\"Accuracy\",accuracy_score(y_test,y_test_pred))\n",
    "print(\"AUC test\",roc_auc_score(y_test,y_test_prob))\n",
    "print(\"F1 test\",f1_score(y_test,y_test_pred))\n",
    "print(\"recall\",recall_score(y_test,y_test_pred))\n",
    "print(\"Precision\",precision_score(y_test,y_test_pred))"
   ]
  },
  {
   "cell_type": "code",
   "execution_count": null,
   "metadata": {},
   "outputs": [],
   "source": [
    "from sklearn.metrics import roc_curve\n",
    "fpr, tpr, thresholds =roc_curve(y_train,y_train_prob)\n",
    "plt.plot(fpr,tpr,\"r\")\n",
    "plt.plot(fpr,fpr,\"g\")\n",
    "plt.xlabel(\"fpr\")\n",
    "plt.ylabel(\"tpr\")\n",
    "plt.title(\"RandomForest with RandomizedSearchCV\")\n",
    "plt.savefig('RandomForest with RandomizedSearchCV.png')\n",
    "plt.show()"
   ]
  },
  {
   "cell_type": "code",
   "execution_count": 371,
   "metadata": {},
   "outputs": [],
   "source": [
    "X_best = dfd[['n_tokens_title', 'n_tokens_content', 'n_unique_tokens',\n",
    "       'n_non_stop_unique_tokens', 'num_hrefs', 'num_self_hrefs', 'num_imgs',\n",
    "       'num_videos', 'average_token_length', 'num_keywords',\n",
    "       'data_channel_is_lifestyle', 'data_channel_is_entertainment',\n",
    "       'data_channel_is_bus', 'data_channel_is_socmed', 'data_channel_is_tech',\n",
    "       'data_channel_is_world', 'kw_min_min', 'kw_max_min', 'kw_avg_min',\n",
    "       'kw_min_max', 'kw_avg_max', 'kw_min_avg', 'kw_max_avg', 'kw_avg_avg',\n",
    "       'self_reference_min_shares', 'self_reference_max_shares',\n",
    "       'self_reference_avg_sharess', 'weekday_is_monday', 'weekday_is_tuesday',\n",
    "       'weekday_is_wednesday', 'weekday_is_thursday', 'weekday_is_friday',\n",
    "       'weekday_is_saturday', 'weekday_is_sunday', 'is_weekend', 'LDA_00',\n",
    "       'LDA_01', 'LDA_02', 'LDA_03', 'LDA_04', 'global_subjectivity',\n",
    "       'global_sentiment_polarity', 'global_rate_positive_words',\n",
    "       'global_rate_negative_words', 'rate_positive_words',\n",
    "       'rate_negative_words', 'avg_positive_polarity', 'min_positive_polarity',\n",
    "       'max_positive_polarity', 'avg_negative_polarity',\n",
    "       'min_negative_polarity', 'max_negative_polarity', 'title_subjectivity',\n",
    "       'title_sentiment_polarity', 'abs_title_subjectivity',\n",
    "       'abs_title_sentiment_polarity']]"
   ]
  },
  {
   "cell_type": "code",
   "execution_count": 372,
   "metadata": {},
   "outputs": [
    {
     "data": {
      "text/plain": [
       "(39644, 56)"
      ]
     },
     "execution_count": 372,
     "metadata": {},
     "output_type": "execute_result"
    }
   ],
   "source": [
    "X_best.shape"
   ]
  },
  {
   "cell_type": "code",
   "execution_count": 412,
   "metadata": {},
   "outputs": [
    {
     "data": {
      "text/plain": [
       "{'learning_rate': 0.18465994996693907, 'max_depth': 3, 'n_estimators': 119}"
      ]
     },
     "execution_count": 412,
     "metadata": {},
     "output_type": "execute_result"
    }
   ],
   "source": [
    "import lightgbm as lgb\n",
    "from sklearn.metrics import precision_recall_fscore_support as score\n",
    "from sklearn.model_selection import RandomizedSearchCV\n",
    "from scipy.stats import randint as sp_randint\n",
    "from scipy.stats import uniform as sp_uniform\n",
    "\n",
    "lgbc = lgb.LGBMClassifier(random_state = 3)\n",
    "\n",
    "params = {'n_estimators' :sp_randint(70,200),\n",
    "          'max_depth': sp_randint(1,10),\n",
    "          'learning_rate': sp_uniform(0,0.5)}\n",
    "skf = StratifiedKFold(n_splits=5)\n",
    "rsearch_lgbm = RandomizedSearchCV(lgbc, param_distributions = params, cv = 10, n_iter=10, n_jobs = 2, scoring = ['f1_macro','precision_macro'], refit ='f1_macro')\n",
    "\n",
    "rsearch_lgbm.fit(X2,y)\n",
    "rsearch_lgbm.best_params_"
   ]
  },
  {
   "cell_type": "code",
   "execution_count": 407,
   "metadata": {},
   "outputs": [
    {
     "data": {
      "text/plain": [
       "{'learning_rate': 0.3293374294921441, 'max_depth': 8, 'n_estimators': 141}"
      ]
     },
     "execution_count": 407,
     "metadata": {},
     "output_type": "execute_result"
    }
   ],
   "source": [
    "rsearch_lgbm.best_params_"
   ]
  },
  {
   "cell_type": "code",
   "execution_count": 410,
   "metadata": {},
   "outputs": [],
   "source": [
    "gbc_r = lgb.LGBMClassifier(**rsearch_lgbm.best_params_)\n",
    "gbc_r.fit(X_train,y_train)\n",
    "y_train_predL = gbc_r.predict(X_train)\n",
    "y_train_probL = gbc_r.predict_proba(X_train)[:,1]\n",
    "\n",
    "y_test_predL = gbc_r.predict(X_test)\n",
    "y_test_probL = gbc_r.predict_proba(X_test)[:,1]"
   ]
  },
  {
   "cell_type": "code",
   "execution_count": 413,
   "metadata": {},
   "outputs": [
    {
     "name": "stdout",
     "output_type": "stream",
     "text": [
      "Accuracy 1.0\n",
      "AUC train 1.0\n",
      "F1 train 1.0\n",
      "recall 1.0\n",
      "Precision 1.0\n",
      "\n",
      "\n",
      "Accuracy 0.9742727425592735\n",
      "AUC test 0.9980807973821202\n",
      "F1 test 0.9725363489499192\n",
      "recall 0.9767441860465116\n",
      "Precision 0.9683646112600536\n"
     ]
    }
   ],
   "source": [
    "print(\"Accuracy\",accuracy_score(y_train,y_train_predL))\n",
    "print(\"AUC train\", roc_auc_score(y_train,y_train_probL))\n",
    "print(\"F1 train\", f1_score(y_train,y_train_predL))\n",
    "print(\"recall\",recall_score(y_train,y_train_predL))\n",
    "print(\"Precision\",precision_score(y_train,y_train_predL))\n",
    "\n",
    "print(\"\\n\")\n",
    "print(\"Accuracy\",accuracy_score(y_test,y_test_predL))\n",
    "print(\"AUC test\",roc_auc_score(y_test,y_test_probL))\n",
    "print(\"F1 test\",f1_score(y_test,y_test_predL))\n",
    "print(\"recall\",recall_score(y_test,y_test_predL))\n",
    "print(\"Precision\",precision_score(y_test,y_test_predL))"
   ]
  },
  {
   "cell_type": "code",
   "execution_count": 438,
   "metadata": {},
   "outputs": [
    {
     "data": {
      "text/plain": [
       "{'fit_time': array([69.25101209, 66.2053051 , 69.17872572, 63.73793197, 62.39188814,\n",
       "        63.07755423, 65.52575803, 66.41166282, 62.42427611, 61.79299593]),\n",
       " 'score_time': array([0.12114286, 0.14272213, 0.23449612, 0.12527204, 0.12439489,\n",
       "        0.12595487, 0.14360213, 0.12520695, 0.12501788, 0.12081981]),\n",
       " 'test_accuracy': array([1.        , 1.        , 0.94249685, 0.95636822, 0.96442987,\n",
       "        0.96241171, 0.96720484, 0.96947528, 0.96266398, 0.94576186]),\n",
       " 'test_precision': array([1.        , 1.        , 0.93834505, 0.92195368, 0.94994731,\n",
       "        0.94736842, 0.95213046, 0.95859873, 0.94598846, 0.89892578]),\n",
       " 'test_recall': array([1.        , 1.        , 0.93834505, 0.99026501, 0.97512169,\n",
       "        0.97349919, 0.97890752, 0.97674419, 0.97566252, 0.99567334]),\n",
       " 'test_f1_score': array([1.        , 1.        , 0.93834505, 0.95488918, 0.9623699 ,\n",
       "        0.96025607, 0.96533333, 0.96758639, 0.96059638, 0.94482936]),\n",
       " 'test_AUC': array([1.        , 1.        , 0.94223491, 0.9585068 , 0.96510221,\n",
       "        0.96310893, 0.96794076, 0.96993238, 0.96348138, 0.9489005 ])}"
      ]
     },
     "execution_count": 438,
     "metadata": {},
     "output_type": "execute_result"
    }
   ],
   "source": [
    "results"
   ]
  },
  {
   "cell_type": "code",
   "execution_count": null,
   "metadata": {},
   "outputs": [],
   "source": []
  }
 ],
 "metadata": {
  "kernelspec": {
   "display_name": "Python 3",
   "language": "python",
   "name": "python3"
  },
  "language_info": {
   "codemirror_mode": {
    "name": "ipython",
    "version": 3
   },
   "file_extension": ".py",
   "mimetype": "text/x-python",
   "name": "python",
   "nbconvert_exporter": "python",
   "pygments_lexer": "ipython3",
   "version": "3.7.6"
  }
 },
 "nbformat": 4,
 "nbformat_minor": 4
}
